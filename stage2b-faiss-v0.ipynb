{
 "cells": [
  {
   "cell_type": "code",
   "execution_count": null,
   "metadata": {
    "_cell_guid": "b1076dfc-b9ad-4769-8c92-a6c4dae69d19",
    "_uuid": "8f2839f25d086af736a60e9eeb907d3b93b6e0e5",
    "execution": {
     "iopub.execute_input": "2024-09-09T09:51:56.192860Z",
     "iopub.status.busy": "2024-09-09T09:51:56.192303Z",
     "iopub.status.idle": "2024-09-09T09:52:16.887719Z",
     "shell.execute_reply": "2024-09-09T09:52:16.886049Z",
     "shell.execute_reply.started": "2024-09-09T09:51:56.192801Z"
    }
   },
   "outputs": [],
   "source": [
    "!pip -q install faiss-cpu"
   ]
  },
  {
   "cell_type": "code",
   "execution_count": null,
   "metadata": {
    "execution": {
     "iopub.execute_input": "2024-09-09T09:52:16.890736Z",
     "iopub.status.busy": "2024-09-09T09:52:16.890246Z",
     "iopub.status.idle": "2024-09-09T09:52:16.940792Z",
     "shell.execute_reply": "2024-09-09T09:52:16.939399Z",
     "shell.execute_reply.started": "2024-09-09T09:52:16.890680Z"
    }
   },
   "outputs": [],
   "source": [
    "import faiss"
   ]
  },
  {
   "cell_type": "code",
   "execution_count": null,
   "metadata": {
    "execution": {
     "iopub.execute_input": "2024-09-09T09:52:16.943008Z",
     "iopub.status.busy": "2024-09-09T09:52:16.942535Z",
     "iopub.status.idle": "2024-09-09T09:52:16.959045Z",
     "shell.execute_reply": "2024-09-09T09:52:16.957720Z",
     "shell.execute_reply.started": "2024-09-09T09:52:16.942961Z"
    }
   },
   "outputs": [],
   "source": [
    "import os\n",
    "root = '/kaggle/input/stage2b-encoded-keyframes'\n",
    "shard_files = sorted(os.listdir(root))\n",
    "shard_paths = [os.path.join(root, file) for file in shard_files]\n",
    "shard_paths"
   ]
  },
  {
   "cell_type": "code",
   "execution_count": null,
   "metadata": {
    "execution": {
     "iopub.execute_input": "2024-09-09T09:52:16.963098Z",
     "iopub.status.busy": "2024-09-09T09:52:16.962516Z",
     "iopub.status.idle": "2024-09-09T09:52:20.334645Z",
     "shell.execute_reply": "2024-09-09T09:52:20.333296Z",
     "shell.execute_reply.started": "2024-09-09T09:52:16.963035Z"
    }
   },
   "outputs": [],
   "source": [
    "# Load encoded frames with device mapping\n",
    "import torch\n",
    "\n",
    "# Determine the device to use for model inference\n",
    "device = \"cuda\" if torch.cuda.is_available() else \"cpu\"\n",
    "# Print the selected device (either GPU if available or CPU)\n",
    "print('device: ', device)"
   ]
  },
  {
   "cell_type": "code",
   "execution_count": null,
   "metadata": {
    "execution": {
     "iopub.execute_input": "2024-09-09T09:52:20.337507Z",
     "iopub.status.busy": "2024-09-09T09:52:20.336718Z",
     "iopub.status.idle": "2024-09-09T09:52:20.345991Z",
     "shell.execute_reply": "2024-09-09T09:52:20.344707Z",
     "shell.execute_reply.started": "2024-09-09T09:52:20.337444Z"
    }
   },
   "outputs": [],
   "source": [
    "# Function to add vectors from a shard index to the merged index\n",
    "def add_vectors_from_shard(shard_filename):\n",
    "    \"\"\"\n",
    "    Reads vectors from a shard index file and adds them to the merged index.\n",
    "    :param shard_filename: Path to the shard index file.\n",
    "    \"\"\"\n",
    "    # Load the FAISS index from the shard file\n",
    "    shard_index = faiss.read_index(shard_filename)\n",
    "    # Reconstruct the vectors from the shard index\n",
    "    # `reconstruct_n` returns the vectors for all stored items (from index 0 to ntotal)\n",
    "    vectors = shard_index.reconstruct_n(0, shard_index.ntotal)\n",
    "    # Add the vectors to the merged index\n",
    "    merged_index.add(vectors)"
   ]
  },
  {
   "cell_type": "code",
   "execution_count": null,
   "metadata": {
    "execution": {
     "iopub.execute_input": "2024-09-09T09:52:20.348465Z",
     "iopub.status.busy": "2024-09-09T09:52:20.348025Z",
     "iopub.status.idle": "2024-09-09T09:52:31.693304Z",
     "shell.execute_reply": "2024-09-09T09:52:31.692173Z",
     "shell.execute_reply.started": "2024-09-09T09:52:20.348406Z"
    }
   },
   "outputs": [],
   "source": [
    "%%time\n",
    "\n",
    "import numpy as np\n",
    "\n",
    "# Create a FAISS index (HNSWFlat) for each shard.             Can change this (or benchmark)\n",
    "# Note: HNSW indexing is not implemented on GPU.\n",
    "\n",
    "num_neighbors = 32  # Number of neighbors to link in HNSW\n",
    "\n",
    "# Define the folder to store FAISS index files\n",
    "bin_collection = 'FAISS_index_folder'\n",
    "# Create the folder if it does not exist\n",
    "os.makedirs(bin_collection, exist_ok=True)\n",
    "\n",
    "# Iterate over each shard to create and save an index\n",
    "for i, path in enumerate(shard_paths):\n",
    "    print(f'Working with: {path}')\n",
    "    encoded_frames = torch.load(path, \n",
    "                                map_location=device, \n",
    "                                weights_only=True)\n",
    "    print(f'Number of images: {len(encoded_frames)}')\n",
    "    dimension = encoded_frames.shape[-1]\n",
    "    # Create an HNSWFlat index with the specified dimension and number of neighbors\n",
    "    index_hnsw = faiss.IndexHNSWFlat(dimension, num_neighbors)\n",
    "    # Convert encoded frames to numpy array with float32 type\n",
    "    vector_data = encoded_frames.cpu().numpy().astype(np.float32)\n",
    "    # Add the shard vectors to the FAISS index\n",
    "    index_hnsw.add(vector_data)\n",
    "    # Save the index to a binary file\n",
    "    faiss.write_index(index_hnsw, f\"{bin_collection}/shard_index_hnsw_{i:05d}.bin\")"
   ]
  },
  {
   "cell_type": "code",
   "execution_count": null,
   "metadata": {
    "execution": {
     "iopub.execute_input": "2024-09-09T09:52:31.695019Z",
     "iopub.status.busy": "2024-09-09T09:52:31.694630Z",
     "iopub.status.idle": "2024-09-09T09:52:55.868817Z",
     "shell.execute_reply": "2024-09-09T09:52:55.867705Z",
     "shell.execute_reply.started": "2024-09-09T09:52:31.694972Z"
    }
   },
   "outputs": [],
   "source": [
    "# Merge and store indexes\n",
    "# Collect all `.bin` files in the `bin_collection` directory and sort them\n",
    "shard_filenames = sorted([os.path.join(bin_collection, f) for f in os.listdir(bin_collection) if f.endswith('.bin')])\n",
    "# Load the first index to get the dimension of the vectors and set up the merged index\n",
    "index = faiss.read_index(shard_filenames[0])\n",
    "dimension = index.d  # Get the dimension of the vectors from the index\n",
    "# Create the final merged index using HNSWFlat with the same dimension and number of neighbors\n",
    "merged_index = faiss.IndexHNSWFlat(dimension, num_neighbors)\n",
    "# Iterate over each shard index file and add its vectors to the merged index\n",
    "for shard_filename in shard_filenames:\n",
    "    add_vectors_from_shard(shard_filename)\n",
    "# Save the final merged index to a file\n",
    "faiss.write_index(merged_index, \"merged_index_hnsw_baseline_v0.bin\")"
   ]
  },
  {
   "cell_type": "code",
   "execution_count": null,
   "metadata": {
    "execution": {
     "iopub.execute_input": "2024-09-09T09:52:55.871502Z",
     "iopub.status.busy": "2024-09-09T09:52:55.870567Z",
     "iopub.status.idle": "2024-09-09T09:52:55.878633Z",
     "shell.execute_reply": "2024-09-09T09:52:55.877293Z",
     "shell.execute_reply.started": "2024-09-09T09:52:55.871448Z"
    }
   },
   "outputs": [],
   "source": [
    "roots = ['/kaggle/input/videos-l01/key_frame_folder_videos-l01',\n",
    "         '/kaggle/input/videos-l02/key_frame_folder_videos-l02',\n",
    "         '/kaggle/input/videos-l03/key_frame_folder_videos-l03',\n",
    "         '/kaggle/input/videos-l04/key_frame_folder_videos-l04',\n",
    "         '/kaggle/input/videos-l05/key_frame_folder_videos-l05',\n",
    "         '/kaggle/input/videos-l06/key_frame_folder_videos-l06',\n",
    "         '/kaggle/input/videos-l07/key_frame_folder_videos-l07.',\n",
    "         '/kaggle/input/videos-l08/key_frame_folder_videos-l08',\n",
    "         '/kaggle/input/videos-l09/key_frame_folder_videos-l09',\n",
    "         '/kaggle/input/videos-l10/key_frame_folder_videos-l10',\n",
    "         '/kaggle/input/videos-l11/key_frame_folder_videos-l11',\n",
    "         '/kaggle/input/videos-l12/key_frame_folder_videos-l12',]\n",
    "annotations = ['/kaggle/input/videos-l01/key_frame_folder_videos-l01.json',\n",
    "               '/kaggle/input/videos-l02/key_frame_folder_videos-l02.json',\n",
    "               '/kaggle/input/videos-l03/key_frame_folder_videos-l03.json',\n",
    "               '/kaggle/input/videos-l04/key_frame_folder_videos-l04.json',\n",
    "               '/kaggle/input/videos-l05/key_frame_folder_videos-l05.json',\n",
    "               '/kaggle/input/videos-l06/key_frame_folder_videos-l06.json',\n",
    "               '/kaggle/input/videos-l07/key_frame_folder_videos-l07.json',\n",
    "               '/kaggle/input/videos-l08/key_frame_folder_videos-l08.json',\n",
    "               '/kaggle/input/videos-l09/key_frame_folder_videos-l09.json',\n",
    "               '/kaggle/input/videos-l10/key_frame_folder_videos-l10.json',\n",
    "               '/kaggle/input/videos-l11/key_frame_folder_videos-l11.json',\n",
    "               '/kaggle/input/videos-l12/key_frame_folder_videos-l12.json',\n",
    "              ]"
   ]
  },
  {
   "cell_type": "code",
   "execution_count": null,
   "metadata": {
    "execution": {
     "iopub.execute_input": "2024-09-09T09:52:55.880951Z",
     "iopub.status.busy": "2024-09-09T09:52:55.880454Z",
     "iopub.status.idle": "2024-09-09T09:52:58.635432Z",
     "shell.execute_reply": "2024-09-09T09:52:58.634315Z",
     "shell.execute_reply.started": "2024-09-09T09:52:55.880896Z"
    }
   },
   "outputs": [],
   "source": [
    "import json\n",
    "key_frame_folder = {}\n",
    "i = 0\n",
    "for root, annotation in zip(roots, annotations): \n",
    "    #Load annotation\n",
    "    with open(annotation, 'r') as openfile:\n",
    "        index_caption_hashtag_dict = json.load(openfile)\n",
    "    print(f'Load {annotation}: DONE with total {len(index_caption_hashtag_dict)} images!')\n",
    "    for info in index_caption_hashtag_dict.values():\n",
    "        frame_ID = info['frame_ID']\n",
    "        frame_path = root+info['frame_path'].replace('content', 'kaggle/working') \n",
    "        video_ID = info['video_ID']\n",
    "        timestamp = info['timestamp']\n",
    "        key_frame_folder[str(i)] = {\n",
    "            \"frame_ID\":frame_ID,\n",
    "            \"frame_path\":frame_path,\n",
    "            \"video_ID\":video_ID,\n",
    "            \"timestamp\":timestamp,\n",
    "        }\n",
    "        i+=1\n",
    "with open(f\"image_info_dict.json\", \"w\", encoding='utf-8') as outfile:\n",
    "        json.dump(key_frame_folder, outfile, ensure_ascii=False)\n",
    "print(f'Save new annotation: DONE with total {len(key_frame_folder)} images!')"
   ]
  }
 ],
 "metadata": {
  "kaggle": {
   "accelerator": "none",
   "dataSources": [
    {
     "datasetId": 5650774,
     "sourceId": 9327104,
     "sourceType": "datasetVersion"
    },
    {
     "datasetId": 5650957,
     "sourceId": 9327373,
     "sourceType": "datasetVersion"
    },
    {
     "datasetId": 5653636,
     "sourceId": 9330998,
     "sourceType": "datasetVersion"
    },
    {
     "datasetId": 5653640,
     "sourceId": 9331004,
     "sourceType": "datasetVersion"
    },
    {
     "datasetId": 5654137,
     "sourceId": 9331651,
     "sourceType": "datasetVersion"
    },
    {
     "datasetId": 5654622,
     "sourceId": 9332313,
     "sourceType": "datasetVersion"
    },
    {
     "datasetId": 5663587,
     "sourceId": 9344685,
     "sourceType": "datasetVersion"
    },
    {
     "datasetId": 5664101,
     "sourceId": 9345373,
     "sourceType": "datasetVersion"
    },
    {
     "datasetId": 5664675,
     "sourceId": 9346129,
     "sourceType": "datasetVersion"
    },
    {
     "datasetId": 5666003,
     "sourceId": 9347992,
     "sourceType": "datasetVersion"
    },
    {
     "datasetId": 5666104,
     "sourceId": 9348119,
     "sourceType": "datasetVersion"
    },
    {
     "datasetId": 5666597,
     "sourceId": 9348762,
     "sourceType": "datasetVersion"
    },
    {
     "datasetId": 5667776,
     "sourceId": 9350271,
     "sourceType": "datasetVersion"
    }
   ],
   "dockerImageVersionId": 30761,
   "isGpuEnabled": false,
   "isInternetEnabled": true,
   "language": "python",
   "sourceType": "notebook"
  },
  "kernelspec": {
   "display_name": "Python 3 (ipykernel)",
   "language": "python",
   "name": "python3"
  },
  "language_info": {
   "codemirror_mode": {
    "name": "ipython",
    "version": 3
   },
   "file_extension": ".py",
   "mimetype": "text/x-python",
   "name": "python",
   "nbconvert_exporter": "python",
   "pygments_lexer": "ipython3",
   "version": "3.12.4"
  }
 },
 "nbformat": 4,
 "nbformat_minor": 4
}
