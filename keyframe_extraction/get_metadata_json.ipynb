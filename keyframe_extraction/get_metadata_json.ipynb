{
 "cells": [
  {
   "cell_type": "code",
   "execution_count": 48,
   "metadata": {},
   "outputs": [],
   "source": [
    "import os\n",
    "import json\n",
    "\n",
    "key_frame_folder = '/Users/huyenphung/Desktop/backend/keyframe_infomaton/keyframe'\n",
    "\n",
    "def get_image_paths(single_key_frame_folder, video_ID):\n",
    "    image_video_dict = {}\n",
    "    idx = 0\n",
    "    for img_name in sorted(os.listdir(single_key_frame_folder)):\n",
    "        img_path = os.path.join(single_key_frame_folder, img_name)\n",
    "        frame_timestamp = img_name.replace('.jpg','')\n",
    "        image_video_dict[idx] = {'frame_path': img_path, 'video_ID': video_ID, 'timestamp': frame_timestamp}\n",
    "        idx += 1\n",
    "    return image_video_dict\n",
    "\n",
    "def save_json(data, output_folder, filename):\n",
    "    # Create the output folder if it doesn't exist\n",
    "    if not os.path.exists(output_folder):\n",
    "        os.makedirs(output_folder)\n",
    "    \n",
    "    # Construct the full file path\n",
    "    file_path = os.path.join(output_folder, filename)\n",
    "    \n",
    "    # Save the data as a pretty-printed JSON file\n",
    "    with open(file_path, 'w') as outfile:\n",
    "        json.dump(data, outfile, indent=4)  # Using indent=4 for pretty printing\n",
    "\n",
    "# Loop through all keyframe folders and save a JSON file for each video\n",
    "def process_keyframe_folders(multiple_key_frame_folder, output_folder):\n",
    "    for video in sorted(os.listdir(multiple_key_frame_folder)):\n",
    "        if '_reduced' in video:\n",
    "            continue\n",
    "        video_ID = ''\n",
    "        single_key_frame_folder = os.path.join(multiple_key_frame_folder, video)\n",
    "        \n",
    "        # Get image info for this video\n",
    "        image_info_dict = get_image_paths(single_key_frame_folder, video_ID)\n",
    "        \n",
    "        # Save the dictionary as a JSON file with video name\n",
    "        filename = f'{video}.json'\n",
    "        save_json(image_info_dict, output_folder, filename)\n",
    "\n",
    "# Run the process\n",
    "output_folder = '/Users/huyenphung/Desktop/backend/keyframe_infomaton/annotation'\n",
    "process_keyframe_folders(key_frame_folder, output_folder)\n"
   ]
  }
 ],
 "metadata": {
  "kernelspec": {
   "display_name": "base",
   "language": "python",
   "name": "python3"
  },
  "language_info": {
   "codemirror_mode": {
    "name": "ipython",
    "version": 3
   },
   "file_extension": ".py",
   "mimetype": "text/x-python",
   "name": "python",
   "nbconvert_exporter": "python",
   "pygments_lexer": "ipython3",
   "version": "3.12.4"
  }
 },
 "nbformat": 4,
 "nbformat_minor": 2
}
