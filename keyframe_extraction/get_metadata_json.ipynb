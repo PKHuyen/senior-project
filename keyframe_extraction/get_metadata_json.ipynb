{
 "cells": [
  {
   "cell_type": "code",
   "execution_count": 6,
   "metadata": {},
   "outputs": [],
   "source": [
    "import os\n",
    "import datetime\n",
    "import json"
   ]
  },
  {
   "cell_type": "code",
   "execution_count": 7,
   "metadata": {},
   "outputs": [],
   "source": [
    "key_frame_folder = '/Users/huyenphung/Desktop/backend/keyframe_infomaton/keyframe'"
   ]
  },
  {
   "cell_type": "code",
   "execution_count": 8,
   "metadata": {},
   "outputs": [],
   "source": [
    "def get_image_paths(multiple_key_frame_folder):\n",
    "  image_video_dict = {}\n",
    "  idx = 0\n",
    "  for video in sorted(os.listdir(multiple_key_frame_folder)):\n",
    "      video_ID = video.replace('L00', '')\n",
    "      single_key_frame_folder = os.path.join(multiple_key_frame_folder, video)\n",
    "      for img_name in sorted(os.listdir(single_key_frame_folder)):\n",
    "        img_path = os.path.join(single_key_frame_folder, img_name)\n",
    "        frame_timestamp = img_name.replace('.jpg','')\n",
    "        image_video_dict[idx] = {'frame_path': img_path, 'video_ID': video_ID, 'timestamp': frame_timestamp}\n",
    "        idx+=1\n",
    "  return image_video_dict"
   ]
  },
  {
   "cell_type": "code",
   "execution_count": 9,
   "metadata": {},
   "outputs": [],
   "source": [
    "def save_json(data, output_folder, filename):\n",
    "    # Create the output folder if it doesn't exist\n",
    "    if not os.path.exists(output_folder):\n",
    "        os.makedirs(output_folder)\n",
    "    \n",
    "    # Construct the full file path\n",
    "    file_path = os.path.join(output_folder, filename)\n",
    "    \n",
    "    # Save the data as a JSON file\n",
    "    with open(file_path, 'w') as outfile:\n",
    "        json.dump(data, outfile)\n",
    "    \n",
    "    print(f\"JSON saved to {file_path}\")"
   ]
  },
  {
   "cell_type": "code",
   "execution_count": 10,
   "metadata": {},
   "outputs": [
    {
     "name": "stdout",
     "output_type": "stream",
     "text": [
      "JSON saved to /Users/huyenphung/Desktop/backend/keyframe_infomaton/annotation/L00.json\n"
     ]
    }
   ],
   "source": [
    "#Annotation\n",
    "image_info_dict = get_image_paths(key_frame_folder)\n",
    "# saving the dictionary as a json file\n",
    "data = image_info_dict\n",
    "output_folder = '/Users/huyenphung/Desktop/backend/keyframe_infomaton/annotation'\n",
    "filename = 'L00.json'\n",
    "save_json(data, output_folder, filename)"
   ]
  },
  {
   "cell_type": "code",
   "execution_count": 47,
   "metadata": {},
   "outputs": [],
   "source": []
  }
 ],
 "metadata": {
  "kernelspec": {
   "display_name": "base",
   "language": "python",
   "name": "python3"
  },
  "language_info": {
   "codemirror_mode": {
    "name": "ipython",
    "version": 3
   },
   "file_extension": ".py",
   "mimetype": "text/x-python",
   "name": "python",
   "nbconvert_exporter": "python",
   "pygments_lexer": "ipython3",
   "version": "3.12.4"
  }
 },
 "nbformat": 4,
 "nbformat_minor": 2
}
