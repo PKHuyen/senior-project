{
 "cells": [
  {
   "cell_type": "code",
   "execution_count": 98,
   "metadata": {},
   "outputs": [
    {
     "name": "stdout",
     "output_type": "stream",
     "text": [
      "Keyframes extracted and saved to /Users/huyenphung/Desktop/backend/keyframe_infomaton/keyframe/L00\n"
     ]
    }
   ],
   "source": [
    "import os\n",
    "import subprocess\n",
    "\n",
    "# Set file paths and directories\n",
    "input_video = \"/Users/huyenphung/Desktop/backend/video/L00.mp4\"\n",
    "output_dir = \"/Users/huyenphung/Desktop/backend/keyframe_infomaton/keyframe/L00\"\n",
    "\n",
    "# Create the output directory if it doesn't exist\n",
    "if not os.path.exists(output_dir):\n",
    "    os.makedirs(output_dir)\n",
    "\n",
    "# Step 1: Get the keyframe timestamps using ffprobe\n",
    "ffprobe_command = [\n",
    "    \"/Users/huyenphung/Downloads/ffprobe\", \"-loglevel\", \"error\", \n",
    "    \"-select_streams\", \"v:0\", \"-show_entries\", \"packet=pts_time,flags\", \n",
    "    \"-of\", \"csv=print_section=0\", input_video\n",
    "]\n",
    "\n",
    "# Run the ffprobe command and capture the output\n",
    "ffprobe_result = subprocess.run(ffprobe_command, stdout=subprocess.PIPE, text=True)\n",
    "\n",
    "# Step 2: Filter the keyframes (lines containing \",K\")\n",
    "keyframe_lines = [line.split(\",\")[0] for line in ffprobe_result.stdout.splitlines() if \",K\" in line]\n",
    "\n",
    "# Step 3: Extract keyframes using ffmpeg\n",
    "for index, timestamp in enumerate(keyframe_lines, start=1):\n",
    "    output_image = os.path.join(output_dir, f\"keyframe_{timestamp}.jpg\")\n",
    "    \n",
    "    ffmpeg_command = [\n",
    "        \"ffmpeg\", \"-loglevel\", \"error\", \n",
    "        \"-ss\", timestamp, \"-i\", input_video, \n",
    "        \"-frames:v\", \"1\", output_image\n",
    "    ]\n",
    "    \n",
    "    # Run the ffmpeg command to extract the frame at the given timestamp\n",
    "    subprocess.run(ffmpeg_command)\n",
    "\n",
    "print(f\"Keyframes extracted and saved to {output_dir}\")\n"
   ]
  },
  {
   "cell_type": "code",
   "execution_count": 99,
   "metadata": {},
   "outputs": [],
   "source": [
    "import os\n",
    "import math\n",
    "from PIL import Image\n",
    "\n",
    "def reduce_frame(root, new_root, reduce_ratio=0.5):\n",
    "    for folder in os.listdir(root):\n",
    "        folder_path = os.path.join(root, folder)\n",
    "        new_dir = os.path.join(new_root, folder)\n",
    "        \n",
    "        # Ensure we're only processing directories\n",
    "        if not os.path.isdir(folder_path):\n",
    "            continue\n",
    "\n",
    "        if not os.path.exists(new_dir):\n",
    "            os.makedirs(new_dir)\n",
    "\n",
    "        for frame_path in os.listdir(folder_path):\n",
    "            full_frame_path = os.path.join(folder_path, frame_path)\n",
    "            \n",
    "            # Ensure we're only processing files\n",
    "            if os.path.isfile(full_frame_path) and frame_path.endswith('.jpg'):\n",
    "                frame_name = frame_path.replace('.jpg', '.webp')\n",
    "                image = Image.open(full_frame_path)\n",
    "                \n",
    "                # Get the original size and calculate the new size\n",
    "                x, y = image.size\n",
    "                x_new, y_new = math.floor(x * reduce_ratio), math.floor(y * reduce_ratio)\n",
    "                \n",
    "                # Resize and save the image in .webp format\n",
    "                image = image.resize((x_new, y_new))\n",
    "                image.save(f'{new_dir}/{frame_name}', optimize=True, quality=30, format=\"webp\")\n",
    "                print(f\"Saved: {new_dir}/{frame_name}\")"
   ]
  },
  {
   "cell_type": "code",
   "execution_count": 100,
   "metadata": {},
   "outputs": [
    {
     "name": "stdout",
     "output_type": "stream",
     "text": [
      "Saved: /Users/huyenphung/Desktop/backend/keyframe_infomaton/keyframe/L00_reduced/L00/keyframe_58.825433.webp\n",
      "Saved: /Users/huyenphung/Desktop/backend/keyframe_infomaton/keyframe/L00_reduced/L00/keyframe_77.811067.webp\n",
      "Saved: /Users/huyenphung/Desktop/backend/keyframe_infomaton/keyframe/L00_reduced/L00/keyframe_88.988900.webp\n",
      "Saved: /Users/huyenphung/Desktop/backend/keyframe_infomaton/keyframe/L00_reduced/L00/keyframe_0.000000.webp\n",
      "Saved: /Users/huyenphung/Desktop/backend/keyframe_infomaton/keyframe/L00_reduced/L00/keyframe_3.603600.webp\n",
      "Saved: /Users/huyenphung/Desktop/backend/keyframe_infomaton/keyframe/L00_reduced/L00/keyframe_73.573500.webp\n",
      "Saved: /Users/huyenphung/Desktop/backend/keyframe_infomaton/keyframe/L00_reduced/L00/keyframe_52.952900.webp\n",
      "Saved: /Users/huyenphung/Desktop/backend/keyframe_infomaton/keyframe/L00_reduced/L00/keyframe_36.269567.webp\n",
      "Saved: /Users/huyenphung/Desktop/backend/keyframe_infomaton/keyframe/L00_reduced/L00/keyframe_4.804800.webp\n",
      "Saved: /Users/huyenphung/Desktop/backend/keyframe_infomaton/keyframe/L00_reduced/L00/keyframe_5.739067.webp\n",
      "Saved: /Users/huyenphung/Desktop/backend/keyframe_infomaton/keyframe/L00_reduced/L00/keyframe_19.586233.webp\n",
      "Saved: /Users/huyenphung/Desktop/backend/keyframe_infomaton/keyframe/L00_reduced/L00/keyframe_90.457033.webp\n",
      "Saved: /Users/huyenphung/Desktop/backend/keyframe_infomaton/keyframe/L00_reduced/L00/keyframe_11.244567.webp\n",
      "Saved: /Users/huyenphung/Desktop/backend/keyframe_infomaton/keyframe/L00_reduced/L00/keyframe_67.167100.webp\n",
      "Saved: /Users/huyenphung/Desktop/backend/keyframe_infomaton/keyframe/L00_reduced/L00/keyframe_27.927900.webp\n",
      "Saved: /Users/huyenphung/Desktop/backend/keyframe_infomaton/keyframe/L00_reduced/L00/keyframe_44.611233.webp\n",
      "Saved: /Users/huyenphung/Desktop/backend/keyframe_infomaton/keyframe/L00_reduced/L00/keyframe_86.152733.webp\n",
      "Saved: /Users/huyenphung/Desktop/backend/keyframe_infomaton/keyframe/L00_reduced/L00/keyframe_2.502500.webp\n"
     ]
    }
   ],
   "source": [
    "reduce_frame('/Users/huyenphung/Desktop/backend/keyframe_infomaton/keyframe', '/Users/huyenphung/Desktop/backend/keyframe_infomaton/keyframe/L00_reduced')"
   ]
  }
 ],
 "metadata": {
  "kernelspec": {
   "display_name": "base",
   "language": "python",
   "name": "python3"
  },
  "language_info": {
   "codemirror_mode": {
    "name": "ipython",
    "version": 3
   },
   "file_extension": ".py",
   "mimetype": "text/x-python",
   "name": "python",
   "nbconvert_exporter": "python",
   "pygments_lexer": "ipython3",
   "version": "3.12.4"
  }
 },
 "nbformat": 4,
 "nbformat_minor": 2
}
