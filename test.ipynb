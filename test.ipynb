{
 "cells": [
  {
   "cell_type": "code",
   "execution_count": null,
   "metadata": {},
   "outputs": [],
   "source": [
    "import os\n",
    "import boto3\n",
    "from dotenv import load_dotenv\n",
    "\n",
    "# Load environment variables from .env file\n",
    "load_dotenv()\n",
    "\n",
    "# Now you can access the AWS credentials from environment variables\n",
    "s3 = boto3.client(\n",
    "    's3',\n",
    "    aws_access_key_id=os.getenv('AWS_ACCESS_KEY_ID'),\n",
    "    aws_secret_access_key=os.getenv('AWS_SECRET_ACCESS_KEY'),\n",
    "    region_name=os.getenv('AWS_DEFAULT_REGION')\n",
    ")\n",
    "\n",
    "s3 = boto3.client('s3')\n",
    "\n",
    "# Define S3 bucket details\n",
    "S3_BUCKET_NAME = 'shots-spot'\n",
    "KEYFRAME_DIR = 'keyframe_information/keyframe/Video4/L05'\n",
    "\n",
    "DEFAULT_PATHS = {\n",
    "    'bin_clip_file': 's3://shots-spot/faiss_clip.bin',\n",
    "    'bin_clipv2_file': 's3://shots-spot/faiss_clipv2_cosine.bin',\n",
    "    'json_path': 's3://shots-spot/keyframe_information/annotation/L05.json'\n",
    "}\n",
    "assert os.path.exists(bin_clip_file), f\"{bin_clip_file} does not exist.\""
   ]
  }
 ],
 "metadata": {
  "kernelspec": {
   "display_name": "base",
   "language": "python",
   "name": "python3"
  },
  "language_info": {
   "name": "python",
   "version": "3.12.4"
  }
 },
 "nbformat": 4,
 "nbformat_minor": 2
}
