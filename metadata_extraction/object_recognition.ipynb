{
 "cells": [
  {
   "cell_type": "code",
   "execution_count": 140,
   "metadata": {},
   "outputs": [],
   "source": [
    "import mediapipe as mp\n",
    "import os"
   ]
  },
  {
   "cell_type": "code",
   "execution_count": 141,
   "metadata": {},
   "outputs": [],
   "source": [
    "model_path = '/Users/huyenphung/Downloads/efficientdet_lite0.tflite'\n",
    "keyframes_path = '/Users/huyenphung/Desktop/backend/keyframe_infomaton/keyframe/L00'\n",
    "output_file_path = '/Users/huyenphung/Desktop/backend/keyframe_infomaton/object_metadata/L00'\n",
    "os.makedirs(output_file_path, exist_ok=True)"
   ]
  },
  {
   "cell_type": "code",
   "execution_count": 143,
   "metadata": {},
   "outputs": [
    {
     "name": "stderr",
     "output_type": "stream",
     "text": [
      "I0000 00:00:1727322735.614670 7596786 gl_context.cc:357] GL version: 2.1 (2.1 Metal - 88), renderer: Apple M3 Pro\n",
      "/opt/anaconda3/lib/python3.12/site-packages/google/protobuf/symbol_database.py:55: UserWarning: SymbolDatabase.GetPrototype() is deprecated. Please use message_factory.GetMessageClass() instead. SymbolDatabase.GetPrototype() will be removed soon.\n",
      "  warnings.warn('SymbolDatabase.GetPrototype() is deprecated. Please '\n"
     ]
    },
    {
     "name": "stdout",
     "output_type": "stream",
     "text": [
      "Saved detection result for keyframe_58.825433.jpg to /Users/huyenphung/Desktop/backend/keyframe_infomaton/object_metadata/L00/keyframe_58.825433.json\n",
      "Saved detection result for keyframe_77.811067.jpg to /Users/huyenphung/Desktop/backend/keyframe_infomaton/object_metadata/L00/keyframe_77.811067.json\n",
      "Saved detection result for keyframe_88.988900.jpg to /Users/huyenphung/Desktop/backend/keyframe_infomaton/object_metadata/L00/keyframe_88.988900.json\n",
      "Saved detection result for keyframe_0.000000.jpg to /Users/huyenphung/Desktop/backend/keyframe_infomaton/object_metadata/L00/keyframe_0.000000.json\n",
      "Saved detection result for keyframe_3.603600.jpg to /Users/huyenphung/Desktop/backend/keyframe_infomaton/object_metadata/L00/keyframe_3.603600.json\n",
      "Saved detection result for keyframe_73.573500.jpg to /Users/huyenphung/Desktop/backend/keyframe_infomaton/object_metadata/L00/keyframe_73.573500.json\n",
      "Saved detection result for keyframe_52.952900.jpg to /Users/huyenphung/Desktop/backend/keyframe_infomaton/object_metadata/L00/keyframe_52.952900.json\n",
      "Saved detection result for keyframe_36.269567.jpg to /Users/huyenphung/Desktop/backend/keyframe_infomaton/object_metadata/L00/keyframe_36.269567.json\n",
      "Saved detection result for EasyOCR tutorial Chinese.jpg to /Users/huyenphung/Desktop/backend/keyframe_infomaton/object_metadata/L00/EasyOCR tutorial Chinese.json\n",
      "Saved detection result for keyframe_4.804800.jpg to /Users/huyenphung/Desktop/backend/keyframe_infomaton/object_metadata/L00/keyframe_4.804800.json\n",
      "Saved detection result for keyframe_5.739067.jpg to /Users/huyenphung/Desktop/backend/keyframe_infomaton/object_metadata/L00/keyframe_5.739067.json\n",
      "Saved detection result for keyframe_19.586233.jpg to /Users/huyenphung/Desktop/backend/keyframe_infomaton/object_metadata/L00/keyframe_19.586233.json\n",
      "Saved detection result for keyframe_90.457033.jpg to /Users/huyenphung/Desktop/backend/keyframe_infomaton/object_metadata/L00/keyframe_90.457033.json\n",
      "Saved detection result for keyframe_11.244567.jpg to /Users/huyenphung/Desktop/backend/keyframe_infomaton/object_metadata/L00/keyframe_11.244567.json\n",
      "Saved detection result for keyframe_67.167100.jpg to /Users/huyenphung/Desktop/backend/keyframe_infomaton/object_metadata/L00/keyframe_67.167100.json\n",
      "Saved detection result for keyframe_27.927900.jpg to /Users/huyenphung/Desktop/backend/keyframe_infomaton/object_metadata/L00/keyframe_27.927900.json\n",
      "Saved detection result for keyframe_44.611233.jpg to /Users/huyenphung/Desktop/backend/keyframe_infomaton/object_metadata/L00/keyframe_44.611233.json\n",
      "Saved detection result for keyframe_86.152733.jpg to /Users/huyenphung/Desktop/backend/keyframe_infomaton/object_metadata/L00/keyframe_86.152733.json\n",
      "Saved detection result for keyframe_2.502500.jpg to /Users/huyenphung/Desktop/backend/keyframe_infomaton/object_metadata/L00/keyframe_2.502500.json\n"
     ]
    }
   ],
   "source": [
    "# Initialize MediaPipe object detection components\n",
    "BaseOptions = mp.tasks.BaseOptions\n",
    "ObjectDetector = mp.tasks.vision.ObjectDetector\n",
    "ObjectDetectorOptions = mp.tasks.vision.ObjectDetectorOptions\n",
    "VisionRunningMode = mp.tasks.vision.RunningMode\n",
    "\n",
    "options = ObjectDetectorOptions(\n",
    "    base_options=BaseOptions(model_asset_path=model_path),\n",
    "    max_results=5,\n",
    "    running_mode=VisionRunningMode.IMAGE\n",
    ")\n",
    "with ObjectDetector.create_from_options(options) as detector:\n",
    "    # Loop through all keyframes in the directory\n",
    "    for filename in os.listdir(keyframes_path):\n",
    "        if filename.endswith('.jpg'):\n",
    "            keyframe_path = os.path.join(keyframes_path, filename) \n",
    "            \n",
    "            # Create MediaPipe Image object from the file\n",
    "            try:\n",
    "                mp_image = mp.Image.create_from_file(keyframe_path)\n",
    "            except Exception as e:\n",
    "                print(f\"Error reading image {keyframe_path}: {e}\")\n",
    "                continue  # Skip to the next image if there's an error\n",
    "            \n",
    "            # Run detection on the image\n",
    "            detection_result = detector.detect(mp_image)\n",
    "            \n",
    "            # Convert detection result to a dictionary format\n",
    "            detection_list = []\n",
    "            for detection in detection_result.detections:\n",
    "                detection_data = {\n",
    "                    'bounding_box': {\n",
    "                        'xmin': detection.bounding_box.origin_x,\n",
    "                        'ymin': detection.bounding_box.origin_y,\n",
    "                        'width': detection.bounding_box.width,\n",
    "                        'height': detection.bounding_box.height\n",
    "                    },\n",
    "                    'score': detection.categories[0].score,\n",
    "                    'category_name': detection.categories[0].category_name\n",
    "                }\n",
    "                detection_list.append(detection_data)\n",
    "            \n",
    "            # Write detection results to JSON file\n",
    "            output_path = os.path.join(output_file_path, f'{os.path.splitext(filename)[0]}.json')\n",
    "            with open(output_path, 'w') as output_file:\n",
    "                output_file.write(f'{detection_list}\\n')\n",
    "            \n",
    "            print(f\"Saved detection result for {filename} to {output_path}\")"
   ]
  },
  {
   "cell_type": "code",
   "execution_count": null,
   "metadata": {},
   "outputs": [],
   "source": []
  }
 ],
 "metadata": {
  "kernelspec": {
   "display_name": "base",
   "language": "python",
   "name": "python3"
  },
  "language_info": {
   "codemirror_mode": {
    "name": "ipython",
    "version": 3
   },
   "file_extension": ".py",
   "mimetype": "text/x-python",
   "name": "python",
   "nbconvert_exporter": "python",
   "pygments_lexer": "ipython3",
   "version": "3.12.4"
  }
 },
 "nbformat": 4,
 "nbformat_minor": 2
}
