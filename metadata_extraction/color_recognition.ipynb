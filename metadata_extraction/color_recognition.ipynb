{
 "cells": [
  {
   "cell_type": "code",
   "execution_count": 1,
   "metadata": {},
   "outputs": [
    {
     "name": "stderr",
     "output_type": "stream",
     "text": [
      "100%|██████████| 10/10 [00:00<00:00, 233016.89it/s]\n",
      " 10%|█         | 1/10 [00:00<00:03,  2.35it/s]"
     ]
    },
    {
     "name": "stdout",
     "output_type": "stream",
     "text": [
      "Processed keyframe_1_0.000000.jpg, saved output to /Users/huyenphung/Desktop/senior-project/keyframe_information/color_metadata/Video2/L02/keyframe_1_0.000000.json\n"
     ]
    },
    {
     "name": "stderr",
     "output_type": "stream",
     "text": [
      " 20%|██        | 2/10 [00:00<00:03,  2.53it/s]"
     ]
    },
    {
     "name": "stdout",
     "output_type": "stream",
     "text": [
      "Processed keyframe_7_6.400000.jpg, saved output to /Users/huyenphung/Desktop/senior-project/keyframe_information/color_metadata/Video2/L02/keyframe_7_6.400000.json\n"
     ]
    },
    {
     "name": "stderr",
     "output_type": "stream",
     "text": [
      " 30%|███       | 3/10 [00:01<00:02,  2.52it/s]"
     ]
    },
    {
     "name": "stdout",
     "output_type": "stream",
     "text": [
      "Processed keyframe_9_8.533333.jpg, saved output to /Users/huyenphung/Desktop/senior-project/keyframe_information/color_metadata/Video2/L02/keyframe_9_8.533333.json\n"
     ]
    },
    {
     "name": "stderr",
     "output_type": "stream",
     "text": [
      " 40%|████      | 4/10 [00:01<00:02,  2.76it/s]"
     ]
    },
    {
     "name": "stdout",
     "output_type": "stream",
     "text": [
      "Processed keyframe_5_4.266667.jpg, saved output to /Users/huyenphung/Desktop/senior-project/keyframe_information/color_metadata/Video2/L02/keyframe_5_4.266667.json\n"
     ]
    },
    {
     "name": "stderr",
     "output_type": "stream",
     "text": [
      " 50%|█████     | 5/10 [00:01<00:01,  2.72it/s]"
     ]
    },
    {
     "name": "stdout",
     "output_type": "stream",
     "text": [
      "Processed keyframe_8_7.466667.jpg, saved output to /Users/huyenphung/Desktop/senior-project/keyframe_information/color_metadata/Video2/L02/keyframe_8_7.466667.json\n"
     ]
    },
    {
     "name": "stderr",
     "output_type": "stream",
     "text": [
      " 60%|██████    | 6/10 [00:02<00:01,  2.87it/s]"
     ]
    },
    {
     "name": "stdout",
     "output_type": "stream",
     "text": [
      "Processed keyframe_4_3.200000.jpg, saved output to /Users/huyenphung/Desktop/senior-project/keyframe_information/color_metadata/Video2/L02/keyframe_4_3.200000.json\n"
     ]
    },
    {
     "name": "stderr",
     "output_type": "stream",
     "text": [
      " 70%|███████   | 7/10 [00:02<00:01,  2.60it/s]"
     ]
    },
    {
     "name": "stdout",
     "output_type": "stream",
     "text": [
      "Processed keyframe_2_1.066667.jpg, saved output to /Users/huyenphung/Desktop/senior-project/keyframe_information/color_metadata/Video2/L02/keyframe_2_1.066667.json\n"
     ]
    },
    {
     "name": "stderr",
     "output_type": "stream",
     "text": [
      " 80%|████████  | 8/10 [00:02<00:00,  2.86it/s]"
     ]
    },
    {
     "name": "stdout",
     "output_type": "stream",
     "text": [
      "Processed keyframe_6_5.333333.jpg, saved output to /Users/huyenphung/Desktop/senior-project/keyframe_information/color_metadata/Video2/L02/keyframe_6_5.333333.json\n"
     ]
    },
    {
     "name": "stderr",
     "output_type": "stream",
     "text": [
      " 90%|█████████ | 9/10 [00:03<00:00,  2.97it/s]"
     ]
    },
    {
     "name": "stdout",
     "output_type": "stream",
     "text": [
      "Processed keyframe_10_9.600000.jpg, saved output to /Users/huyenphung/Desktop/senior-project/keyframe_information/color_metadata/Video2/L02/keyframe_10_9.600000.json\n"
     ]
    },
    {
     "name": "stderr",
     "output_type": "stream",
     "text": [
      "100%|██████████| 10/10 [00:03<00:00,  2.78it/s]\n"
     ]
    },
    {
     "name": "stdout",
     "output_type": "stream",
     "text": [
      "Processed keyframe_3_2.133333.jpg, saved output to /Users/huyenphung/Desktop/senior-project/keyframe_information/color_metadata/Video2/L02/keyframe_3_2.133333.json\n"
     ]
    },
    {
     "name": "stderr",
     "output_type": "stream",
     "text": [
      "100%|██████████| 18/18 [00:00<00:00, 78889.73it/s]\n",
      "  6%|▌         | 1/18 [00:00<00:08,  1.96it/s]"
     ]
    },
    {
     "name": "stdout",
     "output_type": "stream",
     "text": [
      "Processed keyframe_1_0.000000.jpg, saved output to /Users/huyenphung/Desktop/senior-project/keyframe_information/color_metadata/Video0/L00/keyframe_1_0.000000.json\n"
     ]
    },
    {
     "name": "stderr",
     "output_type": "stream",
     "text": [
      " 11%|█         | 2/18 [00:01<00:08,  1.89it/s]"
     ]
    },
    {
     "name": "stdout",
     "output_type": "stream",
     "text": [
      "Processed keyframe_2_2.502500.jpg, saved output to /Users/huyenphung/Desktop/senior-project/keyframe_information/color_metadata/Video0/L00/keyframe_2_2.502500.json\n"
     ]
    },
    {
     "name": "stderr",
     "output_type": "stream",
     "text": [
      " 17%|█▋        | 3/18 [00:01<00:07,  1.94it/s]"
     ]
    },
    {
     "name": "stdout",
     "output_type": "stream",
     "text": [
      "Processed keyframe_9_36.269567.jpg, saved output to /Users/huyenphung/Desktop/senior-project/keyframe_information/color_metadata/Video0/L00/keyframe_9_36.269567.json\n"
     ]
    },
    {
     "name": "stderr",
     "output_type": "stream",
     "text": [
      " 22%|██▏       | 4/18 [00:02<00:07,  1.94it/s]"
     ]
    },
    {
     "name": "stdout",
     "output_type": "stream",
     "text": [
      "Processed keyframe_16_86.152733.jpg, saved output to /Users/huyenphung/Desktop/senior-project/keyframe_information/color_metadata/Video0/L00/keyframe_16_86.152733.json\n"
     ]
    },
    {
     "name": "stderr",
     "output_type": "stream",
     "text": [
      " 28%|██▊       | 5/18 [00:02<00:06,  1.92it/s]"
     ]
    },
    {
     "name": "stdout",
     "output_type": "stream",
     "text": [
      "Processed keyframe_17_88.988900.jpg, saved output to /Users/huyenphung/Desktop/senior-project/keyframe_information/color_metadata/Video0/L00/keyframe_17_88.988900.json\n"
     ]
    },
    {
     "name": "stderr",
     "output_type": "stream",
     "text": [
      " 33%|███▎      | 6/18 [00:03<00:06,  1.88it/s]"
     ]
    },
    {
     "name": "stdout",
     "output_type": "stream",
     "text": [
      "Processed keyframe_5_5.739067.jpg, saved output to /Users/huyenphung/Desktop/senior-project/keyframe_information/color_metadata/Video0/L00/keyframe_5_5.739067.json\n"
     ]
    },
    {
     "name": "stderr",
     "output_type": "stream",
     "text": [
      " 39%|███▉      | 7/18 [00:03<00:06,  1.83it/s]"
     ]
    },
    {
     "name": "stdout",
     "output_type": "stream",
     "text": [
      "Processed keyframe_18_90.457033.jpg, saved output to /Users/huyenphung/Desktop/senior-project/keyframe_information/color_metadata/Video0/L00/keyframe_18_90.457033.json\n"
     ]
    },
    {
     "name": "stderr",
     "output_type": "stream",
     "text": [
      " 44%|████▍     | 8/18 [00:04<00:05,  1.79it/s]"
     ]
    },
    {
     "name": "stdout",
     "output_type": "stream",
     "text": [
      "Processed keyframe_7_19.586233.jpg, saved output to /Users/huyenphung/Desktop/senior-project/keyframe_information/color_metadata/Video0/L00/keyframe_7_19.586233.json\n"
     ]
    },
    {
     "name": "stderr",
     "output_type": "stream",
     "text": [
      " 50%|█████     | 9/18 [00:04<00:04,  1.83it/s]"
     ]
    },
    {
     "name": "stdout",
     "output_type": "stream",
     "text": [
      "Processed keyframe_14_73.573500.jpg, saved output to /Users/huyenphung/Desktop/senior-project/keyframe_information/color_metadata/Video0/L00/keyframe_14_73.573500.json\n"
     ]
    },
    {
     "name": "stderr",
     "output_type": "stream",
     "text": [
      " 56%|█████▌    | 10/18 [00:05<00:04,  1.82it/s]"
     ]
    },
    {
     "name": "stdout",
     "output_type": "stream",
     "text": [
      "Processed keyframe_4_4.804800.jpg, saved output to /Users/huyenphung/Desktop/senior-project/keyframe_information/color_metadata/Video0/L00/keyframe_4_4.804800.json\n"
     ]
    },
    {
     "name": "stderr",
     "output_type": "stream",
     "text": [
      " 61%|██████    | 11/18 [00:05<00:03,  1.77it/s]"
     ]
    },
    {
     "name": "stdout",
     "output_type": "stream",
     "text": [
      "Processed keyframe_8_27.927900.jpg, saved output to /Users/huyenphung/Desktop/senior-project/keyframe_information/color_metadata/Video0/L00/keyframe_8_27.927900.json\n"
     ]
    },
    {
     "name": "stderr",
     "output_type": "stream",
     "text": [
      " 67%|██████▋   | 12/18 [00:06<00:03,  1.81it/s]"
     ]
    },
    {
     "name": "stdout",
     "output_type": "stream",
     "text": [
      "Processed keyframe_11_52.952900.jpg, saved output to /Users/huyenphung/Desktop/senior-project/keyframe_information/color_metadata/Video0/L00/keyframe_11_52.952900.json\n"
     ]
    },
    {
     "name": "stderr",
     "output_type": "stream",
     "text": [
      " 72%|███████▏  | 13/18 [00:06<00:02,  1.89it/s]"
     ]
    },
    {
     "name": "stdout",
     "output_type": "stream",
     "text": [
      "Processed keyframe_13_67.167100.jpg, saved output to /Users/huyenphung/Desktop/senior-project/keyframe_information/color_metadata/Video0/L00/keyframe_13_67.167100.json\n"
     ]
    },
    {
     "name": "stderr",
     "output_type": "stream",
     "text": [
      " 78%|███████▊  | 14/18 [00:07<00:02,  1.94it/s]"
     ]
    },
    {
     "name": "stdout",
     "output_type": "stream",
     "text": [
      "Processed keyframe_6_11.244567.jpg, saved output to /Users/huyenphung/Desktop/senior-project/keyframe_information/color_metadata/Video0/L00/keyframe_6_11.244567.json\n"
     ]
    },
    {
     "name": "stderr",
     "output_type": "stream",
     "text": [
      " 83%|████████▎ | 15/18 [00:08<00:01,  1.87it/s]"
     ]
    },
    {
     "name": "stdout",
     "output_type": "stream",
     "text": [
      "Processed keyframe_12_58.825433.jpg, saved output to /Users/huyenphung/Desktop/senior-project/keyframe_information/color_metadata/Video0/L00/keyframe_12_58.825433.json\n"
     ]
    },
    {
     "name": "stderr",
     "output_type": "stream",
     "text": [
      " 89%|████████▉ | 16/18 [00:08<00:01,  1.90it/s]"
     ]
    },
    {
     "name": "stdout",
     "output_type": "stream",
     "text": [
      "Processed keyframe_10_44.611233.jpg, saved output to /Users/huyenphung/Desktop/senior-project/keyframe_information/color_metadata/Video0/L00/keyframe_10_44.611233.json\n"
     ]
    },
    {
     "name": "stderr",
     "output_type": "stream",
     "text": [
      " 94%|█████████▍| 17/18 [00:09<00:00,  1.72it/s]"
     ]
    },
    {
     "name": "stdout",
     "output_type": "stream",
     "text": [
      "Processed keyframe_3_3.603600.jpg, saved output to /Users/huyenphung/Desktop/senior-project/keyframe_information/color_metadata/Video0/L00/keyframe_3_3.603600.json\n"
     ]
    },
    {
     "name": "stderr",
     "output_type": "stream",
     "text": [
      "100%|██████████| 18/18 [00:09<00:00,  1.82it/s]\n"
     ]
    },
    {
     "name": "stdout",
     "output_type": "stream",
     "text": [
      "Processed keyframe_15_77.811067.jpg, saved output to /Users/huyenphung/Desktop/senior-project/keyframe_information/color_metadata/Video0/L00/keyframe_15_77.811067.json\n"
     ]
    },
    {
     "name": "stderr",
     "output_type": "stream",
     "text": [
      "100%|██████████| 57/57 [00:00<00:00, 1897423.24it/s]\n",
      "  2%|▏         | 1/57 [00:00<00:33,  1.68it/s]"
     ]
    },
    {
     "name": "stdout",
     "output_type": "stream",
     "text": [
      "Processed keyframe_2_1.068333.jpg, saved output to /Users/huyenphung/Desktop/senior-project/keyframe_information/color_metadata/Video1/L01/keyframe_2_1.068333.json\n"
     ]
    },
    {
     "name": "stderr",
     "output_type": "stream",
     "text": [
      "  4%|▎         | 2/57 [00:01<00:31,  1.74it/s]"
     ]
    },
    {
     "name": "stdout",
     "output_type": "stream",
     "text": [
      "Processed keyframe_19_19.216667.jpg, saved output to /Users/huyenphung/Desktop/senior-project/keyframe_information/color_metadata/Video1/L01/keyframe_19_19.216667.json\n"
     ]
    },
    {
     "name": "stderr",
     "output_type": "stream",
     "text": [
      "  5%|▌         | 3/57 [00:01<00:30,  1.78it/s]"
     ]
    },
    {
     "name": "stdout",
     "output_type": "stream",
     "text": [
      "Processed keyframe_26_26.690000.jpg, saved output to /Users/huyenphung/Desktop/senior-project/keyframe_information/color_metadata/Video1/L01/keyframe_26_26.690000.json\n"
     ]
    },
    {
     "name": "stderr",
     "output_type": "stream",
     "text": [
      "  7%|▋         | 4/57 [00:02<00:30,  1.74it/s]"
     ]
    },
    {
     "name": "stdout",
     "output_type": "stream",
     "text": [
      "Processed keyframe_1_0.000000.jpg, saved output to /Users/huyenphung/Desktop/senior-project/keyframe_information/color_metadata/Video1/L01/keyframe_1_0.000000.json\n"
     ]
    },
    {
     "name": "stderr",
     "output_type": "stream",
     "text": [
      "  9%|▉         | 5/57 [00:02<00:28,  1.82it/s]"
     ]
    },
    {
     "name": "stdout",
     "output_type": "stream",
     "text": [
      "Processed keyframe_29_29.893333.jpg, saved output to /Users/huyenphung/Desktop/senior-project/keyframe_information/color_metadata/Video1/L01/keyframe_29_29.893333.json\n"
     ]
    },
    {
     "name": "stderr",
     "output_type": "stream",
     "text": [
      " 11%|█         | 6/57 [00:03<00:26,  1.91it/s]"
     ]
    },
    {
     "name": "stdout",
     "output_type": "stream",
     "text": [
      "Processed keyframe_3_2.135000.jpg, saved output to /Users/huyenphung/Desktop/senior-project/keyframe_information/color_metadata/Video1/L01/keyframe_3_2.135000.json\n"
     ]
    },
    {
     "name": "stderr",
     "output_type": "stream",
     "text": [
      " 12%|█▏        | 7/57 [00:03<00:27,  1.81it/s]"
     ]
    },
    {
     "name": "stdout",
     "output_type": "stream",
     "text": [
      "Processed keyframe_38_39.500000.jpg, saved output to /Users/huyenphung/Desktop/senior-project/keyframe_information/color_metadata/Video1/L01/keyframe_38_39.500000.json\n"
     ]
    },
    {
     "name": "stderr",
     "output_type": "stream",
     "text": [
      " 14%|█▍        | 8/57 [00:04<00:27,  1.77it/s]"
     ]
    },
    {
     "name": "stdout",
     "output_type": "stream",
     "text": [
      "Processed keyframe_10_9.608333.jpg, saved output to /Users/huyenphung/Desktop/senior-project/keyframe_information/color_metadata/Video1/L01/keyframe_10_9.608333.json\n"
     ]
    },
    {
     "name": "stderr",
     "output_type": "stream",
     "text": [
      " 16%|█▌        | 9/57 [00:04<00:26,  1.82it/s]"
     ]
    },
    {
     "name": "stdout",
     "output_type": "stream",
     "text": [
      "Processed keyframe_6_5.338333.jpg, saved output to /Users/huyenphung/Desktop/senior-project/keyframe_information/color_metadata/Video1/L01/keyframe_6_5.338333.json\n"
     ]
    },
    {
     "name": "stderr",
     "output_type": "stream",
     "text": [
      " 18%|█▊        | 10/57 [00:05<00:24,  1.89it/s]"
     ]
    },
    {
     "name": "stdout",
     "output_type": "stream",
     "text": [
      "Processed keyframe_20_20.285000.jpg, saved output to /Users/huyenphung/Desktop/senior-project/keyframe_information/color_metadata/Video1/L01/keyframe_20_20.285000.json\n"
     ]
    },
    {
     "name": "stderr",
     "output_type": "stream",
     "text": [
      " 19%|█▉        | 11/57 [00:05<00:24,  1.91it/s]"
     ]
    },
    {
     "name": "stdout",
     "output_type": "stream",
     "text": [
      "Processed keyframe_45_46.973333.jpg, saved output to /Users/huyenphung/Desktop/senior-project/keyframe_information/color_metadata/Video1/L01/keyframe_45_46.973333.json\n"
     ]
    },
    {
     "name": "stderr",
     "output_type": "stream",
     "text": [
      " 21%|██        | 12/57 [00:06<00:24,  1.86it/s]"
     ]
    },
    {
     "name": "stdout",
     "output_type": "stream",
     "text": [
      "Processed keyframe_46_48.040000.jpg, saved output to /Users/huyenphung/Desktop/senior-project/keyframe_information/color_metadata/Video1/L01/keyframe_46_48.040000.json\n"
     ]
    },
    {
     "name": "stderr",
     "output_type": "stream",
     "text": [
      " 23%|██▎       | 13/57 [00:07<00:23,  1.86it/s]"
     ]
    },
    {
     "name": "stdout",
     "output_type": "stream",
     "text": [
      "Processed keyframe_34_35.230000.jpg, saved output to /Users/huyenphung/Desktop/senior-project/keyframe_information/color_metadata/Video1/L01/keyframe_34_35.230000.json\n"
     ]
    },
    {
     "name": "stderr",
     "output_type": "stream",
     "text": [
      " 25%|██▍       | 14/57 [00:07<00:24,  1.76it/s]"
     ]
    },
    {
     "name": "stdout",
     "output_type": "stream",
     "text": [
      "Processed keyframe_32_33.095000.jpg, saved output to /Users/huyenphung/Desktop/senior-project/keyframe_information/color_metadata/Video1/L01/keyframe_32_33.095000.json\n"
     ]
    },
    {
     "name": "stderr",
     "output_type": "stream",
     "text": [
      " 26%|██▋       | 15/57 [00:08<00:25,  1.64it/s]"
     ]
    },
    {
     "name": "stdout",
     "output_type": "stream",
     "text": [
      "Processed keyframe_33_34.161667.jpg, saved output to /Users/huyenphung/Desktop/senior-project/keyframe_information/color_metadata/Video1/L01/keyframe_33_34.161667.json\n"
     ]
    },
    {
     "name": "stderr",
     "output_type": "stream",
     "text": [
      " 28%|██▊       | 16/57 [00:09<00:24,  1.68it/s]"
     ]
    },
    {
     "name": "stdout",
     "output_type": "stream",
     "text": [
      "Processed keyframe_49_51.243333.jpg, saved output to /Users/huyenphung/Desktop/senior-project/keyframe_information/color_metadata/Video1/L01/keyframe_49_51.243333.json\n"
     ]
    },
    {
     "name": "stderr",
     "output_type": "stream",
     "text": [
      " 30%|██▉       | 17/57 [00:09<00:24,  1.61it/s]"
     ]
    },
    {
     "name": "stdout",
     "output_type": "stream",
     "text": [
      "Processed keyframe_56_58.716667.jpg, saved output to /Users/huyenphung/Desktop/senior-project/keyframe_information/color_metadata/Video1/L01/keyframe_56_58.716667.json\n"
     ]
    },
    {
     "name": "stderr",
     "output_type": "stream",
     "text": [
      " 32%|███▏      | 18/57 [00:10<00:23,  1.67it/s]"
     ]
    },
    {
     "name": "stdout",
     "output_type": "stream",
     "text": [
      "Processed keyframe_24_24.555000.jpg, saved output to /Users/huyenphung/Desktop/senior-project/keyframe_information/color_metadata/Video1/L01/keyframe_24_24.555000.json\n"
     ]
    },
    {
     "name": "stderr",
     "output_type": "stream",
     "text": [
      " 33%|███▎      | 19/57 [00:10<00:22,  1.72it/s]"
     ]
    },
    {
     "name": "stdout",
     "output_type": "stream",
     "text": [
      "Processed keyframe_14_13.878333.jpg, saved output to /Users/huyenphung/Desktop/senior-project/keyframe_information/color_metadata/Video1/L01/keyframe_14_13.878333.json\n"
     ]
    },
    {
     "name": "stderr",
     "output_type": "stream",
     "text": [
      " 35%|███▌      | 20/57 [00:11<00:20,  1.80it/s]"
     ]
    },
    {
     "name": "stdout",
     "output_type": "stream",
     "text": [
      "Processed keyframe_23_23.486667.jpg, saved output to /Users/huyenphung/Desktop/senior-project/keyframe_information/color_metadata/Video1/L01/keyframe_23_23.486667.json\n"
     ]
    },
    {
     "name": "stderr",
     "output_type": "stream",
     "text": [
      " 37%|███▋      | 21/57 [00:11<00:18,  1.94it/s]"
     ]
    },
    {
     "name": "stdout",
     "output_type": "stream",
     "text": [
      "Processed keyframe_15_14.946667.jpg, saved output to /Users/huyenphung/Desktop/senior-project/keyframe_information/color_metadata/Video1/L01/keyframe_15_14.946667.json\n"
     ]
    },
    {
     "name": "stderr",
     "output_type": "stream",
     "text": [
      " 39%|███▊      | 22/57 [00:12<00:18,  1.87it/s]"
     ]
    },
    {
     "name": "stdout",
     "output_type": "stream",
     "text": [
      "Processed keyframe_22_22.420000.jpg, saved output to /Users/huyenphung/Desktop/senior-project/keyframe_information/color_metadata/Video1/L01/keyframe_22_22.420000.json\n"
     ]
    },
    {
     "name": "stderr",
     "output_type": "stream",
     "text": [
      " 40%|████      | 23/57 [00:12<00:17,  1.93it/s]"
     ]
    },
    {
     "name": "stdout",
     "output_type": "stream",
     "text": [
      "Processed keyframe_11_10.676667.jpg, saved output to /Users/huyenphung/Desktop/senior-project/keyframe_information/color_metadata/Video1/L01/keyframe_11_10.676667.json\n"
     ]
    },
    {
     "name": "stderr",
     "output_type": "stream",
     "text": [
      " 42%|████▏     | 24/57 [00:13<00:17,  1.91it/s]"
     ]
    },
    {
     "name": "stdout",
     "output_type": "stream",
     "text": [
      "Processed keyframe_13_12.811667.jpg, saved output to /Users/huyenphung/Desktop/senior-project/keyframe_information/color_metadata/Video1/L01/keyframe_13_12.811667.json\n"
     ]
    },
    {
     "name": "stderr",
     "output_type": "stream",
     "text": [
      " 44%|████▍     | 25/57 [00:14<00:18,  1.71it/s]"
     ]
    },
    {
     "name": "stdout",
     "output_type": "stream",
     "text": [
      "Processed keyframe_47_49.108333.jpg, saved output to /Users/huyenphung/Desktop/senior-project/keyframe_information/color_metadata/Video1/L01/keyframe_47_49.108333.json\n"
     ]
    },
    {
     "name": "stderr",
     "output_type": "stream",
     "text": [
      " 46%|████▌     | 26/57 [00:14<00:19,  1.56it/s]"
     ]
    },
    {
     "name": "stdout",
     "output_type": "stream",
     "text": [
      "Processed keyframe_27_27.758333.jpg, saved output to /Users/huyenphung/Desktop/senior-project/keyframe_information/color_metadata/Video1/L01/keyframe_27_27.758333.json\n"
     ]
    },
    {
     "name": "stderr",
     "output_type": "stream",
     "text": [
      " 47%|████▋     | 27/57 [00:15<00:18,  1.60it/s]"
     ]
    },
    {
     "name": "stdout",
     "output_type": "stream",
     "text": [
      "Processed keyframe_57_59.783333.jpg, saved output to /Users/huyenphung/Desktop/senior-project/keyframe_information/color_metadata/Video1/L01/keyframe_57_59.783333.json\n"
     ]
    },
    {
     "name": "stderr",
     "output_type": "stream",
     "text": [
      " 49%|████▉     | 28/57 [00:16<00:18,  1.60it/s]"
     ]
    },
    {
     "name": "stdout",
     "output_type": "stream",
     "text": [
      "Processed keyframe_35_36.296667.jpg, saved output to /Users/huyenphung/Desktop/senior-project/keyframe_information/color_metadata/Video1/L01/keyframe_35_36.296667.json\n"
     ]
    },
    {
     "name": "stderr",
     "output_type": "stream",
     "text": [
      " 51%|█████     | 29/57 [00:16<00:16,  1.71it/s]"
     ]
    },
    {
     "name": "stdout",
     "output_type": "stream",
     "text": [
      "Processed keyframe_55_57.648333.jpg, saved output to /Users/huyenphung/Desktop/senior-project/keyframe_information/color_metadata/Video1/L01/keyframe_55_57.648333.json\n"
     ]
    },
    {
     "name": "stderr",
     "output_type": "stream",
     "text": [
      " 53%|█████▎    | 30/57 [00:17<00:15,  1.72it/s]"
     ]
    },
    {
     "name": "stdout",
     "output_type": "stream",
     "text": [
      "Processed keyframe_44_45.905000.jpg, saved output to /Users/huyenphung/Desktop/senior-project/keyframe_information/color_metadata/Video1/L01/keyframe_44_45.905000.json\n"
     ]
    },
    {
     "name": "stderr",
     "output_type": "stream",
     "text": [
      " 54%|█████▍    | 31/57 [00:17<00:16,  1.55it/s]"
     ]
    },
    {
     "name": "stdout",
     "output_type": "stream",
     "text": [
      "Processed keyframe_51_53.378333.jpg, saved output to /Users/huyenphung/Desktop/senior-project/keyframe_information/color_metadata/Video1/L01/keyframe_51_53.378333.json\n"
     ]
    },
    {
     "name": "stderr",
     "output_type": "stream",
     "text": [
      " 56%|█████▌    | 32/57 [00:18<00:14,  1.68it/s]"
     ]
    },
    {
     "name": "stdout",
     "output_type": "stream",
     "text": [
      "Processed keyframe_5_4.270000.jpg, saved output to /Users/huyenphung/Desktop/senior-project/keyframe_information/color_metadata/Video1/L01/keyframe_5_4.270000.json\n"
     ]
    },
    {
     "name": "stderr",
     "output_type": "stream",
     "text": [
      " 58%|█████▊    | 33/57 [00:18<00:13,  1.78it/s]"
     ]
    },
    {
     "name": "stdout",
     "output_type": "stream",
     "text": [
      "Processed keyframe_16_16.013333.jpg, saved output to /Users/huyenphung/Desktop/senior-project/keyframe_information/color_metadata/Video1/L01/keyframe_16_16.013333.json\n"
     ]
    },
    {
     "name": "stderr",
     "output_type": "stream",
     "text": [
      " 60%|█████▉    | 34/57 [00:19<00:12,  1.82it/s]"
     ]
    },
    {
     "name": "stdout",
     "output_type": "stream",
     "text": [
      "Processed keyframe_40_41.635000.jpg, saved output to /Users/huyenphung/Desktop/senior-project/keyframe_information/color_metadata/Video1/L01/keyframe_40_41.635000.json\n"
     ]
    },
    {
     "name": "stderr",
     "output_type": "stream",
     "text": [
      " 61%|██████▏   | 35/57 [00:19<00:12,  1.78it/s]"
     ]
    },
    {
     "name": "stdout",
     "output_type": "stream",
     "text": [
      "Processed keyframe_54_56.581667.jpg, saved output to /Users/huyenphung/Desktop/senior-project/keyframe_information/color_metadata/Video1/L01/keyframe_54_56.581667.json\n"
     ]
    },
    {
     "name": "stderr",
     "output_type": "stream",
     "text": [
      " 63%|██████▎   | 36/57 [00:20<00:12,  1.69it/s]"
     ]
    },
    {
     "name": "stdout",
     "output_type": "stream",
     "text": [
      "Processed keyframe_53_55.513333.jpg, saved output to /Users/huyenphung/Desktop/senior-project/keyframe_information/color_metadata/Video1/L01/keyframe_53_55.513333.json\n"
     ]
    },
    {
     "name": "stderr",
     "output_type": "stream",
     "text": [
      " 65%|██████▍   | 37/57 [00:21<00:11,  1.75it/s]"
     ]
    },
    {
     "name": "stdout",
     "output_type": "stream",
     "text": [
      "Processed keyframe_8_7.473333.jpg, saved output to /Users/huyenphung/Desktop/senior-project/keyframe_information/color_metadata/Video1/L01/keyframe_8_7.473333.json\n"
     ]
    },
    {
     "name": "stderr",
     "output_type": "stream",
     "text": [
      " 67%|██████▋   | 38/57 [00:21<00:10,  1.87it/s]"
     ]
    },
    {
     "name": "stdout",
     "output_type": "stream",
     "text": [
      "Processed keyframe_43_44.838333.jpg, saved output to /Users/huyenphung/Desktop/senior-project/keyframe_information/color_metadata/Video1/L01/keyframe_43_44.838333.json\n"
     ]
    },
    {
     "name": "stderr",
     "output_type": "stream",
     "text": [
      " 68%|██████▊   | 39/57 [00:22<00:09,  1.93it/s]"
     ]
    },
    {
     "name": "stdout",
     "output_type": "stream",
     "text": [
      "Processed keyframe_50_52.311667.jpg, saved output to /Users/huyenphung/Desktop/senior-project/keyframe_information/color_metadata/Video1/L01/keyframe_50_52.311667.json\n"
     ]
    },
    {
     "name": "stderr",
     "output_type": "stream",
     "text": [
      " 70%|███████   | 40/57 [00:22<00:08,  1.92it/s]"
     ]
    },
    {
     "name": "stdout",
     "output_type": "stream",
     "text": [
      "Processed keyframe_12_11.743333.jpg, saved output to /Users/huyenphung/Desktop/senior-project/keyframe_information/color_metadata/Video1/L01/keyframe_12_11.743333.json\n"
     ]
    },
    {
     "name": "stderr",
     "output_type": "stream",
     "text": [
      " 72%|███████▏  | 41/57 [00:23<00:08,  1.89it/s]"
     ]
    },
    {
     "name": "stdout",
     "output_type": "stream",
     "text": [
      "Processed keyframe_48_50.176667.jpg, saved output to /Users/huyenphung/Desktop/senior-project/keyframe_information/color_metadata/Video1/L01/keyframe_48_50.176667.json\n"
     ]
    },
    {
     "name": "stderr",
     "output_type": "stream",
     "text": [
      " 74%|███████▎  | 42/57 [00:23<00:08,  1.81it/s]"
     ]
    },
    {
     "name": "stdout",
     "output_type": "stream",
     "text": [
      "Processed keyframe_9_8.540000.jpg, saved output to /Users/huyenphung/Desktop/senior-project/keyframe_information/color_metadata/Video1/L01/keyframe_9_8.540000.json\n"
     ]
    },
    {
     "name": "stderr",
     "output_type": "stream",
     "text": [
      " 75%|███████▌  | 43/57 [00:24<00:07,  1.78it/s]"
     ]
    },
    {
     "name": "stdout",
     "output_type": "stream",
     "text": [
      "Processed keyframe_37_38.431667.jpg, saved output to /Users/huyenphung/Desktop/senior-project/keyframe_information/color_metadata/Video1/L01/keyframe_37_38.431667.json\n"
     ]
    },
    {
     "name": "stderr",
     "output_type": "stream",
     "text": [
      " 77%|███████▋  | 44/57 [00:24<00:07,  1.77it/s]"
     ]
    },
    {
     "name": "stdout",
     "output_type": "stream",
     "text": [
      "Processed keyframe_25_25.623333.jpg, saved output to /Users/huyenphung/Desktop/senior-project/keyframe_information/color_metadata/Video1/L01/keyframe_25_25.623333.json\n"
     ]
    },
    {
     "name": "stderr",
     "output_type": "stream",
     "text": [
      " 79%|███████▉  | 45/57 [00:25<00:06,  1.73it/s]"
     ]
    },
    {
     "name": "stdout",
     "output_type": "stream",
     "text": [
      "Processed keyframe_4_3.203333.jpg, saved output to /Users/huyenphung/Desktop/senior-project/keyframe_information/color_metadata/Video1/L01/keyframe_4_3.203333.json\n"
     ]
    },
    {
     "name": "stderr",
     "output_type": "stream",
     "text": [
      " 81%|████████  | 46/57 [00:25<00:06,  1.82it/s]"
     ]
    },
    {
     "name": "stdout",
     "output_type": "stream",
     "text": [
      "Processed keyframe_21_21.351667.jpg, saved output to /Users/huyenphung/Desktop/senior-project/keyframe_information/color_metadata/Video1/L01/keyframe_21_21.351667.json\n"
     ]
    },
    {
     "name": "stderr",
     "output_type": "stream",
     "text": [
      " 82%|████████▏ | 47/57 [00:26<00:05,  1.83it/s]"
     ]
    },
    {
     "name": "stdout",
     "output_type": "stream",
     "text": [
      "Processed keyframe_36_37.365000.jpg, saved output to /Users/huyenphung/Desktop/senior-project/keyframe_information/color_metadata/Video1/L01/keyframe_36_37.365000.json\n"
     ]
    },
    {
     "name": "stderr",
     "output_type": "stream",
     "text": [
      " 84%|████████▍ | 48/57 [00:27<00:04,  1.88it/s]"
     ]
    },
    {
     "name": "stdout",
     "output_type": "stream",
     "text": [
      "Processed keyframe_18_18.148333.jpg, saved output to /Users/huyenphung/Desktop/senior-project/keyframe_information/color_metadata/Video1/L01/keyframe_18_18.148333.json\n"
     ]
    },
    {
     "name": "stderr",
     "output_type": "stream",
     "text": [
      " 86%|████████▌ | 49/57 [00:27<00:04,  1.86it/s]"
     ]
    },
    {
     "name": "stdout",
     "output_type": "stream",
     "text": [
      "Processed keyframe_52_54.446667.jpg, saved output to /Users/huyenphung/Desktop/senior-project/keyframe_information/color_metadata/Video1/L01/keyframe_52_54.446667.json\n"
     ]
    },
    {
     "name": "stderr",
     "output_type": "stream",
     "text": [
      " 88%|████████▊ | 50/57 [00:28<00:03,  1.77it/s]"
     ]
    },
    {
     "name": "stdout",
     "output_type": "stream",
     "text": [
      "Processed keyframe_28_28.825000.jpg, saved output to /Users/huyenphung/Desktop/senior-project/keyframe_information/color_metadata/Video1/L01/keyframe_28_28.825000.json\n"
     ]
    },
    {
     "name": "stderr",
     "output_type": "stream",
     "text": [
      " 89%|████████▉ | 51/57 [00:28<00:03,  1.89it/s]"
     ]
    },
    {
     "name": "stdout",
     "output_type": "stream",
     "text": [
      "Processed keyframe_42_43.770000.jpg, saved output to /Users/huyenphung/Desktop/senior-project/keyframe_information/color_metadata/Video1/L01/keyframe_42_43.770000.json\n"
     ]
    },
    {
     "name": "stderr",
     "output_type": "stream",
     "text": [
      " 91%|█████████ | 52/57 [00:29<00:02,  1.74it/s]"
     ]
    },
    {
     "name": "stdout",
     "output_type": "stream",
     "text": [
      "Processed keyframe_7_6.405000.jpg, saved output to /Users/huyenphung/Desktop/senior-project/keyframe_information/color_metadata/Video1/L01/keyframe_7_6.405000.json\n"
     ]
    },
    {
     "name": "stderr",
     "output_type": "stream",
     "text": [
      " 93%|█████████▎| 53/57 [00:30<00:02,  1.58it/s]"
     ]
    },
    {
     "name": "stdout",
     "output_type": "stream",
     "text": [
      "Processed keyframe_41_42.703333.jpg, saved output to /Users/huyenphung/Desktop/senior-project/keyframe_information/color_metadata/Video1/L01/keyframe_41_42.703333.json\n"
     ]
    },
    {
     "name": "stderr",
     "output_type": "stream",
     "text": [
      " 95%|█████████▍| 54/57 [00:30<00:01,  1.63it/s]"
     ]
    },
    {
     "name": "stdout",
     "output_type": "stream",
     "text": [
      "Processed keyframe_17_17.081667.jpg, saved output to /Users/huyenphung/Desktop/senior-project/keyframe_information/color_metadata/Video1/L01/keyframe_17_17.081667.json\n"
     ]
    },
    {
     "name": "stderr",
     "output_type": "stream",
     "text": [
      " 96%|█████████▋| 55/57 [00:31<00:01,  1.60it/s]"
     ]
    },
    {
     "name": "stdout",
     "output_type": "stream",
     "text": [
      "Processed keyframe_30_30.960000.jpg, saved output to /Users/huyenphung/Desktop/senior-project/keyframe_information/color_metadata/Video1/L01/keyframe_30_30.960000.json\n"
     ]
    },
    {
     "name": "stderr",
     "output_type": "stream",
     "text": [
      " 98%|█████████▊| 56/57 [00:31<00:00,  1.74it/s]"
     ]
    },
    {
     "name": "stdout",
     "output_type": "stream",
     "text": [
      "Processed keyframe_39_40.568333.jpg, saved output to /Users/huyenphung/Desktop/senior-project/keyframe_information/color_metadata/Video1/L01/keyframe_39_40.568333.json\n"
     ]
    },
    {
     "name": "stderr",
     "output_type": "stream",
     "text": [
      "100%|██████████| 57/57 [00:32<00:00,  1.77it/s]"
     ]
    },
    {
     "name": "stdout",
     "output_type": "stream",
     "text": [
      "Processed keyframe_31_32.028333.jpg, saved output to /Users/huyenphung/Desktop/senior-project/keyframe_information/color_metadata/Video1/L01/keyframe_31_32.028333.json\n"
     ]
    },
    {
     "name": "stderr",
     "output_type": "stream",
     "text": [
      "\n"
     ]
    }
   ],
   "source": [
    "import os\n",
    "import cv2\n",
    "import json\n",
    "import numpy as np\n",
    "from tqdm import tqdm\n",
    "from sklearn.cluster import KMeans\n",
    "from skimage.color import rgb2lab, deltaE_cie76\n",
    "\n",
    "# Predefined color palette\n",
    "color_palette = {\n",
    "    'black': [0, 0, 0],\n",
    "    'blue': [0, 0, 255],\n",
    "    'brown': [150, 75, 0],\n",
    "    'green': [0, 128, 0],\n",
    "    'grey': [128, 128, 128],\n",
    "    'orange': [255, 165, 0],\n",
    "    'pink': [255, 192, 203],\n",
    "    'purple': [128, 0, 128],\n",
    "    'red': [255, 0, 0],\n",
    "    'white': [255, 255, 255],\n",
    "    'yellow': [255, 255, 0]\n",
    "}\n",
    "\n",
    "# Convert RGB palette to LAB for accurate color matching\n",
    "palette_lab = {name: rgb2lab(np.uint8([[rgb]])) for name, rgb in color_palette.items()}\n",
    "\n",
    "# Helper function to find the closest color in the palette\n",
    "def get_closest_color_name(lab_color):\n",
    "    min_distance = float('inf')\n",
    "    closest_color = None\n",
    "    for color_name, color_lab in palette_lab.items():\n",
    "        distance = deltaE_cie76(lab_color, color_lab)\n",
    "        if distance < min_distance:\n",
    "            min_distance = distance\n",
    "            closest_color = color_name\n",
    "    return closest_color\n",
    "\n",
    "# Function to extract dominant colors and compute bounding boxes for each cluster\n",
    "def extract_dominant_colors_and_bboxes(image, num_clusters=5):\n",
    "    h, w, _ = image.shape\n",
    "\n",
    "    # Reshape image into a list of pixels\n",
    "    reshaped_image = image.reshape((-1, 3))\n",
    "\n",
    "    # Use KMeans to cluster the pixel colors\n",
    "    kmeans = KMeans(n_clusters=num_clusters, random_state=42)\n",
    "    kmeans.fit(reshaped_image)\n",
    "\n",
    "    # Get the labels for each pixel and the cluster centers (dominant colors)\n",
    "    labels = kmeans.labels_\n",
    "    dominant_colors = kmeans.cluster_centers_.astype(int)\n",
    "\n",
    "    # Convert dominant colors to LAB space for accurate matching\n",
    "    dominant_colors_lab = rgb2lab(np.uint8([[dominant_colors]]).reshape(-1, 1, 3))\n",
    "\n",
    "    # Find the closest color name for each dominant color\n",
    "    color_names = [get_closest_color_name(color) for color in dominant_colors_lab]\n",
    "\n",
    "    # Initialize list to store bounding boxes for each dominant color\n",
    "    bounding_boxes = []\n",
    "\n",
    "    # Iterate over each cluster (dominant color)\n",
    "    for cluster_idx in range(num_clusters):\n",
    "        # Get the indices of pixels that belong to the current cluster\n",
    "        cluster_pixels = np.where(labels == cluster_idx)[0]\n",
    "\n",
    "        # Convert the flat pixel indices to 2D coordinates (y, x)\n",
    "        pixel_y = cluster_pixels // w\n",
    "        pixel_x = cluster_pixels % w\n",
    "\n",
    "        # Calculate the bounding box around the cluster's pixels\n",
    "        xmin, xmax = pixel_x.min(), pixel_x.max()\n",
    "        ymin, ymax = pixel_y.min(), pixel_y.max()\n",
    "\n",
    "        # Add the bounding box and the corresponding color name to the list\n",
    "        bounding_boxes.append({\n",
    "            \"bounding_box\": {\n",
    "                \"xmin\": int(xmin),\n",
    "                \"ymin\": int(ymin),\n",
    "                \"width\": int(xmax - xmin),\n",
    "                \"height\": int(ymax - ymin)\n",
    "            },\n",
    "            \"color_name\": color_names[cluster_idx]\n",
    "        })\n",
    "\n",
    "    return bounding_boxes\n",
    "\n",
    "# Function to save the bounding boxes and dominant colors of the image to JSON\n",
    "def save_dominant_colors_to_json(image, output_path, num_clusters=5):\n",
    "    # Extract the bounding boxes and dominant colors\n",
    "    bounding_boxes = extract_dominant_colors_and_bboxes(image, num_clusters=num_clusters)\n",
    "\n",
    "    # Prepare JSON output\n",
    "    json_data = {\n",
    "        \"dominant_colors_bounding_boxes\": bounding_boxes\n",
    "    }\n",
    "\n",
    "    # Save the JSON to the output file\n",
    "    with open(output_path, 'w') as f:\n",
    "        json.dump(json_data, f, indent=4)\n",
    "\n",
    "# Function to process all images in a directory\n",
    "def process_images_in_directory(input_base_dir, output_base_dir, num_clusters=5):\n",
    "    # Ensure the output base directory exists\n",
    "    os.makedirs(output_base_dir, exist_ok=True)\n",
    "\n",
    "    # Loop through each video folder in the input base directory\n",
    "    for video_folder in os.listdir(input_base_dir):\n",
    "        video_folder_path = os.path.join(input_base_dir, video_folder)\n",
    "        \n",
    "        if os.path.isdir(video_folder_path) and '_reduced' not in video_folder:\n",
    "            # Loop through each keyframe subfolder in the video folder\n",
    "            for keyframe_subfolder in os.listdir(video_folder_path):\n",
    "                keyframe_subfolder_path = os.path.join(video_folder_path, keyframe_subfolder)\n",
    "                \n",
    "                if os.path.isdir(keyframe_subfolder_path):\n",
    "                    # Loop through all images in the keyframe subfolder\n",
    "                    for image_filename in tqdm(os.listdir(keyframe_subfolder_path)):\n",
    "                        if image_filename.endswith(('.jpg', '.png', '.jpeg')):  # Check for valid image extensions\n",
    "                            image_path = os.path.join(keyframe_subfolder_path, image_filename)\n",
    "                            image = cv2.imread(image_path)\n",
    "                            image = cv2.cvtColor(image, cv2.COLOR_BGR2RGB)\n",
    "\n",
    "                            # Generate the JSON output path for the current image\n",
    "                            output_json_path = os.path.join(output_base_dir, video_folder, keyframe_subfolder)\n",
    "                            os.makedirs(output_json_path, exist_ok=True)\n",
    "                            output_json_path = os.path.join(output_json_path, os.path.splitext(image_filename)[0] + '.json')\n",
    "\n",
    "                            # Process the image and save the results in JSON format\n",
    "                            save_dominant_colors_to_json(image, output_json_path, num_clusters=num_clusters)\n",
    "                            print(f\"Processed {image_filename}, saved output to {output_json_path}\")\n",
    "\n",
    "# Example usage: Set the input and output directories\n",
    "input_directory = '/Users/huyenphung/Desktop/senior-project/keyframe_information/keyframe'\n",
    "output_directory = '/Users/huyenphung/Desktop/senior-project/keyframe_information/color_metadata'\n",
    "\n",
    "# Process all images in the directory and produce JSON files with bounding boxes around color clusters\n",
    "process_images_in_directory(input_directory, output_directory, num_clusters=5)\n"
   ]
  },
  {
   "cell_type": "code",
   "execution_count": null,
   "metadata": {},
   "outputs": [],
   "source": []
  }
 ],
 "metadata": {
  "kernelspec": {
   "display_name": "base",
   "language": "python",
   "name": "python3"
  },
  "language_info": {
   "codemirror_mode": {
    "name": "ipython",
    "version": 3
   },
   "file_extension": ".py",
   "mimetype": "text/x-python",
   "name": "python",
   "nbconvert_exporter": "python",
   "pygments_lexer": "ipython3",
   "version": "3.12.4"
  },
  "orig_nbformat": 4
 },
 "nbformat": 4,
 "nbformat_minor": 2
}
