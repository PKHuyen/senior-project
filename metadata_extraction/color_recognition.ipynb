{
 "cells": [
  {
   "cell_type": "code",
   "execution_count": null,
   "metadata": {},
   "outputs": [
    {
     "ename": "",
     "evalue": "",
     "output_type": "error",
     "traceback": [
      "\u001b[1;31mFailed to start the Kernel. \n",
      "\u001b[1;31mJupyter server crashed. Unable to connect. \n",
      "\u001b[1;31mError code from Jupyter: 1\n",
      "\u001b[1;31m/Users/vihuynh1301/opt/anaconda3/bin/python: No module named jupyter. \n",
      "\u001b[1;31mView Jupyter <a href='command:jupyter.viewOutput'>log</a> for further details."
     ]
    }
   ],
   "source": [
    "import os\n",
    "import glob\n",
    "import torch\n",
    "import numpy as np\n",
    "import matplotlib.pyplot as plt\n",
    "from tqdm import tqdm\n",
    "from sklearn.cluster import KMeans"
   ]
  },
  {
   "cell_type": "code",
   "execution_count": null,
   "metadata": {},
   "outputs": [
    {
     "ename": "",
     "evalue": "",
     "output_type": "error",
     "traceback": [
      "\u001b[1;31mFailed to start the Kernel. \n",
      "\u001b[1;31mJupyter server crashed. Unable to connect. \n",
      "\u001b[1;31mError code from Jupyter: 1\n",
      "\u001b[1;31m/Users/vihuynh1301/opt/anaconda3/bin/python: No module named jupyter. \n",
      "\u001b[1;31mView Jupyter <a href='command:jupyter.viewOutput'>log</a> for further details."
     ]
    }
   ],
   "source": [
    "# Directory containing the keyframes\n",
    "keyframes_dir = '/Users/vihuynh1301/Documents/GitHub/SeniorProject/keyframe_infomaton/keyframe'\n",
    "all_keyframe_paths = dict()\n",
    "\n",
    "# Parsing keyframe paths\n",
    "for part in sorted(os.listdir(keyframes_dir)):\n",
    "    data_part = part.split('_')[0]  # e.g., \"part_01\" -> \"part\"\n",
    "    all_keyframe_paths[data_part] = dict()\n",
    "\n",
    "for data_part in sorted(all_keyframe_paths.keys()):\n",
    "    data_part_path = f'{keyframes_dir}/{data_part}'\n",
    "    video_dirs = sorted(os.listdir(data_part_path))\n",
    "    video_ids = [video_dir.split('_')[-1] for video_dir in video_dirs]\n",
    "    for video_id, video_dir in zip(video_ids, video_dirs):\n",
    "        keyframe_paths = sorted(glob.glob(f'{data_part_path}/{video_dir}/*.jpg'))\n",
    "        all_keyframe_paths[data_part][video_id] = keyframe_paths"
   ]
  },
  {
   "cell_type": "code",
   "execution_count": null,
   "metadata": {},
   "outputs": [
    {
     "ename": "",
     "evalue": "",
     "output_type": "error",
     "traceback": [
      "\u001b[1;31mFailed to start the Kernel. \n",
      "\u001b[1;31mJupyter server crashed. Unable to connect. \n",
      "\u001b[1;31mError code from Jupyter: 1\n",
      "\u001b[1;31m/Users/vihuynh1301/opt/anaconda3/bin/python: No module named jupyter. \n",
      "\u001b[1;31mView Jupyter <a href='command:jupyter.viewOutput'>log</a> for further details."
     ]
    }
   ],
   "source": [
    "# Custom color palette (you can adjust it as per your requirement)\n",
    "color_palette = {\n",
    "    'black': [0, 0, 0],\n",
    "    'blue': [0, 0, 255],\n",
    "    'brown': [150, 75, 0],\n",
    "    'green': [0, 128, 0],\n",
    "    'grey': [128, 128, 128],\n",
    "    'orange': [255, 165, 0],\n",
    "    'pink': [255, 192, 203],\n",
    "    'purple': [128, 0, 128],\n",
    "    'red': [255, 0, 0],\n",
    "    'white': [255, 255, 255],\n",
    "    'yellow': [255, 255, 0]\n",
    "}\n",
    "\n",
    "# Helper function to match RGB values to the closest color in the palette\n",
    "def get_closest_color_name(r, g, b):\n",
    "    min_distance = float('inf')\n",
    "    closest_color = None\n",
    "\n",
    "    for color_name, color_rgb in color_palette.items():\n",
    "        distance = (r - color_rgb[0]) ** 2 + (g - color_rgb[1]) ** 2 + (b - color_rgb[2]) ** 2\n",
    "        if distance < min_distance:\n",
    "            min_distance = distance\n",
    "            closest_color = color_name\n",
    "\n",
    "    return closest_color\n",
    "\n",
    "# Function to extract dominant colors using K-Means clustering\n",
    "def get_image_colors(image_path, num_clusters=5):\n",
    "    image = cv2.imread(image_path)\n",
    "    image = cv2.cvtColor(image, cv2.COLOR_BGR2RGB)\n",
    "    image = image.reshape((image.shape[0] * image.shape[1], 3))  # Reshape the image to be a list of pixels\n",
    "\n",
    "    # Use KMeans to cluster pixel colors\n",
    "    kmeans = KMeans(n_clusters=num_clusters)\n",
    "    kmeans.fit(image)\n",
    "\n",
    "    dominant_colors = kmeans.cluster_centers_.astype(int)\n",
    "\n",
    "    # Map the dominant colors to the closest colors in the custom palette\n",
    "    color_context = [get_closest_color_name(r, g, b) for r, g, b in dominant_colors]\n",
    "    \n",
    "    return color_context"
   ]
  },
  {
   "cell_type": "code",
   "execution_count": null,
   "metadata": {},
   "outputs": [
    {
     "ename": "",
     "evalue": "",
     "output_type": "error",
     "traceback": [
      "\u001b[1;31mFailed to start the Kernel. \n",
      "\u001b[1;31mJupyter server crashed. Unable to connect. \n",
      "\u001b[1;31mError code from Jupyter: 1\n",
      "\u001b[1;31m/Users/vihuynh1301/opt/anaconda3/bin/python: No module named jupyter. \n",
      "\u001b[1;31mView Jupyter <a href='command:jupyter.viewOutput'>log</a> for further details."
     ]
    }
   ],
   "source": [
    "# Create output directories\n",
    "save_dir_all = 'context_encoded'\n",
    "if not os.path.exists(save_dir_all):\n",
    "    os.mkdir(save_dir_all)\n",
    "\n",
    "save_dir = f'{save_dir_all}/colors_encoded'\n",
    "if not os.path.exists(save_dir):\n",
    "    os.mkdir(save_dir)\n",
    "\n",
    "# Main loop to process keyframes and extract color context\n",
    "for key, video_keyframe_paths in tqdm(all_keyframe_paths.items()):\n",
    "    video_ids = sorted(video_keyframe_paths.keys())\n",
    "    if not os.path.exists(os.path.join(save_dir, key)):\n",
    "        os.mkdir(os.path.join(save_dir, key))\n",
    "\n",
    "    for video_id in tqdm(video_ids):\n",
    "        video_color_contexts = []\n",
    "        video_keyframe_path = video_keyframe_paths[video_id]\n",
    "\n",
    "        for image_path in video_keyframe_path:\n",
    "            # Use K-means to get the dominant colors from the image\n",
    "            context = get_image_colors(image_path)\n",
    "            context_str = ' '.join(context)  # Join the color names into a string\n",
    "            video_color_contexts.append(context_str)\n",
    "\n",
    "        # Error check\n",
    "        if len(video_color_contexts) != len(video_keyframe_path):\n",
    "            print(\"Something went wrong!!!!!\")\n",
    "            break\n",
    "\n",
    "        # Save the video color context to a text file\n",
    "        with open(f\"{save_dir}/{key}/{video_id}.txt\", \"w\") as f:\n",
    "            for item in video_color_contexts:\n",
    "                f.write(\"%s\\n\" % item)\n",
    "\n",
    "print(\"Color extraction completed!\")"
   ]
  }
 ],
 "metadata": {
  "kernelspec": {
   "display_name": "Python 3",
   "language": "python",
   "name": "python3"
  },
  "language_info": {
   "name": "python",
   "version": "3.9.7"
  },
  "orig_nbformat": 4
 },
 "nbformat": 4,
 "nbformat_minor": 2
}
