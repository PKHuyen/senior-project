{
 "cells": [
  {
   "cell_type": "code",
   "execution_count": 13,
   "metadata": {},
   "outputs": [],
   "source": [
    "import os\n",
    "import easyocr"
   ]
  },
  {
   "cell_type": "code",
   "execution_count": 14,
   "metadata": {},
   "outputs": [],
   "source": [
    "reader = easyocr.Reader(['en'])"
   ]
  },
  {
   "cell_type": "code",
   "execution_count": 15,
   "metadata": {},
   "outputs": [],
   "source": [
    "input_keyframe_folder = '/Users/huyenphung/Desktop/backend/keyframe_infomaton/keyframe/L00'\n",
    "output_text_metadata = '/Users/huyenphung/Desktop/backend/keyframe_infomaton/text_metadata/L00'\n",
    "\n",
    "if not os.path.exists(output_text_metadata):\n",
    "    os.makedirs(output_text_metadata)\n",
    "\n",
    "# Process each keyframe in the input folder\n",
    "for filename in os.listdir(input_keyframe_folder):\n",
    "    if filename.endswith('.jpg'):  # Process only .jpg files\n",
    "        keyframe_path = os.path.join(input_keyframe_folder, filename)\n",
    "        result = reader.readtext(keyframe_path)\n",
    "        \n",
    "        # Write the result to a text file with the same name as the keyframe\n",
    "        output_file_path = os.path.join(output_text_metadata, f'{os.path.splitext(filename)[0]}.json')\n",
    "        with open(output_file_path, 'w') as output_file:\n",
    "            for (bbox, text, confidence) in result:\n",
    "                output_file.write(f'{text}\\n')"
   ]
  }
 ],
 "metadata": {
  "kernelspec": {
   "display_name": "base",
   "language": "python",
   "name": "python3"
  },
  "language_info": {
   "codemirror_mode": {
    "name": "ipython",
    "version": 3
   },
   "file_extension": ".py",
   "mimetype": "text/x-python",
   "name": "python",
   "nbconvert_exporter": "python",
   "pygments_lexer": "ipython3",
   "version": "3.12.4"
  }
 },
 "nbformat": 4,
 "nbformat_minor": 2
}
