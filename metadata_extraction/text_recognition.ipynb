{
 "cells": [
  {
   "cell_type": "code",
   "execution_count": 1,
   "metadata": {},
   "outputs": [],
   "source": [
    "import os\n",
    "import easyocr\n",
    "\n",
    "reader = easyocr.Reader(['en'])\n",
    "input_base_folder = '/Users/huyenphung/Desktop/senior-project/keyframe_information/keyframe'\n",
    "output_base_metadata = '/Users/huyenphung/Desktop/senior-project/keyframe_information/text_metadata'\n",
    "\n",
    "if not os.path.exists(output_base_metadata):\n",
    "    os.makedirs(output_base_metadata)\n",
    "\n",
    "# Traverse through the base keyframe folder\n",
    "for root, dirs, files in os.walk(input_base_folder):\n",
    "    # Exclude folders that end with '_reduced'\n",
    "    if '_reduced' in root:\n",
    "        continue\n",
    "\n",
    "    for filename in files:\n",
    "        if filename.endswith('.jpg'):  # Process only .jpg files\n",
    "            keyframe_path = os.path.join(root, filename)\n",
    "            result = reader.readtext(keyframe_path)\n",
    "            \n",
    "            # Determine the video name from the root path\n",
    "            video_name = os.path.basename(root)\n",
    "            output_text_metadata = os.path.join(output_base_metadata, video_name)\n",
    "            \n",
    "            if not os.path.exists(output_text_metadata):\n",
    "                os.makedirs(output_text_metadata)\n",
    "            \n",
    "            # Write the result to a JSON file with the same name as the keyframe\n",
    "            output_file_path = os.path.join(output_text_metadata, f'{os.path.splitext(filename)[0]}.json')\n",
    "            with open(output_file_path, 'w') as output_file:\n",
    "                for (bbox, text, confidence) in result:\n",
    "                    output_file.write(f'{text}\\n')\n"
   ]
  }
 ],
 "metadata": {
  "kernelspec": {
   "display_name": "base",
   "language": "python",
   "name": "python3"
  },
  "language_info": {
   "codemirror_mode": {
    "name": "ipython",
    "version": 3
   },
   "file_extension": ".py",
   "mimetype": "text/x-python",
   "name": "python",
   "nbconvert_exporter": "python",
   "pygments_lexer": "ipython3",
   "version": "3.9.7"
  }
 },
 "nbformat": 4,
 "nbformat_minor": 2
}
