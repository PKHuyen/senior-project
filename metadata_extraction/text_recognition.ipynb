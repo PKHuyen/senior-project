{
 "cells": [
  {
   "cell_type": "code",
   "execution_count": 43,
   "metadata": {},
   "outputs": [],
   "source": [
    "# !pip install easyocr"
   ]
  },
  {
   "cell_type": "code",
   "execution_count": 44,
   "metadata": {},
   "outputs": [],
   "source": [
    "import os\n",
    "import cv2\n",
    "import glob\n",
    "import json\n",
    "import torch\n",
    "import easyocr\n",
    "import numpy as np\n",
    "import matplotlib.pyplot as plt\n",
    "from tqdm import tqdm"
   ]
  },
  {
   "cell_type": "code",
   "execution_count": 45,
   "metadata": {},
   "outputs": [],
   "source": [
    "keyframes_dir = '/Users/huyenphung/Desktop/backend/keyframe_infomaton/keyframe'\n",
    "all_keyframe_paths = dict()\n",
    "for part in sorted(os.listdir(keyframes_dir)):\n",
    "    data_part = part.split('_')[0]\n",
    "    all_keyframe_paths[data_part] =  dict()\n",
    "\n",
    "for data_part in sorted(all_keyframe_paths.keys()):\n",
    "    data_part_path = f'{keyframes_dir}/{data_part}'\n",
    "    video_dirs = sorted(os.listdir(data_part_path))\n",
    "    video_ids = [video_dir.split('_')[-1] for video_dir in video_dirs]\n",
    "    for video_id, video_dir in zip(video_ids, video_dirs):\n",
    "        keyframe_paths = sorted(glob.glob(f'{data_part_path}/{video_dir}/*.jpg'))\n",
    "        all_keyframe_paths[data_part][video_id] = keyframe_paths"
   ]
  },
  {
   "cell_type": "code",
   "execution_count": 46,
   "metadata": {},
   "outputs": [],
   "source": [
    "reader = easyocr.Reader(['en'])"
   ]
  },
  {
   "cell_type": "code",
   "execution_count": 47,
   "metadata": {},
   "outputs": [],
   "source": [
    "input_keyframe_folder = '/Users/huyenphung/Desktop/backend/keyframe_infomaton/keyframe/L00'\n",
    "output_text_metadata = '/Users/huyenphung/Desktop/backend/keyframe_infomaton/text_metadata/L00'\n",
    "\n",
    "if not os.path.exists(output_text_metadata):\n",
    "    os.makedirs(output_text_metadata)\n",
    "\n",
    "# Process each keyframe in the input folder\n",
    "for filename in os.listdir(input_keyframe_folder):\n",
    "    if filename.endswith('.jpg'):  # Process only .jpg files\n",
    "        keyframe_path = os.path.join(input_keyframe_folder, filename)\n",
    "        result = reader.readtext(keyframe_path)\n",
    "        \n",
    "        # Write the result to a text file with the same name as the keyframe\n",
    "        output_file_path = os.path.join(output_text_metadata, f'{os.path.splitext(filename)[0]}.json')\n",
    "        with open(output_file_path, 'w') as output_file:\n",
    "            for (bbox, text, confidence) in result:\n",
    "                output_file.write(f'{text}\\n')"
   ]
  },
  {
   "cell_type": "markdown",
   "metadata": {},
   "source": [
    "# Note\n",
    "Need to reformat .json"
   ]
  }
 ],
 "metadata": {
  "kernelspec": {
   "display_name": "base",
   "language": "python",
   "name": "python3"
  },
  "language_info": {
   "codemirror_mode": {
    "name": "ipython",
    "version": 3
   },
   "file_extension": ".py",
   "mimetype": "text/x-python",
   "name": "python",
   "nbconvert_exporter": "python",
   "pygments_lexer": "ipython3",
   "version": "3.12.4"
  }
 },
 "nbformat": 4,
 "nbformat_minor": 2
}
