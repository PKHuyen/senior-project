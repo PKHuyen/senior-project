{
 "cells": [
  {
   "cell_type": "code",
   "execution_count": null,
   "metadata": {},
   "outputs": [],
   "source": [
    "import os\n",
    "import easyocr\n",
    "\n",
    "reader = easyocr.Reader(['en'])\n",
    "input_base_folder = '../keyframe_information/keyframe'\n",
    "output_base_metadata = '../keyframe_information/text_metadata'\n",
    "\n",
    "if not os.path.exists(output_base_metadata):\n",
    "    os.makedirs(output_base_metadata)\n",
    "\n",
    "for video_folder in os.listdir(input_base_folder):\n",
    "    video_folder_path = os.path.join(input_base_folder, video_folder)\n",
    "    \n",
    "    if os.path.isdir(video_folder_path) and '_reduced' not in video_folder:\n",
    "        for keyframe_subfolder in os.listdir(video_folder_path):\n",
    "            keyframe_subfolder_path = os.path.join(video_folder_path, keyframe_subfolder)\n",
    "            \n",
    "            if os.path.isdir(keyframe_subfolder_path):\n",
    "                output_text_metadata = os.path.join(output_base_metadata, video_folder, keyframe_subfolder)\n",
    "                if not os.path.exists(output_text_metadata):\n",
    "                    os.makedirs(output_text_metadata)\n",
    "                \n",
    "                for filename in os.listdir(keyframe_subfolder_path):\n",
    "                    if filename.endswith('.jpg'): \n",
    "                        keyframe_path = os.path.join(keyframe_subfolder_path, filename)\n",
    "                        result = reader.readtext(keyframe_path)\n",
    "                        output_file_path = os.path.join(output_text_metadata, f'{os.path.splitext(filename)[0]}.json')\n",
    "                        with open(output_file_path, 'w') as output_file:\n",
    "                            for (bbox, text, confidence) in result:\n",
    "                                output_file.write(f'{text}\\n')\n",
    "\n",
    "                        print(f\"OCR results saved for {filename} at {output_file_path}\")\n"
   ]
  }
 ],
 "metadata": {
  "kernelspec": {
   "display_name": "base",
   "language": "python",
   "name": "python3"
  },
  "language_info": {
   "codemirror_mode": {
    "name": "ipython",
    "version": 3
   },
   "file_extension": ".py",
   "mimetype": "text/x-python",
   "name": "python",
   "nbconvert_exporter": "python",
   "pygments_lexer": "ipython3",
   "version": "3.12.4"
  }
 },
 "nbformat": 4,
 "nbformat_minor": 2
}
