{
 "cells": [
  {
   "cell_type": "code",
   "execution_count": 1,
   "id": "9f593449",
   "metadata": {
    "execution": {
     "iopub.execute_input": "2023-10-02T02:04:10.111716Z",
     "iopub.status.busy": "2023-10-02T02:04:10.110735Z",
     "iopub.status.idle": "2023-10-02T02:04:19.698534Z",
     "shell.execute_reply": "2023-10-02T02:04:19.697381Z"
    },
    "papermill": {
     "duration": 9.593781,
     "end_time": "2023-10-02T02:04:19.700760",
     "exception": false,
     "start_time": "2023-10-02T02:04:10.106979",
     "status": "completed"
    },
    "tags": []
   },
   "outputs": [],
   "source": [
    "# Instal dependency\n",
    "%pip install open_clip_torch"
   ]
  },
  {
   "cell_type": "code",
   "execution_count": 2,
   "id": "3e927d76",
   "metadata": {
    "execution": {
     "iopub.execute_input": "2023-10-02T02:04:19.707454Z",
     "iopub.status.busy": "2023-10-02T02:04:19.707175Z",
     "iopub.status.idle": "2023-10-02T02:04:26.405375Z",
     "shell.execute_reply": "2023-10-02T02:04:26.404385Z"
    },
    "papermill": {
     "duration": 6.703956,
     "end_time": "2023-10-02T02:04:26.407521",
     "exception": false,
     "start_time": "2023-10-02T02:04:19.703565",
     "status": "completed"
    },
    "tags": []
   },
   "outputs": [],
   "source": [
    "# Import module\n",
    "import os\n",
    "import open_clip\n",
    "import torch\n",
    "import numpy as np\n",
    "from PIL import Image\n",
    "from tqdm import tqdm\n",
    "import requests\n",
    "from io import BytesIO"
   ]
  },
  {
   "cell_type": "markdown",
   "id": "6a75aa1f",
   "metadata": {
    "papermill": {
     "duration": 0.002388,
     "end_time": "2023-10-02T02:04:26.412624",
     "exception": false,
     "start_time": "2023-10-02T02:04:26.410236",
     "status": "completed"
    },
    "tags": []
   },
   "source": [
    "# Parse data path"
   ]
  },
  {
   "cell_type": "code",
   "execution_count": null,
   "id": "88ef2f9c",
   "metadata": {
    "execution": {
     "iopub.execute_input": "2023-10-02T02:04:26.418818Z",
     "iopub.status.busy": "2023-10-02T02:04:26.418306Z",
     "iopub.status.idle": "2023-10-02T02:04:26.429952Z",
     "shell.execute_reply": "2023-10-02T02:04:26.429129Z"
    },
    "papermill": {
     "duration": 0.016615,
     "end_time": "2023-10-02T02:04:26.431617",
     "exception": false,
     "start_time": "2023-10-02T02:04:26.415002",
     "status": "completed"
    },
    "tags": []
   },
   "outputs": [
    {
     "name": "stdout",
     "output_type": "stream",
     "text": [
      "Please visit this URL to authorize this application: https://accounts.google.com/o/oauth2/auth?response_type=code&client_id=519645059480-4oq7d1en6p4t5mc6v5qmpba5mohejvef.apps.googleusercontent.com&redirect_uri=http%3A%2F%2Flocalhost%3A8502%2F&scope=https%3A%2F%2Fwww.googleapis.com%2Fauth%2Fdrive&state=IKqTv6iTdCF3IatIvCzu6XFo9NNrOq&access_type=offline\n",
      "{'Video0': {'L00': ['https://drive.google.com/uc?id=1mpgGOcc8zjzp95jA0HbYqVm4MuaUJMxU', 'https://drive.google.com/uc?id=1RreIw-OPCFyBPIn_cAc7awecW_2THyDi', 'https://drive.google.com/uc?id=1-2NVov5eIsl9shi1sjWoD-G1UyPSVXT5', 'https://drive.google.com/uc?id=174StS9TVZ2ssMmnuv3bvXduPp6MUdtVB', 'https://drive.google.com/uc?id=1KlKvw55SXn3ORZi5_arWrmmRsShPXuUA', 'https://drive.google.com/uc?id=1dbREXf-uL83C3HkkBnC-9wXdE4U5p4O-', 'https://drive.google.com/uc?id=1JR5fz-ipOeP6c0Usf-Q1WXPVXGEziGl7', 'https://drive.google.com/uc?id=1oqFT7uNLVbyf9AlVE5-EnR3rORRRia2f', 'https://drive.google.com/uc?id=17-6ej1-jctDzrhvfpftePWtnC7_8CxVC', 'https://drive.google.com/uc?id=1RYkbdSHkF4gpK_tD4XcX0dIeGAOsWqGE', 'https://drive.google.com/uc?id=1j5iZo0_3UY4shPiHWHXivaovq-rrZR0g', 'https://drive.google.com/uc?id=196IQ6Ckw6rNpI2jzDHWBNUPDGU9S5rAE', 'https://drive.google.com/uc?id=1bb5QaW3XMwXvq6i3dw1nWpBrimNJWG7z', 'https://drive.google.com/uc?id=14sz_paBXor53ZjjvCMEHV-5uAgOkzJXW', 'https://drive.google.com/uc?id=1Sej5yZ1voS2B0ggT5fJTWyJCo8YHDMDD', 'https://drive.google.com/uc?id=1rvCgApFycoTR-IJa2vymObtVFA2X6rPH', 'https://drive.google.com/uc?id=1hVSKRSgmDUbNWGDJ3u0oRcuFdaX33-Vu', 'https://drive.google.com/uc?id=1fgcPG0t1LdnXUXaeQknrt7f1LylTyRql']}, 'Video3': {'L02': ['https://drive.google.com/uc?id=1LTRQSAh-vJuCV6qx7o3jk_eoRnLYEiWp', 'https://drive.google.com/uc?id=1hoFMePgKeslZXYHIFwiC2CYetzcGkbcJ', 'https://drive.google.com/uc?id=1soIZ7xwZVvnU62O67hvH5lPkv7VDbneu', 'https://drive.google.com/uc?id=1A0QdozjrQKMuwaOi_t_lFmqPV427UPGk', 'https://drive.google.com/uc?id=14_i5aBZZi1NvUyawUXT6rPGf1WrzSoXy', 'https://drive.google.com/uc?id=1y1N3Kl89e8cqDGAMXHdqqbW6xFpCjqB5', 'https://drive.google.com/uc?id=1Hse-ytgAKgWehlJkTTyYNiYLG2dnJ1pt', 'https://drive.google.com/uc?id=1pvYWthtBnqcrGs4CeWsAmoV8btiwHBb7', 'https://drive.google.com/uc?id=1mbjeTHyQ6v6eaTBRAh7yxYVu5CTgelQf', 'https://drive.google.com/uc?id=1bFp0_l7LGzV52Cnd5TdlUDCVxdyM6-vd']}, 'Video5': {'L04': ['https://drive.google.com/uc?id=1TiRD6nAihbJqHISibdBWYQHZB94u4fqI', 'https://drive.google.com/uc?id=1xKD2GnNGnjWxio0V51M4eVrgEFPkhL8_', 'https://drive.google.com/uc?id=1473QHmwwRG8TsgYrrdVqGxvCVCcc0QaQ', 'https://drive.google.com/uc?id=1wUBCp-cQi5W0WrgNI2M7RpUdnW01kmnM', 'https://drive.google.com/uc?id=1Xq7khai3g_35ikMsRllAUoUDaIOC5Uih', 'https://drive.google.com/uc?id=1wBW9bO6hZRvde3kQDY69icuUrqN5oZQL', 'https://drive.google.com/uc?id=14mA749Z3qQGl4FysbZSTC20kLvbj8CeX', 'https://drive.google.com/uc?id=1KitL2zwnC0Fw60VLa4YaLymSdsEpb49y', 'https://drive.google.com/uc?id=1iFgNcrb6Jtf0lYWrYZjqkrhzU7WAmNEJ', 'https://drive.google.com/uc?id=1C8ba0nufWy1w3yLJjbqoEXCJw-slZ94j', 'https://drive.google.com/uc?id=1g2tJlhbk878vx8d3FNffr7PTDcwzoPmM', 'https://drive.google.com/uc?id=1wmud0SsIhyixxP8z4TjZ4hKSnxT-EiUQ', 'https://drive.google.com/uc?id=1yGQg2vrkY8h4sZ5QtVkrwDJkarAjmzXC', 'https://drive.google.com/uc?id=1BCA13ym6qkfkWmnMpGf8PymRw50c8SfD', 'https://drive.google.com/uc?id=1TiDSGGn4_UefbsjnOjkdFbZc6b0LxRGs', 'https://drive.google.com/uc?id=1uD6fns6ATkQdi8GwOrjySbXYuc6TL_Dd', 'https://drive.google.com/uc?id=1CTqMlwjCv_0teAv_seQbeHa_z4AXq-Ts', 'https://drive.google.com/uc?id=1VppfS39F6xpfgUrANyIg9OJ7POYkbOfj', 'https://drive.google.com/uc?id=1h6W8i1bsW8TQnaV-vv-ZhwAUyYgTkAF_', 'https://drive.google.com/uc?id=1Yhvkzhyn47_hNEu7WlpYA8XPhGPp4ZLv', 'https://drive.google.com/uc?id=15ldeOWIKRQm04BSy4bcgPauSQCK4PZru', 'https://drive.google.com/uc?id=1FgUMTwJrr-5ymnjx2-CeJnldZRCMNd-4', 'https://drive.google.com/uc?id=1mgL5VUdDhKETJVBHfoL39sNVy-tGTPn3', 'https://drive.google.com/uc?id=1-J272i0iUix1JPXRRF9cM8lJXTqINFuC', 'https://drive.google.com/uc?id=1-GaA3NVhqigh16KkQu3b5Gf11RDP7zxL', 'https://drive.google.com/uc?id=1gpPbPFs1RMuTsjMhHXbGsc4k7ADBC58K', 'https://drive.google.com/uc?id=1dg-2SxNo7Khu87OvVKJ1gu-diuzWx1jh', 'https://drive.google.com/uc?id=1FFQWxqBQ8f6excDUNRFJM_etRAok_P2I', 'https://drive.google.com/uc?id=1R_N_3pAAZfBM3O74_vRZHyPV1Vfa6Dqw', 'https://drive.google.com/uc?id=1Pbic_1wny0wCI0mSvT0lZ6ZrYBofMhge', 'https://drive.google.com/uc?id=196f4Dy4g_fac_bCcJ6dKjYJjRaERx30S', 'https://drive.google.com/uc?id=1r9JWi0aVElUChNTxkWGNWt0lDoPWLk_e', 'https://drive.google.com/uc?id=1Q9ujXYzztQ4D7wALWe-YCuCbbyXRFF8u', 'https://drive.google.com/uc?id=1M8TOC1wZcoIlHQICRgL-2fIe4jM0QUpR', 'https://drive.google.com/uc?id=1QgOBt76h5qFrELNTZ2EN3DT-8_4gTFMV', 'https://drive.google.com/uc?id=136gtSjVDBU_dpuj6ZigWTIs-OFT_mHP9', 'https://drive.google.com/uc?id=111mG9278Kooix0jInCC3byVEKXD_FGDT', 'https://drive.google.com/uc?id=17E_Mz0nXNrOJussUL-KqkuseCt7z19yy', 'https://drive.google.com/uc?id=1QNSU2_Jzwh_q24PLMTkVfHVlbplcZtrh', 'https://drive.google.com/uc?id=1A3lJ38Iq_vjBQzjh-Pignowf-gm0lkFd', 'https://drive.google.com/uc?id=1ZiDeAOc48JG_BoR8tSjdhIa8br5GH6WP', 'https://drive.google.com/uc?id=13v2ZswDdvQf7N-6vYfqJ6n3nSs3uKoYA', 'https://drive.google.com/uc?id=18ybHbfpwUYJr9uomlBYoLkmmpSeY22eq', 'https://drive.google.com/uc?id=1i86azpyxUYI4Vfk6jSiWLHj6oBHU-0v_', 'https://drive.google.com/uc?id=1AzFFYVTitNyJHEabYj4GejpRVxwv0NMf', 'https://drive.google.com/uc?id=10-iUEKGwAhI7G_Hr-cfiqk4k9cRHoa4o', 'https://drive.google.com/uc?id=1U4G5L7Pw_g4qXWZrSwhT9KuVgcofGOPK', 'https://drive.google.com/uc?id=15ksAiWLjTkIJKkpEz7R2wRsedyJEUNRB', 'https://drive.google.com/uc?id=1o9dnFZ8U3MhnwceDQNY6XOcNYseT8hDd', 'https://drive.google.com/uc?id=1NiXFzCq8cu3KZWzC9-oxZdi5CDr66Hj1', 'https://drive.google.com/uc?id=18x8jaTDLxzc3kSsTdbp0cCvdh4RXY_DN', 'https://drive.google.com/uc?id=17N4N4_fON0Lk4IhUICwtmOmOM9pYeLgM', 'https://drive.google.com/uc?id=1WoEj2v0xTrA9hN_XQB4vgISzRFreWD78', 'https://drive.google.com/uc?id=1HtvC3_t6aRnqKd3_rYBjrefnZfQUVHsl', 'https://drive.google.com/uc?id=1MjCU-oujxFRyYXcwYRrj6pVw_00c3yRq', 'https://drive.google.com/uc?id=1hT-OUtSb243lSIScOlZgZlTM3IRt5Oqi', 'https://drive.google.com/uc?id=1u3WmM0Xj-5Xra8ja1abz6488dEkhiSRW', 'https://drive.google.com/uc?id=1BD2Yd_papTeMs8whd76JZF2aEJlPVO2C', 'https://drive.google.com/uc?id=13en8KFZ7HYZu8xt8TMGMdPq-g1BUEC8a', 'https://drive.google.com/uc?id=1gSnzCyj58CRoAQI9GZSET30ROtJ6FUdR', 'https://drive.google.com/uc?id=1kHEk-5dWnN-4Vqx-YXYnT2HPffVs-Kgs', 'https://drive.google.com/uc?id=1qGof8QEtR3aSxOq4xzJzlo9abSIjshud', 'https://drive.google.com/uc?id=1JN-1e8nXS2_4CJbbiXEr7YKOOQ5kiX20', 'https://drive.google.com/uc?id=124HGhGGNdDPuwuzRFmIaxXYQ7M6Et-OF', 'https://drive.google.com/uc?id=1yYhB7748Tny6QecKnZMdulIR3akknmRQ', 'https://drive.google.com/uc?id=1Ty-Q1livReypsJ4RZcDgVkPbwH6xW0Du', 'https://drive.google.com/uc?id=1sNy1S65BaOAE72qSUkAhghF9Gbdu1ph2', 'https://drive.google.com/uc?id=1vUVijwN_D5mSajwp1yr_hNfxueUAsAu3', 'https://drive.google.com/uc?id=1rLXnvn-ecUpm0iqO8i35vG3HH4N3k0_-', 'https://drive.google.com/uc?id=1rRlpQ3a7igPQVAMh7qGqFVNdSPCahj6r', 'https://drive.google.com/uc?id=1XyHj9fOrSxp4AD3kjRy46qrrKk1_TZxN', 'https://drive.google.com/uc?id=1NBqhrQJ-YV2zia6xHcrf63q4cTPgeot1', 'https://drive.google.com/uc?id=1G6HaHP8j72ToHXY3bV5lEGSxiEsF7Ss3', 'https://drive.google.com/uc?id=1ivmUEZMufT6V7VybcxQtCw53329BU_bd', 'https://drive.google.com/uc?id=15zYn7Dht6EUp4YvxiyQXLNjPeB4-_UUn', 'https://drive.google.com/uc?id=1PCZ2EluiD091DoH44dZE4TEeQ3BLJ42Q', 'https://drive.google.com/uc?id=1QHa9TyaCI4AigXWRAJKR5ht6rIwAkeUe', 'https://drive.google.com/uc?id=1IG34UlnAFaHNf-XHOB98qFO_ey3Sy_cB', 'https://drive.google.com/uc?id=1EfAC1H9zJx-dMyrT8sPFSc0_vnWInPr6', 'https://drive.google.com/uc?id=10BTiwDSReFdvcUnCwqQPcrcK1Yxs_FYh', 'https://drive.google.com/uc?id=1daMnxuYp_u_jcpzOR2XfsygBemnTMs4W', 'https://drive.google.com/uc?id=1cgYoP4uGYfwyO5AFW8rWVG_Rbx1JpZLc', 'https://drive.google.com/uc?id=1u8sXu1i0MWqgJLV5bi1ZXbcEwb7ueimP', 'https://drive.google.com/uc?id=1mM6AVLdFVxCA9Bpwg8uMnJDKuSjV1YIK', 'https://drive.google.com/uc?id=1EF4sxMpwOTljtHSdUukGHGP-IqOhjzs3', 'https://drive.google.com/uc?id=1LvfvqIyCjIqILUhnAZ2HxDUjQHrx1riC', 'https://drive.google.com/uc?id=1VJF9AvBlID9LCDn9s7YVUXKEwtQj88DR', 'https://drive.google.com/uc?id=18ySJDp4-IhH7551V3cAPNiEwR646LfIk', 'https://drive.google.com/uc?id=1Vn5DGXQjZuEJR-znddgnfcVLSZEV4r2L', 'https://drive.google.com/uc?id=1HszNSnpb7rg0Bnad53aK7AK01O1NoXb1', 'https://drive.google.com/uc?id=1P9csOHtz2zmGa5sR27aLpOsm4ON2Dzc0', 'https://drive.google.com/uc?id=17oc2z3qCiWYpovQFeVfbzR9W9gMJu1dY', 'https://drive.google.com/uc?id=1lZkfNx_OktnZYFrNcLs2MEY6-eCTzCzK', 'https://drive.google.com/uc?id=1_nfcEy1OimbjuxtaXhjhgDA6HZn3XDKx', 'https://drive.google.com/uc?id=1lfmaNsLXQMel6VRCQM4gtYeNy9eynLuL', 'https://drive.google.com/uc?id=1-sERqY1g18Ih06U4f3JxtG5iPd3K56B7', 'https://drive.google.com/uc?id=14IzBRHzHHQ6QedQxPI8mJTrAVqUA8T47', 'https://drive.google.com/uc?id=1GeiOpst0GvrMSstE6EJApBOknSQASkzM', 'https://drive.google.com/uc?id=15wm1GAtj_mWbbvZqKZkVc9R14JCvSdHo', 'https://drive.google.com/uc?id=12dAb_JToTmcvzgczv5Aj1LJFApoc778G']}, 'Video1': {'L01': ['https://drive.google.com/uc?id=1PB1dIp_FOSYfHwSJUs3lqlD6c0lIpONv', 'https://drive.google.com/uc?id=1hClVJD_dE-zwfOTFEhysOCIGGkykpE1C', 'https://drive.google.com/uc?id=1FiYG_6wPtfRHgq776vU8uxv3aEIAiqq5', 'https://drive.google.com/uc?id=1RX_RRtAjBXdM5Dt83FAqet8Tm_9a-zM5', 'https://drive.google.com/uc?id=1HQA1JDfMn3UKeItgnO_KJ05g63J8_Qq8', 'https://drive.google.com/uc?id=1Fg7s582HlXuM9b54quFAH30-EB6dV2rv', 'https://drive.google.com/uc?id=1ONdB9bzqdeq4FWl3cOb-jlkLLTUliTJ7', 'https://drive.google.com/uc?id=19TMSAzAwkzpu1_oi8TAT65HJtePfp0XB', 'https://drive.google.com/uc?id=1bxb2GFB2o_FM4uZHNW1wB9IVuKeKVIO0', 'https://drive.google.com/uc?id=19s-okT5ZtqHd1pQEaq2SUpJhGIhO63V1', 'https://drive.google.com/uc?id=1PtAO7Mz1F8wFXKOAlWOIzc7XwtE8eio7', 'https://drive.google.com/uc?id=1XUA5RwYYbXOr7_wuYVt9PjpCRsfYMCkV', 'https://drive.google.com/uc?id=1IkVQL_8aWF5IZM4SmtyacT0KCdpH6iLp', 'https://drive.google.com/uc?id=1iFRoK2yWxG1L1aC_3ctdqPl2CjuymE_U', 'https://drive.google.com/uc?id=1UGNQ_DmBr64MVHmAB2GifcoSB8jx2PeZ', 'https://drive.google.com/uc?id=1pTnwM6sGZXgyOHu1l1ooY9uHJfnVLw4w', 'https://drive.google.com/uc?id=1nxgY1I2stjzhs6bmhUegZJxrsZ2NszBx', 'https://drive.google.com/uc?id=1TqoMI162m-5R1Rngls_CE-gSGvogfJzt', 'https://drive.google.com/uc?id=1xcpeiEoVrfYVJ1RFm9Uqo1TOMcbyQhNF', 'https://drive.google.com/uc?id=1EMB8488mA9WibVtSLKntfJ5vqqTQim3j', 'https://drive.google.com/uc?id=14Jl6mj7W-CGIkXR5U5QMLNpok_BKWjNp', 'https://drive.google.com/uc?id=1uV7t5beo4rYbaOQkPS7kynMlE9UhGueT', 'https://drive.google.com/uc?id=1y9X9mwoLc1O3_dUSOJZxtDrSlls_4vgt', 'https://drive.google.com/uc?id=1lO8tLszKqYWmimm6wnkSNnpJk9FES8nI', 'https://drive.google.com/uc?id=13v9P1oOnwpUHwtBHmF-yCjaIt4f0d0vf', 'https://drive.google.com/uc?id=1VDK0lB5EiQ1CzKFKAr7m5ueBBPASqVIT', 'https://drive.google.com/uc?id=1sxAwy_6cph-sWS4QBb52RYL6jv-TmwSM', 'https://drive.google.com/uc?id=1jfLIedFqmm0md6o2bTG2QCddCg5yiVp3', 'https://drive.google.com/uc?id=1Z9XybViQ48iP-QBSD0wXzRGXRGG5gNle', 'https://drive.google.com/uc?id=132bRi12a7O3W2vQEjXxNU-ju2SBcLTM3', 'https://drive.google.com/uc?id=1fTz9fYXO5nbRF4Ns8XviLfiKrm8xiGme', 'https://drive.google.com/uc?id=1pk9CWVLu_OvlSD8krvlp0Xnd6E07pSLH', 'https://drive.google.com/uc?id=1QaG9r9kENlLUZPdoWoO6K9IK2yyeIche', 'https://drive.google.com/uc?id=1FPjzQfqhFu-auOnhPItwmFeoefhWhf2X', 'https://drive.google.com/uc?id=1MY8ha7ybHc_U8evEEABJ_ZxIFuxrYJqW', 'https://drive.google.com/uc?id=1NXXWXZ73qK7HNIJ6_veKrSx_p5-KCZpG', 'https://drive.google.com/uc?id=12GfA7qqykXP4tq30deam6aT6TKh_xH4V', 'https://drive.google.com/uc?id=1sBScZmi8gFeTHrGiUhfiddbiVCDTobC_', 'https://drive.google.com/uc?id=1WD6vbu9X2won5lbZCTZ4VJ2pwMLueWdV', 'https://drive.google.com/uc?id=1se1Z8iDJ7Gg-ahJcqtJlza1X31wCRSM9', 'https://drive.google.com/uc?id=1MsgsJVKyOGcav0_uEq0dFD24yhTpoNyb', 'https://drive.google.com/uc?id=106mHg61w7vGm3lYSvDRy6WFrQdCPud8O', 'https://drive.google.com/uc?id=1b9Qe9sHVSt99J_VFQ--4ymk6tqQY0BXn', 'https://drive.google.com/uc?id=1-lF9rskm52TjZ9qtaLNxCy7hIUQ4_S0e', 'https://drive.google.com/uc?id=1rsWtE71qKdl8aC1U6BQvG7HN75LRqjyu', 'https://drive.google.com/uc?id=1THJbpZAHaj_x4KBnh0na6Slf8RGnlLBT', 'https://drive.google.com/uc?id=1d323YiIbeJs5vIb6AxOJA-UU7m9HGN-N', 'https://drive.google.com/uc?id=1swj_sScB1WtWKCWtY3kvdcwnueFRN8pl', 'https://drive.google.com/uc?id=1fRDN_g9kl25jCKk6NGEqCfQ4nOqH3kC_', 'https://drive.google.com/uc?id=1BWPY5m0vXoaPGGsNzW4V7b0Kum_fPOrx', 'https://drive.google.com/uc?id=15quGFOzNoAg1I7JwzRU0Vhi8FXmkc5kq', 'https://drive.google.com/uc?id=1Mkyvt4CDW_QWFziENHLpbHxRodOmTmMY', 'https://drive.google.com/uc?id=1c692SX6f-ygqQK5itU18NRmNoIh9bs8S', 'https://drive.google.com/uc?id=1U-aC-HwAUCap0ZPC0nlqKyJsjHxavENT', 'https://drive.google.com/uc?id=1xn5ILp5sipaX-EcwrMlDZZcFOHsT83xm', 'https://drive.google.com/uc?id=1a2b6yGBBz_z0pFvmDJsS1guqGXG4d78g', 'https://drive.google.com/uc?id=1DucE9ldqruHelD6hAWU50zqjO1FWVdjM']}, 'Video2': {'L03': ['https://drive.google.com/uc?id=1ucmX47CePnLCF0-6qKOkRk3D2kNuiP-p', 'https://drive.google.com/uc?id=18cJyIR570a0LtGwEe8C4da9u3_LFlsyf', 'https://drive.google.com/uc?id=1K0Yu8Vj0xV7m93jQuceQqqS7x7ThYziS', 'https://drive.google.com/uc?id=1W0A5eOvn5u4MAzNk6Z2WLuTs4mdDFAs2', 'https://drive.google.com/uc?id=1BU07T8FYWKl98YdWPzvny0e8RAnviRsd', 'https://drive.google.com/uc?id=19M-3uApQ0AStqZCGxZUbR0ozwJIP43uf', 'https://drive.google.com/uc?id=1Zty15jY-DQcEWonTLHu2ym0TgFRMkRDb', 'https://drive.google.com/uc?id=1c4ZX88nT1ZtRKrdwtsSpMRYJNurXrEsN', 'https://drive.google.com/uc?id=1A07UmMrk3HhpSh0k6C0vmvxba1MbSepM', 'https://drive.google.com/uc?id=1fhOvfRzHkfL4hvFQYijdbQnqHhKyZni3', 'https://drive.google.com/uc?id=1CxnOHrdzsV7WaG7-iP4xzkwUK0C5b7fI', 'https://drive.google.com/uc?id=13OWNGWzua8Mq8EOHkHHSGJkKK_caoqXv', 'https://drive.google.com/uc?id=1I6Keur9Hf57_o6Y2bwNLycfcqk5l1RdN', 'https://drive.google.com/uc?id=1YQJzJz8K2d1mnrlsbR_X7zDpN5ugr6AS', 'https://drive.google.com/uc?id=1N-nstSGB1DbrtBc40RI-m39k7xfU5TgV', 'https://drive.google.com/uc?id=1s-_FbQ4rLMPU9ORFFaoGFcEbxyno6xxo', 'https://drive.google.com/uc?id=1nahpDQSMGlBox-XbPNMGrXe3KCppbp7R', 'https://drive.google.com/uc?id=16LoILs0nDPW5X7jSZcF9D5t8i6rMYp2R', 'https://drive.google.com/uc?id=1dATNcxOtWYuODF3EP4R435sJKNpXPYdK', 'https://drive.google.com/uc?id=1utp90dQXkvSiwaQNcII-8GzGizMR6Zch', 'https://drive.google.com/uc?id=1xMDfr4RYbUdbMsK6lEG7cLVTLLIrUQ7e', 'https://drive.google.com/uc?id=1zS8GSJAA9Y3DaRSwRRSt6KL0Hpqcvx6a', 'https://drive.google.com/uc?id=1NcQcFyXDzWdUzYpwcDP6KxzwXNpA5nel', 'https://drive.google.com/uc?id=1Rw8g0rWu8LtSl000KcBUoHCbbimirdXP', 'https://drive.google.com/uc?id=1GTNwDOKcLkxbPUhuBCZbbRUm0NAeGNLj', 'https://drive.google.com/uc?id=13PFrzxtZW_WOY6ABLDUJuj0Jw3oXgjB3', 'https://drive.google.com/uc?id=1KGaEZQ14jmSD_IpEGgr8FJRgeCsaDl3m', 'https://drive.google.com/uc?id=15o2F5-vuxPSkhUDNtWHfZ3a7R-XwVazE', 'https://drive.google.com/uc?id=1XDF7ZsI8fsewZjhgSVwB4ttigR7Lqgkr', 'https://drive.google.com/uc?id=1kdzFkm74heqmDb60Y3ro7eVoU_UYM_dF', 'https://drive.google.com/uc?id=1lcY8s_3CdXvn1aJyH9Og1ZvksWfq9o2i', 'https://drive.google.com/uc?id=1JxxsKUNUO7Lw1KGR4gLSnqjfJn4_Av7X', 'https://drive.google.com/uc?id=1SrXEFEx8gYOrqDSuUUA9RcDQwSN7Xrho', 'https://drive.google.com/uc?id=1k_nhNBGKu0O39Xy7oovZy215MiDUU0ch', 'https://drive.google.com/uc?id=14mxsea4y9xhp8gWlL73jM_ORvFodDRLI', 'https://drive.google.com/uc?id=1Hu9vQkSpZUOBGpM6L26veY-yTB4CEjWv', 'https://drive.google.com/uc?id=1TXWs_QeSanjPRhZqG2vLfHF-n1DFipuZ', 'https://drive.google.com/uc?id=1H4_gxBcFq0CntvbBxhTEjEoFKtSs6WTt', 'https://drive.google.com/uc?id=1-dkbktqUSOgXn70vYQNohBMoAy3pknEW', 'https://drive.google.com/uc?id=1CMIP-wVApooKl0QgDd3SL9M4aHNQ1XnE', 'https://drive.google.com/uc?id=1h5K4OpC_80V6ceVASMnblCKIBqRA-_ys', 'https://drive.google.com/uc?id=1s0YaqVgqlv-ClQ-PNnoWhsQKEbw8GM8s', 'https://drive.google.com/uc?id=1Ng04ZxFLHWFr2a-_Px8RiQGc9i77ngQG', 'https://drive.google.com/uc?id=1G9y1oBCp1tQwyI1UU1bpruRRRCacitOi', 'https://drive.google.com/uc?id=1SPg7-maN6VaQGBEAi5QrQAFTSO1X3uT0', 'https://drive.google.com/uc?id=1E3O0r1fMMps_fcbDoJSzCi96_4Rs3ffc', 'https://drive.google.com/uc?id=1aNgSoRQduqEN4Ow332TEyzPz4TXMvUPv', 'https://drive.google.com/uc?id=17CqN7TOp3njdiL21PK-NvV5LfSKY6uCS', 'https://drive.google.com/uc?id=1W50UTre0XhoCwWcHM5RTwkBFCbLOdsk3', 'https://drive.google.com/uc?id=1s95JZTiFOklURGe9NoYAehqGw-EPbPAS', 'https://drive.google.com/uc?id=1Ui4rXaqtgjLiAQEqtWD7KsgyEpF3AYtL', 'https://drive.google.com/uc?id=1djQGvGRtsCUnj_EECK6V5NNkCfjIO-Wt', 'https://drive.google.com/uc?id=1wYSSU2BBiMGwMceh1eWW1xTmdWSZZHph', 'https://drive.google.com/uc?id=10CGinsGX-b8bDfImsO7vker3HS6vWTWd', 'https://drive.google.com/uc?id=1v7fjn0JS59xpn81O75UeltvzoilMXNXb', 'https://drive.google.com/uc?id=1oQJHR2kiIPykrawJCGeK_7m8HytLA-oG', 'https://drive.google.com/uc?id=1flkzdLKUPq-z9mgHy8ytPgha75cSQSXg', 'https://drive.google.com/uc?id=1Y3vXHsRmSKf9v7lX77410ebr9Ji-W8vk', 'https://drive.google.com/uc?id=1JFuitb5xev2n-569z4yXIM0nESG9gfLf', 'https://drive.google.com/uc?id=1tNrdu8iaz9WsZxur2y-t4aOhn7PPvqJE', 'https://drive.google.com/uc?id=1oyb0ps3N4k9Z7Up380Sf9fToUjYqF4Nl', 'https://drive.google.com/uc?id=1OC9S1yl5ehZ03X7lQtDaJ_LTQ2QmQCTa', 'https://drive.google.com/uc?id=1xsVvGN3YBZdKmVJnl1gN2eo2c2h7f4uU', 'https://drive.google.com/uc?id=1WmlQt2T1kbBXWLn4yq5p1Eotu8meAwDq', 'https://drive.google.com/uc?id=11AofAU3MT6yvVS8YHJC_apzw1dxztqkS', 'https://drive.google.com/uc?id=1Dg16crCZLsx9nEvb3KeG6sPsHWKKJsG9', 'https://drive.google.com/uc?id=16NsT7OE9cuk5AiPMkgedZz6TEZ9oTe_H', 'https://drive.google.com/uc?id=1YE0xuNBPDa5Z6Cs4FQn5Wsk80Ie1KM-G', 'https://drive.google.com/uc?id=1Auxkb2Jtsm3-YbDDK3jvM8cTkl-TTwUJ', 'https://drive.google.com/uc?id=10IHOjoYTJ64v3u1oNmU4B-7dZiv3-QPe', 'https://drive.google.com/uc?id=11egYJLD1thmby7CaLQ2cCFK6boZHPIzc', 'https://drive.google.com/uc?id=1DpIR4xH_GGJ50CgLxnl99R_g7ZGYz5eQ', 'https://drive.google.com/uc?id=1LgQbFweI2-E4eGrjttZOcu18K35nTaU_', 'https://drive.google.com/uc?id=1OVq3yKI93Z8pFX5kZCKX7beEzBnWHnb6', 'https://drive.google.com/uc?id=1MXm3nkIWtziDcjzKUJBRAWuj7KFBZMfa', 'https://drive.google.com/uc?id=1tjEUmy5_RRVhGKB7Bl9ZCPv8FD-LXBQD', 'https://drive.google.com/uc?id=1L_Mf26HhjfAd38XFrIMYQ03qKPeqIEFB', 'https://drive.google.com/uc?id=1dW9Jrw-5590AaFeXgBzONkL1qoFnDtIS', 'https://drive.google.com/uc?id=1ZdGnKIzyqVCB1M77lP5MUxyHwvv3nzht', 'https://drive.google.com/uc?id=1Na1BI9lcx37OK4LZ-T3fHuV2kM9gTATT', 'https://drive.google.com/uc?id=1c2BaskCeG8dTQhyb9L0Hk25t4ACjlWvh', 'https://drive.google.com/uc?id=1c5u29au99s0NJP9-rrUckQW2JWI-RGZ9', 'https://drive.google.com/uc?id=1t80IG0KEVDBBiT9VhxqxsO_xQSk6_tHr', 'https://drive.google.com/uc?id=1iY-uVl-9q7c_c8ZSjyLHwOLAj5FR5VcE', 'https://drive.google.com/uc?id=1n6JGO_GRm93XiIkjGME9aguarWV4jFUg', 'https://drive.google.com/uc?id=14-31NWjzbMFg3vnw0Ghq8e4MDD4nEogQ', 'https://drive.google.com/uc?id=1UznqULHw2131po9h3-gLTdWGGL_s-8dy', 'https://drive.google.com/uc?id=1C6Wi-Le5uA1LMnro54axE11zUyybpcg2', 'https://drive.google.com/uc?id=1bxmj_NKTMW5_t4sL41qxvY1SW9Por--C', 'https://drive.google.com/uc?id=1EFGVl5-D5nS9f2i0su8ZPO3idb8QeFaK', 'https://drive.google.com/uc?id=1t9G4xRS9ZSYBbKjpgv0eCILUNcozhfUw', 'https://drive.google.com/uc?id=1Vr1FdBBxXfwgwdsh-QcKNGSxCYnUWDuG', 'https://drive.google.com/uc?id=1C3xWwWZSfnFfyP7qkHtwk8DFW6aqcqhH', 'https://drive.google.com/uc?id=1sTxJxqlTw1wMk7ZcnRCnQZ4r3RqCP4ZN', 'https://drive.google.com/uc?id=1La5lekDJU7u4yHVJ6RLBZDDbpjjU3SqV', 'https://drive.google.com/uc?id=1lr1sH7ZvSvSm7P4q5X0GW-frFD-YqCt8', 'https://drive.google.com/uc?id=104SXvGMeDfah17PrYeMIikQR7bqAAuuk', 'https://drive.google.com/uc?id=12AFLKDcemRvTgjX1F40Tp5qTkxJRGfz8', 'https://drive.google.com/uc?id=1Xd8NIAQnB35JvBgvUPACiCgueeiv0FMm', 'https://drive.google.com/uc?id=1hEAKpp10LtP1sgWhChVPPqJcOAOKM8uc']}, 'Video4': {'L05': ['https://drive.google.com/uc?id=1wj95AMiSLjq5RVq0mZwr1VvwCvobRi86', 'https://drive.google.com/uc?id=1wL2aVYKSOoVCb0nB59-90B9Y4eg8r-xB', 'https://drive.google.com/uc?id=1v0GoVwL06nPuMCjU2v8_z-MBHdgs05Ie', 'https://drive.google.com/uc?id=1aGR8QNbKUQuwQkHCCfchFyUnBrtYBCcs', 'https://drive.google.com/uc?id=11B8VwfhCj7I0OXv7o-JlQRspLIOHlc8A', 'https://drive.google.com/uc?id=1ucbfGlCZDn2g8XSrmg3zgWZmNXBL2AC-', 'https://drive.google.com/uc?id=1fpF8GVPXpWKWGtGyLRU8XTqVdj-myOTC', 'https://drive.google.com/uc?id=1IdpOFnQe4cFX4Kw5Wpb2z6u_x9BFqicb', 'https://drive.google.com/uc?id=19euEDHYnPdmJaGcrga_1Eewu8q5eFipY', 'https://drive.google.com/uc?id=15kekBsoKzK8LVIkoQBB7RAU2K-jPUknE', 'https://drive.google.com/uc?id=1hW7foRp2KDDPcn9vfpy-r0Ba9msfFWad', 'https://drive.google.com/uc?id=1318yIFF35t4oeVJtyN7Egw9sI5mhC_ch', 'https://drive.google.com/uc?id=15Ue9MdG5aYHJYO_Isl5Qdv1kpvg5k1aj', 'https://drive.google.com/uc?id=1urYRm4veYDPbVu8bPrhE07BBp2tWiMux', 'https://drive.google.com/uc?id=1rb4nh8hadH1sc8QMOPAcc_nD-jBfkgzt', 'https://drive.google.com/uc?id=1H7cNO62S5bvTHYTU4d186khAwjWKviEq', 'https://drive.google.com/uc?id=1fi1BjYf-vquRySwRsrYgXiZd49HW21jm', 'https://drive.google.com/uc?id=1BuGuSkLiI_2GN1JjfI-7l0rLJZkJUvuK', 'https://drive.google.com/uc?id=16X55vqluxybEvC5VtrKoAS88gt-Ld9oB', 'https://drive.google.com/uc?id=1duaUPVAsM0nAWrXj0Fk37h5jQwuu63PO', 'https://drive.google.com/uc?id=1s04d9fJ2NTZtCxSoLqERBoo5r18dArCT', 'https://drive.google.com/uc?id=1gQyoQqAHlERetYMkUklItwWmr-DzqG3G', 'https://drive.google.com/uc?id=1dCd6sMEiXgAN_yaZ7b1UmSmItM0DlD3G', 'https://drive.google.com/uc?id=1ooJY3gCL-6dt2wLi3gUU-zafqmV4sgzY', 'https://drive.google.com/uc?id=1DbmVMedvdHUEww5WqijMj0b2YNi2jVNQ', 'https://drive.google.com/uc?id=1RYRjVWdFpcFs1h1jLS-gxzfYgYrSm4Fm', 'https://drive.google.com/uc?id=1V6t8a0v9Vk60xcCEr6dupzrpdDHE9xcG', 'https://drive.google.com/uc?id=1vbD6pwKikyl9g6Abje9fXhBi8mafTm97', 'https://drive.google.com/uc?id=1sb5Lm7yDa1APfUiLNjZwhBHAYE8s3hDD', 'https://drive.google.com/uc?id=1B5SFwr99sJnvmwOz_EFEpNEXoG-dG1Lj', 'https://drive.google.com/uc?id=1ZyPumpL7Xfc8lObVm9Bo93nzkzPX-h_1', 'https://drive.google.com/uc?id=1_UZnI1QNwFJ__3ZnBCkUpGxfOLBgI3Xh', 'https://drive.google.com/uc?id=1QHZ6R5eHS9uf9xf0tfayqXH3bmb8IHn7', 'https://drive.google.com/uc?id=1G89jz-dhF7hP9pnzWDb0qeMDXlF-Myfg', 'https://drive.google.com/uc?id=1bZ8wURjtjX3feXWUtNCpHcpXG8EN7urt', 'https://drive.google.com/uc?id=1Ot6pAlmIT4R98YlZ5V15It5JrMTZOFkI', 'https://drive.google.com/uc?id=1DPQx5NSSKnDcajFk4QZY3Wa0IXFXnNrq', 'https://drive.google.com/uc?id=1lV2SEfdXkdl1517UshkB3PjeMqsEpEho', 'https://drive.google.com/uc?id=1Bu53FmYvr4hJVa7vBfaJ-6duPYKCvYOO', 'https://drive.google.com/uc?id=1xEkgtdbl5B1E5U4uaU6qUpZTzpB5vx0S', 'https://drive.google.com/uc?id=1_bdthevjfJ2ZrW9Z43tk9l64jS6jDjom', 'https://drive.google.com/uc?id=1dxU7aAp9-pKOHZ3ybpTR03zvTlkaxE8u', 'https://drive.google.com/uc?id=1nlM32mazPi9nNokPj0mNDHUxi1pKO6dy', 'https://drive.google.com/uc?id=1xAlByGZ_BXn98ISJm3OMcQgEf5PNNPEV', 'https://drive.google.com/uc?id=12pR85sCcDRUOYPvvlVIkQKazKW-FLNuk', 'https://drive.google.com/uc?id=1-d2xakdknj8muE35zFpv9_4PZ_bUu-GV', 'https://drive.google.com/uc?id=1GQ3Y0DmS8oEk_sXi7lPs7lTO03s-0qXU', 'https://drive.google.com/uc?id=1ult831Ox38NWHJ-L5F0EEreZ7BVvSUNo', 'https://drive.google.com/uc?id=1ZinXk_zXmzu5ETjsYZC6A3sI5EIcg-TS', 'https://drive.google.com/uc?id=1lJkLQPR3CswD1cnbG_KHc2ItAaW0I-fA', 'https://drive.google.com/uc?id=1moOgNJuvu9fWyn_hustIRe8DRA1vBX5j', 'https://drive.google.com/uc?id=1X8V_00rfjWkhr6VDKrOesnArbdEgjce-', 'https://drive.google.com/uc?id=1W7A_B_4fQzHYzE4orVi_NXsaKTT1NO8_', 'https://drive.google.com/uc?id=1FguG1eG6yUntFYVOn8nSuPxs-tOvd_99', 'https://drive.google.com/uc?id=1nccA9zwy897PnNE9wYggklE7QtbyqLHp', 'https://drive.google.com/uc?id=1_5kYtYRX_nRYyx57bydK3gnfNTIh8yKl', 'https://drive.google.com/uc?id=14OSQwfpt_1-M4u3uqBnC52JuHEsBOAqv', 'https://drive.google.com/uc?id=1zPOPQH5APSXdzBifIEWTT81QSbvy-p9o', 'https://drive.google.com/uc?id=1w-MjDwubH0F8CnoTIk02rj4oLlHAYo70', 'https://drive.google.com/uc?id=1H05-goOfn6-Pfu0M14uK1hePW8zOEuwX', 'https://drive.google.com/uc?id=1ZnQdIm6bkfNzG-t2ETYOdtJDKn4z2FV2', 'https://drive.google.com/uc?id=1L3uNN2K_BhEnZddpUZ-3axrK9szTmRx1', 'https://drive.google.com/uc?id=1lDuV0mhTYawAkrjPZBmadTcAOstEecoH', 'https://drive.google.com/uc?id=1xCrMYgmlyK20yuv6KJCYNGL06gXQlWGn', 'https://drive.google.com/uc?id=1nT_SfhMc-aaBG_ASMWymXEEisWoVDuRk', 'https://drive.google.com/uc?id=1Nw0o5TYJcyCpWIpT9FOzn1SFlsuAeDSj', 'https://drive.google.com/uc?id=1jjMtczGiJN46R4YFFiDpQME5meoJCdb9', 'https://drive.google.com/uc?id=1hpq3NEWGYjVhtK_Y8KT2zgjhm8vNrF8K', 'https://drive.google.com/uc?id=1684mweE5fs-IxfnQAJbfCSRycufBRcNB', 'https://drive.google.com/uc?id=1uR0rjPf0hHCGM___UH6-CZwTe3Qe7XEA', 'https://drive.google.com/uc?id=1yOctfunEFwbBZ5GzWdwEirDIdWDMj8ve', 'https://drive.google.com/uc?id=1jqabMOzl9PLplEZodCAfBwCQ-Go7n9xJ', 'https://drive.google.com/uc?id=1FZMRectKO6uedaNvYvfSNgSdgdcvMTil', 'https://drive.google.com/uc?id=1Ih5CuoaePC8XnsFvd3MCrlW6Be-n69Gm', 'https://drive.google.com/uc?id=1aOeafB2PLpXoKmv5Tmzt1BDK_H0T7mGx', 'https://drive.google.com/uc?id=1dOuUyJDYO1AihS3OsMwUzpy7xSGs6fh3', 'https://drive.google.com/uc?id=1cv0qSjeBjuIOsK18DicKc3fe5iesGoKF', 'https://drive.google.com/uc?id=1HJ5OwQPoAPOQNB3f7u2ZbWef_UwS65fk', 'https://drive.google.com/uc?id=1T4SzPCTn18hOQMIkaDqeMLRQUOiyi1Ce', 'https://drive.google.com/uc?id=1nbsrwgxEZbCOG_ar0C6_HwQ3yImmW3j5', 'https://drive.google.com/uc?id=12NbhMzpUaxrSmqWGrvG5L51lbS50vzCK', 'https://drive.google.com/uc?id=1GyQEj99x_cnHWFhEPY0mX7O8sJ63x45j', 'https://drive.google.com/uc?id=1gEilU2YsSOxVh6jls-k23zm_kHhvp2A6', 'https://drive.google.com/uc?id=10kJM2BXNQfe4XcvGG8a68Q9Kk0thDuWn', 'https://drive.google.com/uc?id=1UXPCjDQCMK5a7Q4VfuiEBOoMENnIuIQJ', 'https://drive.google.com/uc?id=162VH4KG-x19O-pStT8q984SueVr0_IfX', 'https://drive.google.com/uc?id=1pth0V24kfiHVgJuPmLtLKaFeji7rqtpQ', 'https://drive.google.com/uc?id=1oTU7a54Uhd1bYLBgsZc__CNYw70N9NQK', 'https://drive.google.com/uc?id=1pAPMkcQSqFmt6mlPzH6uWSliM6xpUEbX', 'https://drive.google.com/uc?id=1MGBSLaXdP9bxeog2B63UBSv4qcH8OX7S', 'https://drive.google.com/uc?id=1q8sjajgkMM2dgLTibnRGRDiHL0sHwi4w', 'https://drive.google.com/uc?id=1l0FoEZ66f2uxdH52kDvept7hlnw15MJV', 'https://drive.google.com/uc?id=1K9cpw4DUCqgZAI58ztXaY2Im7MduqnE9', 'https://drive.google.com/uc?id=15odtZj1sdull0QGiF-Gnh9zUuNP5b4TO', 'https://drive.google.com/uc?id=1B1kW2csb4zQlf_pTd0Qc1Eh573PndqXb', 'https://drive.google.com/uc?id=1BK8v4IJgLmvGke9zpAM3O1cXdo7d8zJE', 'https://drive.google.com/uc?id=1FkQVxacM1g8j31YxZYcJONoG2RtQpgRM', 'https://drive.google.com/uc?id=1Mz95XqFtruCVpgtEhu9ujYqCKMWmcc_1', 'https://drive.google.com/uc?id=1eK1NZs6fgmV4ijPjjMux1ja0u8sge3Wl', 'https://drive.google.com/uc?id=1gy-GjzI7uyH3qxrUARV1B_i8tRds79DN']}}\n"
     ]
    }
   ],
   "source": [
    "from google_auth_oauthlib.flow import InstalledAppFlow\n",
    "from googleapiclient.discovery import build\n",
    "from googleapiclient.errors import HttpError\n",
    "\n",
    "SCOPES = 'https://www.googleapis.com/auth/drive'\n",
    "CLIENT_SECRET = '../credentials.json'\n",
    "keyframes_dir_id = '1bqJG0CRIIuVIib3pBcA2k8iiRyWlwmq9'\n",
    "\n",
    "flow = InstalledAppFlow.from_client_secrets_file(CLIENT_SECRET, SCOPES)\n",
    "creds = flow.run_local_server(port=8502)\n",
    "service = build('drive', 'v3', credentials=creds)\n",
    "\n",
    "def list_folder_contents(folder_id):\n",
    "    \"\"\"List all files and folders within a specified Google Drive folder.\"\"\"\n",
    "    query = f\"'{folder_id}' in parents and trashed = false\"\n",
    "    files = []\n",
    "    try:\n",
    "        results = service.files().list(q=query, fields=\"files(id, name, mimeType)\").execute()\n",
    "        files = results.get('files', [])\n",
    "    except HttpError as error:\n",
    "        print(f\"An error occurred: {error}\")\n",
    "    return files\n",
    "\n",
    "all_keyframe_paths = {}\n",
    "\n",
    "# Get video folders inside the keyframes directory\n",
    "video_folders = list_folder_contents(keyframes_dir_id)\n",
    "for video_folder in video_folders:\n",
    "    # Skip .DS_Store and non-video folders\n",
    "    if video_folder['name'] == '.DS_Store' or not video_folder['name'].startswith('Video'):\n",
    "        continue\n",
    "    \n",
    "    video_name = video_folder['name']\n",
    "    all_keyframe_paths[video_name] = {}\n",
    "    \n",
    "    # Get subfolders (like L00, L01)\n",
    "    subfolders = list_folder_contents(video_folder['id'])\n",
    "    for subfolder in subfolders:\n",
    "        # Skip .DS_Store and reduced folders\n",
    "        if subfolder['name'] == '.DS_Store' or '_reduced' in subfolder['name']:\n",
    "            continue\n",
    "        \n",
    "        subfolder_name = subfolder['name']\n",
    "        all_keyframe_paths[video_name][subfolder_name] = []\n",
    "        \n",
    "        # Get jpg files in the subfolder\n",
    "        keyframe_files = list_folder_contents(subfolder['id'])\n",
    "        for keyframe_file in keyframe_files:\n",
    "            if keyframe_file['mimeType'] in ['image/jpeg', 'image/jpg'] and keyframe_file['name'] != '.DS_Store':\n",
    "                file_url = f'https://drive.google.com/uc?id={keyframe_file[\"id\"]}'\n",
    "                all_keyframe_paths[video_name][subfolder_name].append(file_url)\n",
    "\n",
    "print(all_keyframe_paths)"
   ]
  },
  {
   "cell_type": "markdown",
   "id": "db92eca0",
   "metadata": {
    "papermill": {
     "duration": 0.002402,
     "end_time": "2023-10-02T02:04:35.904476",
     "exception": false,
     "start_time": "2023-10-02T02:04:35.902074",
     "status": "completed"
    },
    "tags": []
   },
   "source": [
    "# Model"
   ]
  },
  {
   "cell_type": "code",
   "execution_count": 4,
   "id": "762a1a1a",
   "metadata": {
    "execution": {
     "iopub.execute_input": "2023-10-02T02:04:35.911036Z",
     "iopub.status.busy": "2023-10-02T02:04:35.910143Z",
     "iopub.status.idle": "2023-10-02T02:04:53.752859Z",
     "shell.execute_reply": "2023-10-02T02:04:53.751925Z"
    },
    "papermill": {
     "duration": 17.848168,
     "end_time": "2023-10-02T02:04:53.755022",
     "exception": false,
     "start_time": "2023-10-02T02:04:35.906854",
     "status": "completed"
    },
    "tags": []
   },
   "outputs": [
    {
     "name": "stdout",
     "output_type": "stream",
     "text": [
      "cpu\n"
     ]
    },
    {
     "name": "stderr",
     "output_type": "stream",
     "text": [
      "/opt/anaconda3/lib/python3.12/site-packages/open_clip/factory.py:129: FutureWarning: You are using `torch.load` with `weights_only=False` (the current default value), which uses the default pickle module implicitly. It is possible to construct malicious pickle data which will execute arbitrary code during unpickling (See https://github.com/pytorch/pytorch/blob/main/SECURITY.md#untrusted-models for more details). In a future release, the default value for `weights_only` will be flipped to `True`. This limits the functions that could be executed during unpickling. Arbitrary objects will no longer be allowed to be loaded via this mode unless they are explicitly allowlisted by the user via `torch.serialization.add_safe_globals`. We recommend you start setting `weights_only=True` for any use case where you don't have full control of the loaded file. Please open an issue on GitHub for any issues related to this experimental feature.\n",
      "  checkpoint = torch.load(checkpoint_path, map_location=map_location)\n"
     ]
    }
   ],
   "source": [
    "##### Load Model #####\n",
    "device = \"cuda\" if torch.cuda.is_available() else \"cpu\"\n",
    "print(device)\n",
    "model, _, preprocess = open_clip.create_model_and_transforms('ViT-L-14', device=device, pretrained='datacomp_xl_s13b_b90k')"
   ]
  },
  {
   "cell_type": "code",
   "execution_count": 5,
   "id": "fe275161",
   "metadata": {
    "execution": {
     "iopub.execute_input": "2023-10-02T02:04:53.769944Z",
     "iopub.status.busy": "2023-10-02T02:04:53.769409Z",
     "iopub.status.idle": "2023-10-02T03:06:06.664115Z",
     "shell.execute_reply": "2023-10-02T03:06:06.663227Z"
    },
    "papermill": {
     "duration": 3672.944639,
     "end_time": "2023-10-02T03:06:06.704722",
     "exception": false,
     "start_time": "2023-10-02T02:04:53.760083",
     "status": "completed"
    },
    "tags": []
   },
   "outputs": [
    {
     "name": "stderr",
     "output_type": "stream",
     "text": [
      "100%|██████████| 1/1 [00:47<00:00, 47.91s/it]\n",
      "100%|██████████| 1/1 [00:26<00:00, 26.13s/it]\n",
      "100%|██████████| 1/1 [04:32<00:00, 272.30s/it]\n",
      "100%|██████████| 1/1 [02:34<00:00, 154.21s/it]\n",
      "100%|██████████| 1/1 [04:55<00:00, 295.22s/it]\n",
      "100%|██████████| 1/1 [04:19<00:00, 259.58s/it]\n"
     ]
    }
   ],
   "source": [
    "bs = 4\n",
    "save_dir = './CLIPv2_features'\n",
    "if not os.path.exists(save_dir):\n",
    "    os.mkdir(save_dir)\n",
    "\n",
    "for key, video_keyframe_paths in all_keyframe_paths.items():\n",
    "    video_ids = sorted(video_keyframe_paths.keys())\n",
    "    \n",
    "    if not os.path.exists(os.path.join(save_dir, key)):\n",
    "        os.mkdir(os.path.join(save_dir, key))\n",
    "    \n",
    "    for video_id in tqdm(video_ids):\n",
    "        video_feats = []\n",
    "        video_keyframe_path = video_keyframe_paths[video_id]\n",
    "        for i in range(0, len(video_keyframe_path), bs):\n",
    "            # Support batchsize inferencing\n",
    "            images = []\n",
    "            image_urls = video_keyframe_path[i:i+bs]\n",
    "            for image_url in image_urls:\n",
    "                # Download image from Google Drive with headers\n",
    "                headers = {\n",
    "                    'User-Agent': 'Mozilla/5.0 (Windows NT 10.0; Win64; x64) AppleWebKit/537.36 (KHTML, like Gecko) Chrome/91.0.4472.124 Safari/537.36'\n",
    "                }\n",
    "                response = requests.get(image_url, headers=headers, allow_redirects=True)\n",
    "                \n",
    "                # Verify content type\n",
    "                content_type = response.headers.get('content-type', '')\n",
    "                if 'image' not in content_type.lower():\n",
    "                    print(f\"Skipping non-image URL: {image_url}\")\n",
    "                    continue\n",
    "                \n",
    "                try:\n",
    "                    image = Image.open(BytesIO(response.content))\n",
    "                    image = preprocess(image).unsqueeze(0)\n",
    "                    images.append(image)\n",
    "                except Exception as e:\n",
    "                    print(f\"Error processing image {image_url}: {e}\")\n",
    "                    continue\n",
    "            \n",
    "            if not images:\n",
    "                print(f\"No valid images for {video_id}\")\n",
    "                continue\n",
    "            \n",
    "            images = torch.cat(images).to(device)\n",
    "\n",
    "            with torch.no_grad():\n",
    "                image_feats = model.encode_image(images)\n",
    "            image_feats /= image_feats.norm(dim=-1, keepdim=True)\n",
    "\n",
    "            for b in range(image_feats.shape[0]):\n",
    "                video_feats.append(image_feats[b].detach().cpu().numpy().astype(np.float32).flatten())\n",
    "        \n",
    "        if video_feats:\n",
    "            np.save(f'{save_dir}/{key}/{video_id}.npy', video_feats)\n",
    "        else:\n",
    "            print(f\"No features extracted for {key}/{video_id}\")"
   ]
  }
 ],
 "metadata": {
  "kernelspec": {
   "display_name": "base",
   "language": "python",
   "name": "python3"
  },
  "language_info": {
   "codemirror_mode": {
    "name": "ipython",
    "version": 3
   },
   "file_extension": ".py",
   "mimetype": "text/x-python",
   "name": "python",
   "nbconvert_exporter": "python",
   "pygments_lexer": "ipython3",
   "version": "3.12.4"
  },
  "papermill": {
   "default_parameters": {},
   "duration": 3728.148978,
   "end_time": "2023-10-02T03:06:09.468543",
   "environment_variables": {},
   "exception": null,
   "input_path": "__notebook__.ipynb",
   "output_path": "__notebook__.ipynb",
   "parameters": {},
   "start_time": "2023-10-02T02:04:01.319565",
   "version": "2.4.0"
  },
  "widgets": {
   "application/vnd.jupyter.widget-state+json": {
    "state": {
     "02748340baee4c35abf994bac6af4993": {
      "model_module": "@jupyter-widgets/controls",
      "model_module_version": "1.5.0",
      "model_name": "DescriptionStyleModel",
      "state": {
       "_model_module": "@jupyter-widgets/controls",
       "_model_module_version": "1.5.0",
       "_model_name": "DescriptionStyleModel",
       "_view_count": null,
       "_view_module": "@jupyter-widgets/base",
       "_view_module_version": "1.2.0",
       "_view_name": "StyleView",
       "description_width": ""
      }
     },
     "4453635363ee4d75bedd7d0a6ac487dc": {
      "model_module": "@jupyter-widgets/controls",
      "model_module_version": "1.5.0",
      "model_name": "HTMLModel",
      "state": {
       "_dom_classes": [],
       "_model_module": "@jupyter-widgets/controls",
       "_model_module_version": "1.5.0",
       "_model_name": "HTMLModel",
       "_view_count": null,
       "_view_module": "@jupyter-widgets/controls",
       "_view_module_version": "1.5.0",
       "_view_name": "HTMLView",
       "description": "",
       "description_tooltip": null,
       "layout": "IPY_MODEL_82e967eaeace484a8fb9701f873d7a59",
       "placeholder": "​",
       "style": "IPY_MODEL_8955cfd77ce34c9687f4266f941a0c61",
       "value": " 1.71G/1.71G [00:06&lt;00:00, 247MB/s]"
      }
     },
     "80dde6d9167e4dfaba7894cb61cfe458": {
      "model_module": "@jupyter-widgets/base",
      "model_module_version": "1.2.0",
      "model_name": "LayoutModel",
      "state": {
       "_model_module": "@jupyter-widgets/base",
       "_model_module_version": "1.2.0",
       "_model_name": "LayoutModel",
       "_view_count": null,
       "_view_module": "@jupyter-widgets/base",
       "_view_module_version": "1.2.0",
       "_view_name": "LayoutView",
       "align_content": null,
       "align_items": null,
       "align_self": null,
       "border": null,
       "bottom": null,
       "display": null,
       "flex": null,
       "flex_flow": null,
       "grid_area": null,
       "grid_auto_columns": null,
       "grid_auto_flow": null,
       "grid_auto_rows": null,
       "grid_column": null,
       "grid_gap": null,
       "grid_row": null,
       "grid_template_areas": null,
       "grid_template_columns": null,
       "grid_template_rows": null,
       "height": null,
       "justify_content": null,
       "justify_items": null,
       "left": null,
       "margin": null,
       "max_height": null,
       "max_width": null,
       "min_height": null,
       "min_width": null,
       "object_fit": null,
       "object_position": null,
       "order": null,
       "overflow": null,
       "overflow_x": null,
       "overflow_y": null,
       "padding": null,
       "right": null,
       "top": null,
       "visibility": null,
       "width": null
      }
     },
     "82e967eaeace484a8fb9701f873d7a59": {
      "model_module": "@jupyter-widgets/base",
      "model_module_version": "1.2.0",
      "model_name": "LayoutModel",
      "state": {
       "_model_module": "@jupyter-widgets/base",
       "_model_module_version": "1.2.0",
       "_model_name": "LayoutModel",
       "_view_count": null,
       "_view_module": "@jupyter-widgets/base",
       "_view_module_version": "1.2.0",
       "_view_name": "LayoutView",
       "align_content": null,
       "align_items": null,
       "align_self": null,
       "border": null,
       "bottom": null,
       "display": null,
       "flex": null,
       "flex_flow": null,
       "grid_area": null,
       "grid_auto_columns": null,
       "grid_auto_flow": null,
       "grid_auto_rows": null,
       "grid_column": null,
       "grid_gap": null,
       "grid_row": null,
       "grid_template_areas": null,
       "grid_template_columns": null,
       "grid_template_rows": null,
       "height": null,
       "justify_content": null,
       "justify_items": null,
       "left": null,
       "margin": null,
       "max_height": null,
       "max_width": null,
       "min_height": null,
       "min_width": null,
       "object_fit": null,
       "object_position": null,
       "order": null,
       "overflow": null,
       "overflow_x": null,
       "overflow_y": null,
       "padding": null,
       "right": null,
       "top": null,
       "visibility": null,
       "width": null
      }
     },
     "8955cfd77ce34c9687f4266f941a0c61": {
      "model_module": "@jupyter-widgets/controls",
      "model_module_version": "1.5.0",
      "model_name": "DescriptionStyleModel",
      "state": {
       "_model_module": "@jupyter-widgets/controls",
       "_model_module_version": "1.5.0",
       "_model_name": "DescriptionStyleModel",
       "_view_count": null,
       "_view_module": "@jupyter-widgets/base",
       "_view_module_version": "1.2.0",
       "_view_name": "StyleView",
       "description_width": ""
      }
     },
     "a50b15c779ac47b49efcec812f174e7f": {
      "model_module": "@jupyter-widgets/base",
      "model_module_version": "1.2.0",
      "model_name": "LayoutModel",
      "state": {
       "_model_module": "@jupyter-widgets/base",
       "_model_module_version": "1.2.0",
       "_model_name": "LayoutModel",
       "_view_count": null,
       "_view_module": "@jupyter-widgets/base",
       "_view_module_version": "1.2.0",
       "_view_name": "LayoutView",
       "align_content": null,
       "align_items": null,
       "align_self": null,
       "border": null,
       "bottom": null,
       "display": null,
       "flex": null,
       "flex_flow": null,
       "grid_area": null,
       "grid_auto_columns": null,
       "grid_auto_flow": null,
       "grid_auto_rows": null,
       "grid_column": null,
       "grid_gap": null,
       "grid_row": null,
       "grid_template_areas": null,
       "grid_template_columns": null,
       "grid_template_rows": null,
       "height": null,
       "justify_content": null,
       "justify_items": null,
       "left": null,
       "margin": null,
       "max_height": null,
       "max_width": null,
       "min_height": null,
       "min_width": null,
       "object_fit": null,
       "object_position": null,
       "order": null,
       "overflow": null,
       "overflow_x": null,
       "overflow_y": null,
       "padding": null,
       "right": null,
       "top": null,
       "visibility": null,
       "width": null
      }
     },
     "a5e58289101a46219aee7ef25ecb3ec9": {
      "model_module": "@jupyter-widgets/controls",
      "model_module_version": "1.5.0",
      "model_name": "HTMLModel",
      "state": {
       "_dom_classes": [],
       "_model_module": "@jupyter-widgets/controls",
       "_model_module_version": "1.5.0",
       "_model_name": "HTMLModel",
       "_view_count": null,
       "_view_module": "@jupyter-widgets/controls",
       "_view_module_version": "1.5.0",
       "_view_name": "HTMLView",
       "description": "",
       "description_tooltip": null,
       "layout": "IPY_MODEL_80dde6d9167e4dfaba7894cb61cfe458",
       "placeholder": "​",
       "style": "IPY_MODEL_02748340baee4c35abf994bac6af4993",
       "value": "Downloading (…)ip_pytorch_model.bin: 100%"
      }
     },
     "c894535a8bbc4aab8caca8a429ccf221": {
      "model_module": "@jupyter-widgets/controls",
      "model_module_version": "1.5.0",
      "model_name": "HBoxModel",
      "state": {
       "_dom_classes": [],
       "_model_module": "@jupyter-widgets/controls",
       "_model_module_version": "1.5.0",
       "_model_name": "HBoxModel",
       "_view_count": null,
       "_view_module": "@jupyter-widgets/controls",
       "_view_module_version": "1.5.0",
       "_view_name": "HBoxView",
       "box_style": "",
       "children": [
        "IPY_MODEL_a5e58289101a46219aee7ef25ecb3ec9",
        "IPY_MODEL_f8ad8531af8d491f8bc31fc6b706a95f",
        "IPY_MODEL_4453635363ee4d75bedd7d0a6ac487dc"
       ],
       "layout": "IPY_MODEL_d84d1e4c467749c5a74ca24183cc5382"
      }
     },
     "d5c4c5d2013c4653afa31b39e22ad076": {
      "model_module": "@jupyter-widgets/controls",
      "model_module_version": "1.5.0",
      "model_name": "ProgressStyleModel",
      "state": {
       "_model_module": "@jupyter-widgets/controls",
       "_model_module_version": "1.5.0",
       "_model_name": "ProgressStyleModel",
       "_view_count": null,
       "_view_module": "@jupyter-widgets/base",
       "_view_module_version": "1.2.0",
       "_view_name": "StyleView",
       "bar_color": null,
       "description_width": ""
      }
     },
     "d84d1e4c467749c5a74ca24183cc5382": {
      "model_module": "@jupyter-widgets/base",
      "model_module_version": "1.2.0",
      "model_name": "LayoutModel",
      "state": {
       "_model_module": "@jupyter-widgets/base",
       "_model_module_version": "1.2.0",
       "_model_name": "LayoutModel",
       "_view_count": null,
       "_view_module": "@jupyter-widgets/base",
       "_view_module_version": "1.2.0",
       "_view_name": "LayoutView",
       "align_content": null,
       "align_items": null,
       "align_self": null,
       "border": null,
       "bottom": null,
       "display": null,
       "flex": null,
       "flex_flow": null,
       "grid_area": null,
       "grid_auto_columns": null,
       "grid_auto_flow": null,
       "grid_auto_rows": null,
       "grid_column": null,
       "grid_gap": null,
       "grid_row": null,
       "grid_template_areas": null,
       "grid_template_columns": null,
       "grid_template_rows": null,
       "height": null,
       "justify_content": null,
       "justify_items": null,
       "left": null,
       "margin": null,
       "max_height": null,
       "max_width": null,
       "min_height": null,
       "min_width": null,
       "object_fit": null,
       "object_position": null,
       "order": null,
       "overflow": null,
       "overflow_x": null,
       "overflow_y": null,
       "padding": null,
       "right": null,
       "top": null,
       "visibility": null,
       "width": null
      }
     },
     "f8ad8531af8d491f8bc31fc6b706a95f": {
      "model_module": "@jupyter-widgets/controls",
      "model_module_version": "1.5.0",
      "model_name": "FloatProgressModel",
      "state": {
       "_dom_classes": [],
       "_model_module": "@jupyter-widgets/controls",
       "_model_module_version": "1.5.0",
       "_model_name": "FloatProgressModel",
       "_view_count": null,
       "_view_module": "@jupyter-widgets/controls",
       "_view_module_version": "1.5.0",
       "_view_name": "ProgressView",
       "bar_style": "success",
       "description": "",
       "description_tooltip": null,
       "layout": "IPY_MODEL_a50b15c779ac47b49efcec812f174e7f",
       "max": 1710639109,
       "min": 0,
       "orientation": "horizontal",
       "style": "IPY_MODEL_d5c4c5d2013c4653afa31b39e22ad076",
       "value": 1710639109
      }
     }
    },
    "version_major": 2,
    "version_minor": 0
   }
  }
 },
 "nbformat": 4,
 "nbformat_minor": 5
}
