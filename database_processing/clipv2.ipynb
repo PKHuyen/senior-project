{
 "cells": [
  {
   "cell_type": "code",
   "execution_count": 1,
   "id": "9f593449",
   "metadata": {
    "execution": {
     "iopub.execute_input": "2023-10-02T02:04:10.111716Z",
     "iopub.status.busy": "2023-10-02T02:04:10.110735Z",
     "iopub.status.idle": "2023-10-02T02:04:19.698534Z",
     "shell.execute_reply": "2023-10-02T02:04:19.697381Z"
    },
    "papermill": {
     "duration": 9.593781,
     "end_time": "2023-10-02T02:04:19.700760",
     "exception": false,
     "start_time": "2023-10-02T02:04:10.106979",
     "status": "completed"
    },
    "tags": []
   },
   "outputs": [
    {
     "name": "stdout",
     "output_type": "stream",
     "text": [
      "Requirement already satisfied: open_clip_torch in /opt/anaconda3/lib/python3.12/site-packages (2.26.1)\n",
      "Requirement already satisfied: torch>=1.9.0 in /opt/anaconda3/lib/python3.12/site-packages (from open_clip_torch) (2.4.1)\n",
      "Requirement already satisfied: torchvision in /opt/anaconda3/lib/python3.12/site-packages (from open_clip_torch) (0.19.1)\n",
      "Requirement already satisfied: regex in /opt/anaconda3/lib/python3.12/site-packages (from open_clip_torch) (2023.10.3)\n",
      "Requirement already satisfied: ftfy in /opt/anaconda3/lib/python3.12/site-packages (from open_clip_torch) (6.2.3)\n",
      "Requirement already satisfied: tqdm in /opt/anaconda3/lib/python3.12/site-packages (from open_clip_torch) (4.66.4)\n",
      "Requirement already satisfied: huggingface-hub in /opt/anaconda3/lib/python3.12/site-packages (from open_clip_torch) (0.25.0)\n",
      "Requirement already satisfied: timm in /opt/anaconda3/lib/python3.12/site-packages (from open_clip_torch) (1.0.9)\n",
      "Requirement already satisfied: filelock in /opt/anaconda3/lib/python3.12/site-packages (from torch>=1.9.0->open_clip_torch) (3.13.1)\n",
      "Requirement already satisfied: typing-extensions>=4.8.0 in /opt/anaconda3/lib/python3.12/site-packages (from torch>=1.9.0->open_clip_torch) (4.11.0)\n",
      "Requirement already satisfied: sympy in /opt/anaconda3/lib/python3.12/site-packages (from torch>=1.9.0->open_clip_torch) (1.12)\n",
      "Requirement already satisfied: networkx in /opt/anaconda3/lib/python3.12/site-packages (from torch>=1.9.0->open_clip_torch) (3.2.1)\n",
      "Requirement already satisfied: jinja2 in /opt/anaconda3/lib/python3.12/site-packages (from torch>=1.9.0->open_clip_torch) (3.1.4)\n",
      "Requirement already satisfied: fsspec in /opt/anaconda3/lib/python3.12/site-packages (from torch>=1.9.0->open_clip_torch) (2024.3.1)\n",
      "Requirement already satisfied: setuptools in /opt/anaconda3/lib/python3.12/site-packages (from torch>=1.9.0->open_clip_torch) (69.5.1)\n",
      "Requirement already satisfied: wcwidth<0.3.0,>=0.2.12 in /opt/anaconda3/lib/python3.12/site-packages (from ftfy->open_clip_torch) (0.2.13)\n",
      "Requirement already satisfied: packaging>=20.9 in /opt/anaconda3/lib/python3.12/site-packages (from huggingface-hub->open_clip_torch) (23.2)\n",
      "Requirement already satisfied: pyyaml>=5.1 in /opt/anaconda3/lib/python3.12/site-packages (from huggingface-hub->open_clip_torch) (6.0.1)\n",
      "Requirement already satisfied: requests in /opt/anaconda3/lib/python3.12/site-packages (from huggingface-hub->open_clip_torch) (2.32.2)\n",
      "Requirement already satisfied: safetensors in /opt/anaconda3/lib/python3.12/site-packages (from timm->open_clip_torch) (0.4.5)\n",
      "Requirement already satisfied: numpy in /opt/anaconda3/lib/python3.12/site-packages (from torchvision->open_clip_torch) (1.26.4)\n",
      "Requirement already satisfied: pillow!=8.3.*,>=5.3.0 in /opt/anaconda3/lib/python3.12/site-packages (from torchvision->open_clip_torch) (10.3.0)\n",
      "Requirement already satisfied: MarkupSafe>=2.0 in /opt/anaconda3/lib/python3.12/site-packages (from jinja2->torch>=1.9.0->open_clip_torch) (2.1.3)\n",
      "Requirement already satisfied: charset-normalizer<4,>=2 in /opt/anaconda3/lib/python3.12/site-packages (from requests->huggingface-hub->open_clip_torch) (2.0.4)\n",
      "Requirement already satisfied: idna<4,>=2.5 in /opt/anaconda3/lib/python3.12/site-packages (from requests->huggingface-hub->open_clip_torch) (2.10)\n",
      "Requirement already satisfied: urllib3<3,>=1.21.1 in /opt/anaconda3/lib/python3.12/site-packages (from requests->huggingface-hub->open_clip_torch) (2.2.2)\n",
      "Requirement already satisfied: certifi>=2017.4.17 in /opt/anaconda3/lib/python3.12/site-packages (from requests->huggingface-hub->open_clip_torch) (2024.8.30)\n",
      "Requirement already satisfied: mpmath>=0.19 in /opt/anaconda3/lib/python3.12/site-packages (from sympy->torch>=1.9.0->open_clip_torch) (1.3.0)\n",
      "\u001b[33mWARNING: There was an error checking the latest version of pip.\u001b[0m\u001b[33m\n",
      "\u001b[0m"
     ]
    }
   ],
   "source": [
    "# Instal dependency\n",
    "!pip install open_clip_torch"
   ]
  },
  {
   "cell_type": "code",
   "execution_count": 2,
   "id": "3e927d76",
   "metadata": {
    "execution": {
     "iopub.execute_input": "2023-10-02T02:04:19.707454Z",
     "iopub.status.busy": "2023-10-02T02:04:19.707175Z",
     "iopub.status.idle": "2023-10-02T02:04:26.405375Z",
     "shell.execute_reply": "2023-10-02T02:04:26.404385Z"
    },
    "papermill": {
     "duration": 6.703956,
     "end_time": "2023-10-02T02:04:26.407521",
     "exception": false,
     "start_time": "2023-10-02T02:04:19.703565",
     "status": "completed"
    },
    "tags": []
   },
   "outputs": [],
   "source": [
    "# Import module\n",
    "import os\n",
    "import open_clip\n",
    "import glob\n",
    "import torch\n",
    "import numpy as np\n",
    "from PIL import Image\n",
    "from tqdm import tqdm"
   ]
  },
  {
   "cell_type": "markdown",
   "id": "6a75aa1f",
   "metadata": {
    "papermill": {
     "duration": 0.002388,
     "end_time": "2023-10-02T02:04:26.412624",
     "exception": false,
     "start_time": "2023-10-02T02:04:26.410236",
     "status": "completed"
    },
    "tags": []
   },
   "source": [
    "# Parse data path"
   ]
  },
  {
   "cell_type": "code",
   "execution_count": 6,
   "id": "88ef2f9c",
   "metadata": {
    "execution": {
     "iopub.execute_input": "2023-10-02T02:04:26.418818Z",
     "iopub.status.busy": "2023-10-02T02:04:26.418306Z",
     "iopub.status.idle": "2023-10-02T02:04:26.429952Z",
     "shell.execute_reply": "2023-10-02T02:04:26.429129Z"
    },
    "papermill": {
     "duration": 0.016615,
     "end_time": "2023-10-02T02:04:26.431617",
     "exception": false,
     "start_time": "2023-10-02T02:04:26.415002",
     "status": "completed"
    },
    "tags": []
   },
   "outputs": [],
   "source": [
    "keyframes_dir = '/Users/huyenphung/Desktop/senior-project/keyframe_information/keyframe/L00_reduced'\n",
    "# all_keyframe_paths = dict()\n",
    "# for part in sorted(os.listdir(keyframes_dir)):\n",
    "#     data_part = part.split('_')[-1] # L01, L02 for ex\n",
    "#     all_keyframe_paths[data_part] =  dict()\n",
    "\n",
    "# for data_part in sorted(all_keyframe_paths.keys()):\n",
    "#     data_part_path = f'{keyframes_dir}/{data_part}'\n",
    "#     video_dirs = sorted(os.listdir(data_part_path))\n",
    "#     video_ids = [video_dir.split('_')[-1] for video_dir in video_dirs]\n",
    "#     for video_id, video_dir in zip(video_ids, video_dirs):\n",
    "#         keyframe_paths = sorted(glob.glob(f'{data_part_path}/{video_dir}/*.webp'))\n",
    "#         all_keyframe_paths[data_part][video_id] = keyframe_paths"
   ]
  },
  {
   "cell_type": "markdown",
   "id": "db92eca0",
   "metadata": {
    "papermill": {
     "duration": 0.002402,
     "end_time": "2023-10-02T02:04:35.904476",
     "exception": false,
     "start_time": "2023-10-02T02:04:35.902074",
     "status": "completed"
    },
    "tags": []
   },
   "source": [
    "# Model"
   ]
  },
  {
   "cell_type": "code",
   "execution_count": 4,
   "id": "762a1a1a",
   "metadata": {
    "execution": {
     "iopub.execute_input": "2023-10-02T02:04:35.911036Z",
     "iopub.status.busy": "2023-10-02T02:04:35.910143Z",
     "iopub.status.idle": "2023-10-02T02:04:53.752859Z",
     "shell.execute_reply": "2023-10-02T02:04:53.751925Z"
    },
    "papermill": {
     "duration": 17.848168,
     "end_time": "2023-10-02T02:04:53.755022",
     "exception": false,
     "start_time": "2023-10-02T02:04:35.906854",
     "status": "completed"
    },
    "tags": []
   },
   "outputs": [
    {
     "name": "stdout",
     "output_type": "stream",
     "text": [
      "cpu\n"
     ]
    },
    {
     "data": {
      "application/vnd.jupyter.widget-view+json": {
       "model_id": "da6340d4e4534432a03d0f8f91f9c7c0",
       "version_major": 2,
       "version_minor": 0
      },
      "text/plain": [
       "open_clip_pytorch_model.bin:   0%|          | 0.00/1.71G [00:00<?, ?B/s]"
      ]
     },
     "metadata": {},
     "output_type": "display_data"
    },
    {
     "name": "stderr",
     "output_type": "stream",
     "text": [
      "Error while downloading from https://cdn-lfs.hf.co/repos/57/8d/578ddc43cf2804098ab8806beffdc2c2b91b0e5fe4e88c534bb0b996f11c78e5/6509f07e6fc0da68f8e1ee881bf90803f0b053d2f7ed2013cc7c3a49ac4dd3db?response-content-disposition=inline%3B+filename*%3DUTF-8%27%27open_clip_pytorch_model.bin%3B+filename%3D%22open_clip_pytorch_model.bin%22%3B&response-content-type=application%2Foctet-stream&Expires=1728686826&Policy=eyJTdGF0ZW1lbnQiOlt7IkNvbmRpdGlvbiI6eyJEYXRlTGVzc1RoYW4iOnsiQVdTOkVwb2NoVGltZSI6MTcyODY4NjgyNn19LCJSZXNvdXJjZSI6Imh0dHBzOi8vY2RuLWxmcy5oZi5jby9yZXBvcy81Ny84ZC81NzhkZGM0M2NmMjgwNDA5OGFiODgwNmJlZmZkYzJjMmI5MWIwZTVmZTRlODhjNTM0YmIwYjk5NmYxMWM3OGU1LzY1MDlmMDdlNmZjMGRhNjhmOGUxZWU4ODFiZjkwODAzZjBiMDUzZDJmN2VkMjAxM2NjN2MzYTQ5YWM0ZGQzZGI%7EcmVzcG9uc2UtY29udGVudC1kaXNwb3NpdGlvbj0qJnJlc3BvbnNlLWNvbnRlbnQtdHlwZT0qIn1dfQ__&Signature=c-3N%7EsBhvHh3VVOUKzA9tVuHlw64TfEiyxdPR-HgB5h5D2nduUZ4Q4hLMLSYan2WjT%7EDYPGZyGpp4y3Ubzr3WF6Mq1huYfVFkvqtP07oMwI2-8bspTpr4c8ZmVqoVSteF9%7EpK18UkY7H1CBzxMuh%7ElQyK1NFjETxFuoKmCplLFhpWMG1D9kOMPCoie8ujGwN1FfZ93p2WcB5sVX%7EneNxOJqtUqhxV8MYL6%7ETa021F1spMp28jBGpRT5qFLJ93ibkMdjN9yzCBkg5iE%7E6EAlCGA1t0PAOVzBFhqxXNUTzl2cK06wRRxjifopuyxNLZ7wAjwdbu0gCA7ChfZ2sklZqhA__&Key-Pair-Id=K3RPWS32NSSJCE: HTTPSConnectionPool(host='cdn-lfs.hf.co', port=443): Read timed out.\n",
      "Trying to resume download...\n",
      "WARNING:huggingface_hub.file_download:Error while downloading from https://cdn-lfs.hf.co/repos/57/8d/578ddc43cf2804098ab8806beffdc2c2b91b0e5fe4e88c534bb0b996f11c78e5/6509f07e6fc0da68f8e1ee881bf90803f0b053d2f7ed2013cc7c3a49ac4dd3db?response-content-disposition=inline%3B+filename*%3DUTF-8%27%27open_clip_pytorch_model.bin%3B+filename%3D%22open_clip_pytorch_model.bin%22%3B&response-content-type=application%2Foctet-stream&Expires=1728686826&Policy=eyJTdGF0ZW1lbnQiOlt7IkNvbmRpdGlvbiI6eyJEYXRlTGVzc1RoYW4iOnsiQVdTOkVwb2NoVGltZSI6MTcyODY4NjgyNn19LCJSZXNvdXJjZSI6Imh0dHBzOi8vY2RuLWxmcy5oZi5jby9yZXBvcy81Ny84ZC81NzhkZGM0M2NmMjgwNDA5OGFiODgwNmJlZmZkYzJjMmI5MWIwZTVmZTRlODhjNTM0YmIwYjk5NmYxMWM3OGU1LzY1MDlmMDdlNmZjMGRhNjhmOGUxZWU4ODFiZjkwODAzZjBiMDUzZDJmN2VkMjAxM2NjN2MzYTQ5YWM0ZGQzZGI%7EcmVzcG9uc2UtY29udGVudC1kaXNwb3NpdGlvbj0qJnJlc3BvbnNlLWNvbnRlbnQtdHlwZT0qIn1dfQ__&Signature=c-3N%7EsBhvHh3VVOUKzA9tVuHlw64TfEiyxdPR-HgB5h5D2nduUZ4Q4hLMLSYan2WjT%7EDYPGZyGpp4y3Ubzr3WF6Mq1huYfVFkvqtP07oMwI2-8bspTpr4c8ZmVqoVSteF9%7EpK18UkY7H1CBzxMuh%7ElQyK1NFjETxFuoKmCplLFhpWMG1D9kOMPCoie8ujGwN1FfZ93p2WcB5sVX%7EneNxOJqtUqhxV8MYL6%7ETa021F1spMp28jBGpRT5qFLJ93ibkMdjN9yzCBkg5iE%7E6EAlCGA1t0PAOVzBFhqxXNUTzl2cK06wRRxjifopuyxNLZ7wAjwdbu0gCA7ChfZ2sklZqhA__&Key-Pair-Id=K3RPWS32NSSJCE: HTTPSConnectionPool(host='cdn-lfs.hf.co', port=443): Read timed out.\n",
      "Trying to resume download...\n"
     ]
    },
    {
     "data": {
      "application/vnd.jupyter.widget-view+json": {
       "model_id": "1730ec2da757440390ca90579205683c",
       "version_major": 2,
       "version_minor": 0
      },
      "text/plain": [
       "open_clip_pytorch_model.bin:  29%|##8       | 493M/1.71G [00:00<?, ?B/s]"
      ]
     },
     "metadata": {},
     "output_type": "display_data"
    },
    {
     "name": "stderr",
     "output_type": "stream",
     "text": [
      "Error while downloading from https://cdn-lfs.hf.co/repos/57/8d/578ddc43cf2804098ab8806beffdc2c2b91b0e5fe4e88c534bb0b996f11c78e5/6509f07e6fc0da68f8e1ee881bf90803f0b053d2f7ed2013cc7c3a49ac4dd3db?response-content-disposition=inline%3B+filename*%3DUTF-8%27%27open_clip_pytorch_model.bin%3B+filename%3D%22open_clip_pytorch_model.bin%22%3B&response-content-type=application%2Foctet-stream&Expires=1728686826&Policy=eyJTdGF0ZW1lbnQiOlt7IkNvbmRpdGlvbiI6eyJEYXRlTGVzc1RoYW4iOnsiQVdTOkVwb2NoVGltZSI6MTcyODY4NjgyNn19LCJSZXNvdXJjZSI6Imh0dHBzOi8vY2RuLWxmcy5oZi5jby9yZXBvcy81Ny84ZC81NzhkZGM0M2NmMjgwNDA5OGFiODgwNmJlZmZkYzJjMmI5MWIwZTVmZTRlODhjNTM0YmIwYjk5NmYxMWM3OGU1LzY1MDlmMDdlNmZjMGRhNjhmOGUxZWU4ODFiZjkwODAzZjBiMDUzZDJmN2VkMjAxM2NjN2MzYTQ5YWM0ZGQzZGI%7EcmVzcG9uc2UtY29udGVudC1kaXNwb3NpdGlvbj0qJnJlc3BvbnNlLWNvbnRlbnQtdHlwZT0qIn1dfQ__&Signature=c-3N%7EsBhvHh3VVOUKzA9tVuHlw64TfEiyxdPR-HgB5h5D2nduUZ4Q4hLMLSYan2WjT%7EDYPGZyGpp4y3Ubzr3WF6Mq1huYfVFkvqtP07oMwI2-8bspTpr4c8ZmVqoVSteF9%7EpK18UkY7H1CBzxMuh%7ElQyK1NFjETxFuoKmCplLFhpWMG1D9kOMPCoie8ujGwN1FfZ93p2WcB5sVX%7EneNxOJqtUqhxV8MYL6%7ETa021F1spMp28jBGpRT5qFLJ93ibkMdjN9yzCBkg5iE%7E6EAlCGA1t0PAOVzBFhqxXNUTzl2cK06wRRxjifopuyxNLZ7wAjwdbu0gCA7ChfZ2sklZqhA__&Key-Pair-Id=K3RPWS32NSSJCE: HTTPSConnectionPool(host='cdn-lfs.hf.co', port=443): Read timed out.\n",
      "Trying to resume download...\n",
      "WARNING:huggingface_hub.file_download:Error while downloading from https://cdn-lfs.hf.co/repos/57/8d/578ddc43cf2804098ab8806beffdc2c2b91b0e5fe4e88c534bb0b996f11c78e5/6509f07e6fc0da68f8e1ee881bf90803f0b053d2f7ed2013cc7c3a49ac4dd3db?response-content-disposition=inline%3B+filename*%3DUTF-8%27%27open_clip_pytorch_model.bin%3B+filename%3D%22open_clip_pytorch_model.bin%22%3B&response-content-type=application%2Foctet-stream&Expires=1728686826&Policy=eyJTdGF0ZW1lbnQiOlt7IkNvbmRpdGlvbiI6eyJEYXRlTGVzc1RoYW4iOnsiQVdTOkVwb2NoVGltZSI6MTcyODY4NjgyNn19LCJSZXNvdXJjZSI6Imh0dHBzOi8vY2RuLWxmcy5oZi5jby9yZXBvcy81Ny84ZC81NzhkZGM0M2NmMjgwNDA5OGFiODgwNmJlZmZkYzJjMmI5MWIwZTVmZTRlODhjNTM0YmIwYjk5NmYxMWM3OGU1LzY1MDlmMDdlNmZjMGRhNjhmOGUxZWU4ODFiZjkwODAzZjBiMDUzZDJmN2VkMjAxM2NjN2MzYTQ5YWM0ZGQzZGI%7EcmVzcG9uc2UtY29udGVudC1kaXNwb3NpdGlvbj0qJnJlc3BvbnNlLWNvbnRlbnQtdHlwZT0qIn1dfQ__&Signature=c-3N%7EsBhvHh3VVOUKzA9tVuHlw64TfEiyxdPR-HgB5h5D2nduUZ4Q4hLMLSYan2WjT%7EDYPGZyGpp4y3Ubzr3WF6Mq1huYfVFkvqtP07oMwI2-8bspTpr4c8ZmVqoVSteF9%7EpK18UkY7H1CBzxMuh%7ElQyK1NFjETxFuoKmCplLFhpWMG1D9kOMPCoie8ujGwN1FfZ93p2WcB5sVX%7EneNxOJqtUqhxV8MYL6%7ETa021F1spMp28jBGpRT5qFLJ93ibkMdjN9yzCBkg5iE%7E6EAlCGA1t0PAOVzBFhqxXNUTzl2cK06wRRxjifopuyxNLZ7wAjwdbu0gCA7ChfZ2sklZqhA__&Key-Pair-Id=K3RPWS32NSSJCE: HTTPSConnectionPool(host='cdn-lfs.hf.co', port=443): Read timed out.\n",
      "Trying to resume download...\n"
     ]
    },
    {
     "data": {
      "application/vnd.jupyter.widget-view+json": {
       "model_id": "f695cc8e786647e0a81017645fc30079",
       "version_major": 2,
       "version_minor": 0
      },
      "text/plain": [
       "open_clip_pytorch_model.bin:  40%|####      | 692M/1.71G [00:00<?, ?B/s]"
      ]
     },
     "metadata": {},
     "output_type": "display_data"
    },
    {
     "name": "stderr",
     "output_type": "stream",
     "text": [
      "Error while downloading from https://cdn-lfs.hf.co/repos/57/8d/578ddc43cf2804098ab8806beffdc2c2b91b0e5fe4e88c534bb0b996f11c78e5/6509f07e6fc0da68f8e1ee881bf90803f0b053d2f7ed2013cc7c3a49ac4dd3db?response-content-disposition=inline%3B+filename*%3DUTF-8%27%27open_clip_pytorch_model.bin%3B+filename%3D%22open_clip_pytorch_model.bin%22%3B&response-content-type=application%2Foctet-stream&Expires=1728686826&Policy=eyJTdGF0ZW1lbnQiOlt7IkNvbmRpdGlvbiI6eyJEYXRlTGVzc1RoYW4iOnsiQVdTOkVwb2NoVGltZSI6MTcyODY4NjgyNn19LCJSZXNvdXJjZSI6Imh0dHBzOi8vY2RuLWxmcy5oZi5jby9yZXBvcy81Ny84ZC81NzhkZGM0M2NmMjgwNDA5OGFiODgwNmJlZmZkYzJjMmI5MWIwZTVmZTRlODhjNTM0YmIwYjk5NmYxMWM3OGU1LzY1MDlmMDdlNmZjMGRhNjhmOGUxZWU4ODFiZjkwODAzZjBiMDUzZDJmN2VkMjAxM2NjN2MzYTQ5YWM0ZGQzZGI%7EcmVzcG9uc2UtY29udGVudC1kaXNwb3NpdGlvbj0qJnJlc3BvbnNlLWNvbnRlbnQtdHlwZT0qIn1dfQ__&Signature=c-3N%7EsBhvHh3VVOUKzA9tVuHlw64TfEiyxdPR-HgB5h5D2nduUZ4Q4hLMLSYan2WjT%7EDYPGZyGpp4y3Ubzr3WF6Mq1huYfVFkvqtP07oMwI2-8bspTpr4c8ZmVqoVSteF9%7EpK18UkY7H1CBzxMuh%7ElQyK1NFjETxFuoKmCplLFhpWMG1D9kOMPCoie8ujGwN1FfZ93p2WcB5sVX%7EneNxOJqtUqhxV8MYL6%7ETa021F1spMp28jBGpRT5qFLJ93ibkMdjN9yzCBkg5iE%7E6EAlCGA1t0PAOVzBFhqxXNUTzl2cK06wRRxjifopuyxNLZ7wAjwdbu0gCA7ChfZ2sklZqhA__&Key-Pair-Id=K3RPWS32NSSJCE: HTTPSConnectionPool(host='cdn-lfs.hf.co', port=443): Read timed out.\n",
      "Trying to resume download...\n",
      "WARNING:huggingface_hub.file_download:Error while downloading from https://cdn-lfs.hf.co/repos/57/8d/578ddc43cf2804098ab8806beffdc2c2b91b0e5fe4e88c534bb0b996f11c78e5/6509f07e6fc0da68f8e1ee881bf90803f0b053d2f7ed2013cc7c3a49ac4dd3db?response-content-disposition=inline%3B+filename*%3DUTF-8%27%27open_clip_pytorch_model.bin%3B+filename%3D%22open_clip_pytorch_model.bin%22%3B&response-content-type=application%2Foctet-stream&Expires=1728686826&Policy=eyJTdGF0ZW1lbnQiOlt7IkNvbmRpdGlvbiI6eyJEYXRlTGVzc1RoYW4iOnsiQVdTOkVwb2NoVGltZSI6MTcyODY4NjgyNn19LCJSZXNvdXJjZSI6Imh0dHBzOi8vY2RuLWxmcy5oZi5jby9yZXBvcy81Ny84ZC81NzhkZGM0M2NmMjgwNDA5OGFiODgwNmJlZmZkYzJjMmI5MWIwZTVmZTRlODhjNTM0YmIwYjk5NmYxMWM3OGU1LzY1MDlmMDdlNmZjMGRhNjhmOGUxZWU4ODFiZjkwODAzZjBiMDUzZDJmN2VkMjAxM2NjN2MzYTQ5YWM0ZGQzZGI%7EcmVzcG9uc2UtY29udGVudC1kaXNwb3NpdGlvbj0qJnJlc3BvbnNlLWNvbnRlbnQtdHlwZT0qIn1dfQ__&Signature=c-3N%7EsBhvHh3VVOUKzA9tVuHlw64TfEiyxdPR-HgB5h5D2nduUZ4Q4hLMLSYan2WjT%7EDYPGZyGpp4y3Ubzr3WF6Mq1huYfVFkvqtP07oMwI2-8bspTpr4c8ZmVqoVSteF9%7EpK18UkY7H1CBzxMuh%7ElQyK1NFjETxFuoKmCplLFhpWMG1D9kOMPCoie8ujGwN1FfZ93p2WcB5sVX%7EneNxOJqtUqhxV8MYL6%7ETa021F1spMp28jBGpRT5qFLJ93ibkMdjN9yzCBkg5iE%7E6EAlCGA1t0PAOVzBFhqxXNUTzl2cK06wRRxjifopuyxNLZ7wAjwdbu0gCA7ChfZ2sklZqhA__&Key-Pair-Id=K3RPWS32NSSJCE: HTTPSConnectionPool(host='cdn-lfs.hf.co', port=443): Read timed out.\n",
      "Trying to resume download...\n"
     ]
    },
    {
     "data": {
      "application/vnd.jupyter.widget-view+json": {
       "model_id": "05d6358303cd4527a576675b7fc9149d",
       "version_major": 2,
       "version_minor": 0
      },
      "text/plain": [
       "open_clip_pytorch_model.bin:  67%|######6   | 1.14G/1.71G [00:00<?, ?B/s]"
      ]
     },
     "metadata": {},
     "output_type": "display_data"
    },
    {
     "name": "stderr",
     "output_type": "stream",
     "text": [
      "Error while downloading from https://cdn-lfs.hf.co/repos/57/8d/578ddc43cf2804098ab8806beffdc2c2b91b0e5fe4e88c534bb0b996f11c78e5/6509f07e6fc0da68f8e1ee881bf90803f0b053d2f7ed2013cc7c3a49ac4dd3db?response-content-disposition=inline%3B+filename*%3DUTF-8%27%27open_clip_pytorch_model.bin%3B+filename%3D%22open_clip_pytorch_model.bin%22%3B&response-content-type=application%2Foctet-stream&Expires=1728686826&Policy=eyJTdGF0ZW1lbnQiOlt7IkNvbmRpdGlvbiI6eyJEYXRlTGVzc1RoYW4iOnsiQVdTOkVwb2NoVGltZSI6MTcyODY4NjgyNn19LCJSZXNvdXJjZSI6Imh0dHBzOi8vY2RuLWxmcy5oZi5jby9yZXBvcy81Ny84ZC81NzhkZGM0M2NmMjgwNDA5OGFiODgwNmJlZmZkYzJjMmI5MWIwZTVmZTRlODhjNTM0YmIwYjk5NmYxMWM3OGU1LzY1MDlmMDdlNmZjMGRhNjhmOGUxZWU4ODFiZjkwODAzZjBiMDUzZDJmN2VkMjAxM2NjN2MzYTQ5YWM0ZGQzZGI%7EcmVzcG9uc2UtY29udGVudC1kaXNwb3NpdGlvbj0qJnJlc3BvbnNlLWNvbnRlbnQtdHlwZT0qIn1dfQ__&Signature=c-3N%7EsBhvHh3VVOUKzA9tVuHlw64TfEiyxdPR-HgB5h5D2nduUZ4Q4hLMLSYan2WjT%7EDYPGZyGpp4y3Ubzr3WF6Mq1huYfVFkvqtP07oMwI2-8bspTpr4c8ZmVqoVSteF9%7EpK18UkY7H1CBzxMuh%7ElQyK1NFjETxFuoKmCplLFhpWMG1D9kOMPCoie8ujGwN1FfZ93p2WcB5sVX%7EneNxOJqtUqhxV8MYL6%7ETa021F1spMp28jBGpRT5qFLJ93ibkMdjN9yzCBkg5iE%7E6EAlCGA1t0PAOVzBFhqxXNUTzl2cK06wRRxjifopuyxNLZ7wAjwdbu0gCA7ChfZ2sklZqhA__&Key-Pair-Id=K3RPWS32NSSJCE: HTTPSConnectionPool(host='cdn-lfs.hf.co', port=443): Read timed out.\n",
      "Trying to resume download...\n",
      "WARNING:huggingface_hub.file_download:Error while downloading from https://cdn-lfs.hf.co/repos/57/8d/578ddc43cf2804098ab8806beffdc2c2b91b0e5fe4e88c534bb0b996f11c78e5/6509f07e6fc0da68f8e1ee881bf90803f0b053d2f7ed2013cc7c3a49ac4dd3db?response-content-disposition=inline%3B+filename*%3DUTF-8%27%27open_clip_pytorch_model.bin%3B+filename%3D%22open_clip_pytorch_model.bin%22%3B&response-content-type=application%2Foctet-stream&Expires=1728686826&Policy=eyJTdGF0ZW1lbnQiOlt7IkNvbmRpdGlvbiI6eyJEYXRlTGVzc1RoYW4iOnsiQVdTOkVwb2NoVGltZSI6MTcyODY4NjgyNn19LCJSZXNvdXJjZSI6Imh0dHBzOi8vY2RuLWxmcy5oZi5jby9yZXBvcy81Ny84ZC81NzhkZGM0M2NmMjgwNDA5OGFiODgwNmJlZmZkYzJjMmI5MWIwZTVmZTRlODhjNTM0YmIwYjk5NmYxMWM3OGU1LzY1MDlmMDdlNmZjMGRhNjhmOGUxZWU4ODFiZjkwODAzZjBiMDUzZDJmN2VkMjAxM2NjN2MzYTQ5YWM0ZGQzZGI%7EcmVzcG9uc2UtY29udGVudC1kaXNwb3NpdGlvbj0qJnJlc3BvbnNlLWNvbnRlbnQtdHlwZT0qIn1dfQ__&Signature=c-3N%7EsBhvHh3VVOUKzA9tVuHlw64TfEiyxdPR-HgB5h5D2nduUZ4Q4hLMLSYan2WjT%7EDYPGZyGpp4y3Ubzr3WF6Mq1huYfVFkvqtP07oMwI2-8bspTpr4c8ZmVqoVSteF9%7EpK18UkY7H1CBzxMuh%7ElQyK1NFjETxFuoKmCplLFhpWMG1D9kOMPCoie8ujGwN1FfZ93p2WcB5sVX%7EneNxOJqtUqhxV8MYL6%7ETa021F1spMp28jBGpRT5qFLJ93ibkMdjN9yzCBkg5iE%7E6EAlCGA1t0PAOVzBFhqxXNUTzl2cK06wRRxjifopuyxNLZ7wAjwdbu0gCA7ChfZ2sklZqhA__&Key-Pair-Id=K3RPWS32NSSJCE: HTTPSConnectionPool(host='cdn-lfs.hf.co', port=443): Read timed out.\n",
      "Trying to resume download...\n"
     ]
    },
    {
     "data": {
      "application/vnd.jupyter.widget-view+json": {
       "model_id": "b9394f86f78b42e5bafb2198ca6f14d2",
       "version_major": 2,
       "version_minor": 0
      },
      "text/plain": [
       "open_clip_pytorch_model.bin:  84%|########3 | 1.44G/1.71G [00:00<?, ?B/s]"
      ]
     },
     "metadata": {},
     "output_type": "display_data"
    },
    {
     "name": "stderr",
     "output_type": "stream",
     "text": [
      "/opt/anaconda3/lib/python3.12/site-packages/open_clip/factory.py:129: FutureWarning: You are using `torch.load` with `weights_only=False` (the current default value), which uses the default pickle module implicitly. It is possible to construct malicious pickle data which will execute arbitrary code during unpickling (See https://github.com/pytorch/pytorch/blob/main/SECURITY.md#untrusted-models for more details). In a future release, the default value for `weights_only` will be flipped to `True`. This limits the functions that could be executed during unpickling. Arbitrary objects will no longer be allowed to be loaded via this mode unless they are explicitly allowlisted by the user via `torch.serialization.add_safe_globals`. We recommend you start setting `weights_only=True` for any use case where you don't have full control of the loaded file. Please open an issue on GitHub for any issues related to this experimental feature.\n",
      "  checkpoint = torch.load(checkpoint_path, map_location=map_location)\n"
     ]
    }
   ],
   "source": [
    "##### Load Model #####\n",
    "device = \"cuda\" if torch.cuda.is_available() else \"cpu\"\n",
    "print(device)\n",
    "model, _, preprocess = open_clip.create_model_and_transforms('ViT-L-14', device=device, pretrained='datacomp_xl_s13b_b90k')"
   ]
  },
  {
   "cell_type": "code",
   "execution_count": 7,
   "id": "fe275161",
   "metadata": {
    "execution": {
     "iopub.execute_input": "2023-10-02T02:04:53.769944Z",
     "iopub.status.busy": "2023-10-02T02:04:53.769409Z",
     "iopub.status.idle": "2023-10-02T03:06:06.664115Z",
     "shell.execute_reply": "2023-10-02T03:06:06.663227Z"
    },
    "papermill": {
     "duration": 3672.944639,
     "end_time": "2023-10-02T03:06:06.704722",
     "exception": false,
     "start_time": "2023-10-02T02:04:53.760083",
     "status": "completed"
    },
    "tags": []
   },
   "outputs": [
    {
     "name": "stderr",
     "output_type": "stream",
     "text": [
      "0it [00:00, ?it/s]\n"
     ]
    }
   ],
   "source": [
    "bs = 4\n",
    "save_dir = './CLIPv2_features'\n",
    "if not os.path.exists(save_dir):\n",
    "  os.mkdir(save_dir)\n",
    "\n",
    "for key, video_keyframe_paths in tqdm(all_keyframe_paths.items()):\n",
    "    video_ids = sorted(video_keyframe_paths.keys())\n",
    "    \n",
    "    if not os.path.exists(os.path.join(save_dir, key)):\n",
    "        os.mkdir(os.path.join(save_dir, key))\n",
    "    \n",
    "    for video_id in tqdm(video_ids):\n",
    "        video_feats = []\n",
    "        video_keyframe_path = video_keyframe_paths[video_id]\n",
    "        for i in range(0, len(video_keyframe_path), bs):\n",
    "            # Support batchsize inferencing\n",
    "            images = []\n",
    "            image_paths = video_keyframe_path[i:i+bs]\n",
    "            for image_path in image_paths:\n",
    "                image = preprocess(Image.open(image_path)).unsqueeze(0)\n",
    "                images.append(image)\n",
    "            images = torch.cat(images).to(device)\n",
    "\n",
    "            with torch.no_grad(), torch.cuda.amp.autocast():\n",
    "                image_feats = model.encode_image(images)\n",
    "            image_feats /= image_feats.norm(dim=-1, keepdim=True)\n",
    "\n",
    "            for b in range(image_feats.shape[0]):\n",
    "                video_feats.append(image_feats[b].detach().cpu().numpy().astype(np.float32).flatten())\n",
    "        \n",
    "        np.save(f'{save_dir}/{key}/{video_id}.npy', video_feats)"
   ]
  }
 ],
 "metadata": {
  "kernelspec": {
   "display_name": "base",
   "language": "python",
   "name": "python3"
  },
  "language_info": {
   "codemirror_mode": {
    "name": "ipython",
    "version": 3
   },
   "file_extension": ".py",
   "mimetype": "text/x-python",
   "name": "python",
   "nbconvert_exporter": "python",
   "pygments_lexer": "ipython3",
   "version": "3.12.4"
  },
  "papermill": {
   "default_parameters": {},
   "duration": 3728.148978,
   "end_time": "2023-10-02T03:06:09.468543",
   "environment_variables": {},
   "exception": null,
   "input_path": "__notebook__.ipynb",
   "output_path": "__notebook__.ipynb",
   "parameters": {},
   "start_time": "2023-10-02T02:04:01.319565",
   "version": "2.4.0"
  },
  "widgets": {
   "application/vnd.jupyter.widget-state+json": {
    "state": {
     "02748340baee4c35abf994bac6af4993": {
      "model_module": "@jupyter-widgets/controls",
      "model_module_version": "1.5.0",
      "model_name": "DescriptionStyleModel",
      "state": {
       "_model_module": "@jupyter-widgets/controls",
       "_model_module_version": "1.5.0",
       "_model_name": "DescriptionStyleModel",
       "_view_count": null,
       "_view_module": "@jupyter-widgets/base",
       "_view_module_version": "1.2.0",
       "_view_name": "StyleView",
       "description_width": ""
      }
     },
     "4453635363ee4d75bedd7d0a6ac487dc": {
      "model_module": "@jupyter-widgets/controls",
      "model_module_version": "1.5.0",
      "model_name": "HTMLModel",
      "state": {
       "_dom_classes": [],
       "_model_module": "@jupyter-widgets/controls",
       "_model_module_version": "1.5.0",
       "_model_name": "HTMLModel",
       "_view_count": null,
       "_view_module": "@jupyter-widgets/controls",
       "_view_module_version": "1.5.0",
       "_view_name": "HTMLView",
       "description": "",
       "description_tooltip": null,
       "layout": "IPY_MODEL_82e967eaeace484a8fb9701f873d7a59",
       "placeholder": "​",
       "style": "IPY_MODEL_8955cfd77ce34c9687f4266f941a0c61",
       "value": " 1.71G/1.71G [00:06&lt;00:00, 247MB/s]"
      }
     },
     "80dde6d9167e4dfaba7894cb61cfe458": {
      "model_module": "@jupyter-widgets/base",
      "model_module_version": "1.2.0",
      "model_name": "LayoutModel",
      "state": {
       "_model_module": "@jupyter-widgets/base",
       "_model_module_version": "1.2.0",
       "_model_name": "LayoutModel",
       "_view_count": null,
       "_view_module": "@jupyter-widgets/base",
       "_view_module_version": "1.2.0",
       "_view_name": "LayoutView",
       "align_content": null,
       "align_items": null,
       "align_self": null,
       "border": null,
       "bottom": null,
       "display": null,
       "flex": null,
       "flex_flow": null,
       "grid_area": null,
       "grid_auto_columns": null,
       "grid_auto_flow": null,
       "grid_auto_rows": null,
       "grid_column": null,
       "grid_gap": null,
       "grid_row": null,
       "grid_template_areas": null,
       "grid_template_columns": null,
       "grid_template_rows": null,
       "height": null,
       "justify_content": null,
       "justify_items": null,
       "left": null,
       "margin": null,
       "max_height": null,
       "max_width": null,
       "min_height": null,
       "min_width": null,
       "object_fit": null,
       "object_position": null,
       "order": null,
       "overflow": null,
       "overflow_x": null,
       "overflow_y": null,
       "padding": null,
       "right": null,
       "top": null,
       "visibility": null,
       "width": null
      }
     },
     "82e967eaeace484a8fb9701f873d7a59": {
      "model_module": "@jupyter-widgets/base",
      "model_module_version": "1.2.0",
      "model_name": "LayoutModel",
      "state": {
       "_model_module": "@jupyter-widgets/base",
       "_model_module_version": "1.2.0",
       "_model_name": "LayoutModel",
       "_view_count": null,
       "_view_module": "@jupyter-widgets/base",
       "_view_module_version": "1.2.0",
       "_view_name": "LayoutView",
       "align_content": null,
       "align_items": null,
       "align_self": null,
       "border": null,
       "bottom": null,
       "display": null,
       "flex": null,
       "flex_flow": null,
       "grid_area": null,
       "grid_auto_columns": null,
       "grid_auto_flow": null,
       "grid_auto_rows": null,
       "grid_column": null,
       "grid_gap": null,
       "grid_row": null,
       "grid_template_areas": null,
       "grid_template_columns": null,
       "grid_template_rows": null,
       "height": null,
       "justify_content": null,
       "justify_items": null,
       "left": null,
       "margin": null,
       "max_height": null,
       "max_width": null,
       "min_height": null,
       "min_width": null,
       "object_fit": null,
       "object_position": null,
       "order": null,
       "overflow": null,
       "overflow_x": null,
       "overflow_y": null,
       "padding": null,
       "right": null,
       "top": null,
       "visibility": null,
       "width": null
      }
     },
     "8955cfd77ce34c9687f4266f941a0c61": {
      "model_module": "@jupyter-widgets/controls",
      "model_module_version": "1.5.0",
      "model_name": "DescriptionStyleModel",
      "state": {
       "_model_module": "@jupyter-widgets/controls",
       "_model_module_version": "1.5.0",
       "_model_name": "DescriptionStyleModel",
       "_view_count": null,
       "_view_module": "@jupyter-widgets/base",
       "_view_module_version": "1.2.0",
       "_view_name": "StyleView",
       "description_width": ""
      }
     },
     "a50b15c779ac47b49efcec812f174e7f": {
      "model_module": "@jupyter-widgets/base",
      "model_module_version": "1.2.0",
      "model_name": "LayoutModel",
      "state": {
       "_model_module": "@jupyter-widgets/base",
       "_model_module_version": "1.2.0",
       "_model_name": "LayoutModel",
       "_view_count": null,
       "_view_module": "@jupyter-widgets/base",
       "_view_module_version": "1.2.0",
       "_view_name": "LayoutView",
       "align_content": null,
       "align_items": null,
       "align_self": null,
       "border": null,
       "bottom": null,
       "display": null,
       "flex": null,
       "flex_flow": null,
       "grid_area": null,
       "grid_auto_columns": null,
       "grid_auto_flow": null,
       "grid_auto_rows": null,
       "grid_column": null,
       "grid_gap": null,
       "grid_row": null,
       "grid_template_areas": null,
       "grid_template_columns": null,
       "grid_template_rows": null,
       "height": null,
       "justify_content": null,
       "justify_items": null,
       "left": null,
       "margin": null,
       "max_height": null,
       "max_width": null,
       "min_height": null,
       "min_width": null,
       "object_fit": null,
       "object_position": null,
       "order": null,
       "overflow": null,
       "overflow_x": null,
       "overflow_y": null,
       "padding": null,
       "right": null,
       "top": null,
       "visibility": null,
       "width": null
      }
     },
     "a5e58289101a46219aee7ef25ecb3ec9": {
      "model_module": "@jupyter-widgets/controls",
      "model_module_version": "1.5.0",
      "model_name": "HTMLModel",
      "state": {
       "_dom_classes": [],
       "_model_module": "@jupyter-widgets/controls",
       "_model_module_version": "1.5.0",
       "_model_name": "HTMLModel",
       "_view_count": null,
       "_view_module": "@jupyter-widgets/controls",
       "_view_module_version": "1.5.0",
       "_view_name": "HTMLView",
       "description": "",
       "description_tooltip": null,
       "layout": "IPY_MODEL_80dde6d9167e4dfaba7894cb61cfe458",
       "placeholder": "​",
       "style": "IPY_MODEL_02748340baee4c35abf994bac6af4993",
       "value": "Downloading (…)ip_pytorch_model.bin: 100%"
      }
     },
     "c894535a8bbc4aab8caca8a429ccf221": {
      "model_module": "@jupyter-widgets/controls",
      "model_module_version": "1.5.0",
      "model_name": "HBoxModel",
      "state": {
       "_dom_classes": [],
       "_model_module": "@jupyter-widgets/controls",
       "_model_module_version": "1.5.0",
       "_model_name": "HBoxModel",
       "_view_count": null,
       "_view_module": "@jupyter-widgets/controls",
       "_view_module_version": "1.5.0",
       "_view_name": "HBoxView",
       "box_style": "",
       "children": [
        "IPY_MODEL_a5e58289101a46219aee7ef25ecb3ec9",
        "IPY_MODEL_f8ad8531af8d491f8bc31fc6b706a95f",
        "IPY_MODEL_4453635363ee4d75bedd7d0a6ac487dc"
       ],
       "layout": "IPY_MODEL_d84d1e4c467749c5a74ca24183cc5382"
      }
     },
     "d5c4c5d2013c4653afa31b39e22ad076": {
      "model_module": "@jupyter-widgets/controls",
      "model_module_version": "1.5.0",
      "model_name": "ProgressStyleModel",
      "state": {
       "_model_module": "@jupyter-widgets/controls",
       "_model_module_version": "1.5.0",
       "_model_name": "ProgressStyleModel",
       "_view_count": null,
       "_view_module": "@jupyter-widgets/base",
       "_view_module_version": "1.2.0",
       "_view_name": "StyleView",
       "bar_color": null,
       "description_width": ""
      }
     },
     "d84d1e4c467749c5a74ca24183cc5382": {
      "model_module": "@jupyter-widgets/base",
      "model_module_version": "1.2.0",
      "model_name": "LayoutModel",
      "state": {
       "_model_module": "@jupyter-widgets/base",
       "_model_module_version": "1.2.0",
       "_model_name": "LayoutModel",
       "_view_count": null,
       "_view_module": "@jupyter-widgets/base",
       "_view_module_version": "1.2.0",
       "_view_name": "LayoutView",
       "align_content": null,
       "align_items": null,
       "align_self": null,
       "border": null,
       "bottom": null,
       "display": null,
       "flex": null,
       "flex_flow": null,
       "grid_area": null,
       "grid_auto_columns": null,
       "grid_auto_flow": null,
       "grid_auto_rows": null,
       "grid_column": null,
       "grid_gap": null,
       "grid_row": null,
       "grid_template_areas": null,
       "grid_template_columns": null,
       "grid_template_rows": null,
       "height": null,
       "justify_content": null,
       "justify_items": null,
       "left": null,
       "margin": null,
       "max_height": null,
       "max_width": null,
       "min_height": null,
       "min_width": null,
       "object_fit": null,
       "object_position": null,
       "order": null,
       "overflow": null,
       "overflow_x": null,
       "overflow_y": null,
       "padding": null,
       "right": null,
       "top": null,
       "visibility": null,
       "width": null
      }
     },
     "f8ad8531af8d491f8bc31fc6b706a95f": {
      "model_module": "@jupyter-widgets/controls",
      "model_module_version": "1.5.0",
      "model_name": "FloatProgressModel",
      "state": {
       "_dom_classes": [],
       "_model_module": "@jupyter-widgets/controls",
       "_model_module_version": "1.5.0",
       "_model_name": "FloatProgressModel",
       "_view_count": null,
       "_view_module": "@jupyter-widgets/controls",
       "_view_module_version": "1.5.0",
       "_view_name": "ProgressView",
       "bar_style": "success",
       "description": "",
       "description_tooltip": null,
       "layout": "IPY_MODEL_a50b15c779ac47b49efcec812f174e7f",
       "max": 1710639109,
       "min": 0,
       "orientation": "horizontal",
       "style": "IPY_MODEL_d5c4c5d2013c4653afa31b39e22ad076",
       "value": 1710639109
      }
     }
    },
    "version_major": 2,
    "version_minor": 0
   }
  }
 },
 "nbformat": 4,
 "nbformat_minor": 5
}
