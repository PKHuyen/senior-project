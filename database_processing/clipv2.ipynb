{
 "cells": [
  {
   "cell_type": "code",
   "execution_count": 7,
   "id": "9f593449",
   "metadata": {
    "execution": {
     "iopub.execute_input": "2023-10-02T02:04:10.111716Z",
     "iopub.status.busy": "2023-10-02T02:04:10.110735Z",
     "iopub.status.idle": "2023-10-02T02:04:19.698534Z",
     "shell.execute_reply": "2023-10-02T02:04:19.697381Z"
    },
    "papermill": {
     "duration": 9.593781,
     "end_time": "2023-10-02T02:04:19.700760",
     "exception": false,
     "start_time": "2023-10-02T02:04:10.106979",
     "status": "completed"
    },
    "tags": []
   },
   "outputs": [],
   "source": [
    "# Instal dependency\n",
    "# !pip install open_clip_torch"
   ]
  },
  {
   "cell_type": "code",
   "execution_count": 8,
   "id": "3e927d76",
   "metadata": {
    "execution": {
     "iopub.execute_input": "2023-10-02T02:04:19.707454Z",
     "iopub.status.busy": "2023-10-02T02:04:19.707175Z",
     "iopub.status.idle": "2023-10-02T02:04:26.405375Z",
     "shell.execute_reply": "2023-10-02T02:04:26.404385Z"
    },
    "papermill": {
     "duration": 6.703956,
     "end_time": "2023-10-02T02:04:26.407521",
     "exception": false,
     "start_time": "2023-10-02T02:04:19.703565",
     "status": "completed"
    },
    "tags": []
   },
   "outputs": [],
   "source": [
    "# Import module\n",
    "import os\n",
    "import open_clip\n",
    "import glob\n",
    "import torch\n",
    "import numpy as np\n",
    "from PIL import Image\n",
    "from tqdm import tqdm"
   ]
  },
  {
   "cell_type": "markdown",
   "id": "6a75aa1f",
   "metadata": {
    "papermill": {
     "duration": 0.002388,
     "end_time": "2023-10-02T02:04:26.412624",
     "exception": false,
     "start_time": "2023-10-02T02:04:26.410236",
     "status": "completed"
    },
    "tags": []
   },
   "source": [
    "# Parse data path"
   ]
  },
  {
   "cell_type": "code",
   "execution_count": 9,
   "id": "88ef2f9c",
   "metadata": {
    "execution": {
     "iopub.execute_input": "2023-10-02T02:04:26.418818Z",
     "iopub.status.busy": "2023-10-02T02:04:26.418306Z",
     "iopub.status.idle": "2023-10-02T02:04:26.429952Z",
     "shell.execute_reply": "2023-10-02T02:04:26.429129Z"
    },
    "papermill": {
     "duration": 0.016615,
     "end_time": "2023-10-02T02:04:26.431617",
     "exception": false,
     "start_time": "2023-10-02T02:04:26.415002",
     "status": "completed"
    },
    "tags": []
   },
   "outputs": [
    {
     "name": "stdout",
     "output_type": "stream",
     "text": [
      "{'Video0': {'L00': ['/Users/huyenphung/Desktop/senior-project/keyframe_information/keyframe/Video0/L00/keyframe_10_44.611233.jpg', '/Users/huyenphung/Desktop/senior-project/keyframe_information/keyframe/Video0/L00/keyframe_11_52.952900.jpg', '/Users/huyenphung/Desktop/senior-project/keyframe_information/keyframe/Video0/L00/keyframe_12_58.825433.jpg', '/Users/huyenphung/Desktop/senior-project/keyframe_information/keyframe/Video0/L00/keyframe_13_67.167100.jpg', '/Users/huyenphung/Desktop/senior-project/keyframe_information/keyframe/Video0/L00/keyframe_14_73.573500.jpg', '/Users/huyenphung/Desktop/senior-project/keyframe_information/keyframe/Video0/L00/keyframe_15_77.811067.jpg', '/Users/huyenphung/Desktop/senior-project/keyframe_information/keyframe/Video0/L00/keyframe_16_86.152733.jpg', '/Users/huyenphung/Desktop/senior-project/keyframe_information/keyframe/Video0/L00/keyframe_17_88.988900.jpg', '/Users/huyenphung/Desktop/senior-project/keyframe_information/keyframe/Video0/L00/keyframe_18_90.457033.jpg', '/Users/huyenphung/Desktop/senior-project/keyframe_information/keyframe/Video0/L00/keyframe_1_0.000000.jpg', '/Users/huyenphung/Desktop/senior-project/keyframe_information/keyframe/Video0/L00/keyframe_2_2.502500.jpg', '/Users/huyenphung/Desktop/senior-project/keyframe_information/keyframe/Video0/L00/keyframe_3_3.603600.jpg', '/Users/huyenphung/Desktop/senior-project/keyframe_information/keyframe/Video0/L00/keyframe_4_4.804800.jpg', '/Users/huyenphung/Desktop/senior-project/keyframe_information/keyframe/Video0/L00/keyframe_5_5.739067.jpg', '/Users/huyenphung/Desktop/senior-project/keyframe_information/keyframe/Video0/L00/keyframe_6_11.244567.jpg', '/Users/huyenphung/Desktop/senior-project/keyframe_information/keyframe/Video0/L00/keyframe_7_19.586233.jpg', '/Users/huyenphung/Desktop/senior-project/keyframe_information/keyframe/Video0/L00/keyframe_8_27.927900.jpg', '/Users/huyenphung/Desktop/senior-project/keyframe_information/keyframe/Video0/L00/keyframe_9_36.269567.jpg'], 'reduced': []}, 'Video1': {'L01': ['/Users/huyenphung/Desktop/senior-project/keyframe_information/keyframe/Video1/L01/keyframe_10_9.608333.jpg', '/Users/huyenphung/Desktop/senior-project/keyframe_information/keyframe/Video1/L01/keyframe_11_10.676667.jpg', '/Users/huyenphung/Desktop/senior-project/keyframe_information/keyframe/Video1/L01/keyframe_12_11.743333.jpg', '/Users/huyenphung/Desktop/senior-project/keyframe_information/keyframe/Video1/L01/keyframe_13_12.811667.jpg', '/Users/huyenphung/Desktop/senior-project/keyframe_information/keyframe/Video1/L01/keyframe_14_13.878333.jpg', '/Users/huyenphung/Desktop/senior-project/keyframe_information/keyframe/Video1/L01/keyframe_15_14.946667.jpg', '/Users/huyenphung/Desktop/senior-project/keyframe_information/keyframe/Video1/L01/keyframe_16_16.013333.jpg', '/Users/huyenphung/Desktop/senior-project/keyframe_information/keyframe/Video1/L01/keyframe_17_17.081667.jpg', '/Users/huyenphung/Desktop/senior-project/keyframe_information/keyframe/Video1/L01/keyframe_18_18.148333.jpg', '/Users/huyenphung/Desktop/senior-project/keyframe_information/keyframe/Video1/L01/keyframe_19_19.216667.jpg', '/Users/huyenphung/Desktop/senior-project/keyframe_information/keyframe/Video1/L01/keyframe_1_0.000000.jpg', '/Users/huyenphung/Desktop/senior-project/keyframe_information/keyframe/Video1/L01/keyframe_20_20.285000.jpg', '/Users/huyenphung/Desktop/senior-project/keyframe_information/keyframe/Video1/L01/keyframe_21_21.351667.jpg', '/Users/huyenphung/Desktop/senior-project/keyframe_information/keyframe/Video1/L01/keyframe_22_22.420000.jpg', '/Users/huyenphung/Desktop/senior-project/keyframe_information/keyframe/Video1/L01/keyframe_23_23.486667.jpg', '/Users/huyenphung/Desktop/senior-project/keyframe_information/keyframe/Video1/L01/keyframe_24_24.555000.jpg', '/Users/huyenphung/Desktop/senior-project/keyframe_information/keyframe/Video1/L01/keyframe_25_25.623333.jpg', '/Users/huyenphung/Desktop/senior-project/keyframe_information/keyframe/Video1/L01/keyframe_26_26.690000.jpg', '/Users/huyenphung/Desktop/senior-project/keyframe_information/keyframe/Video1/L01/keyframe_27_27.758333.jpg', '/Users/huyenphung/Desktop/senior-project/keyframe_information/keyframe/Video1/L01/keyframe_28_28.825000.jpg', '/Users/huyenphung/Desktop/senior-project/keyframe_information/keyframe/Video1/L01/keyframe_29_29.893333.jpg', '/Users/huyenphung/Desktop/senior-project/keyframe_information/keyframe/Video1/L01/keyframe_2_1.068333.jpg', '/Users/huyenphung/Desktop/senior-project/keyframe_information/keyframe/Video1/L01/keyframe_30_30.960000.jpg', '/Users/huyenphung/Desktop/senior-project/keyframe_information/keyframe/Video1/L01/keyframe_31_32.028333.jpg', '/Users/huyenphung/Desktop/senior-project/keyframe_information/keyframe/Video1/L01/keyframe_32_33.095000.jpg', '/Users/huyenphung/Desktop/senior-project/keyframe_information/keyframe/Video1/L01/keyframe_33_34.161667.jpg', '/Users/huyenphung/Desktop/senior-project/keyframe_information/keyframe/Video1/L01/keyframe_34_35.230000.jpg', '/Users/huyenphung/Desktop/senior-project/keyframe_information/keyframe/Video1/L01/keyframe_35_36.296667.jpg', '/Users/huyenphung/Desktop/senior-project/keyframe_information/keyframe/Video1/L01/keyframe_36_37.365000.jpg', '/Users/huyenphung/Desktop/senior-project/keyframe_information/keyframe/Video1/L01/keyframe_37_38.431667.jpg', '/Users/huyenphung/Desktop/senior-project/keyframe_information/keyframe/Video1/L01/keyframe_38_39.500000.jpg', '/Users/huyenphung/Desktop/senior-project/keyframe_information/keyframe/Video1/L01/keyframe_39_40.568333.jpg', '/Users/huyenphung/Desktop/senior-project/keyframe_information/keyframe/Video1/L01/keyframe_3_2.135000.jpg', '/Users/huyenphung/Desktop/senior-project/keyframe_information/keyframe/Video1/L01/keyframe_40_41.635000.jpg', '/Users/huyenphung/Desktop/senior-project/keyframe_information/keyframe/Video1/L01/keyframe_41_42.703333.jpg', '/Users/huyenphung/Desktop/senior-project/keyframe_information/keyframe/Video1/L01/keyframe_42_43.770000.jpg', '/Users/huyenphung/Desktop/senior-project/keyframe_information/keyframe/Video1/L01/keyframe_43_44.838333.jpg', '/Users/huyenphung/Desktop/senior-project/keyframe_information/keyframe/Video1/L01/keyframe_44_45.905000.jpg', '/Users/huyenphung/Desktop/senior-project/keyframe_information/keyframe/Video1/L01/keyframe_45_46.973333.jpg', '/Users/huyenphung/Desktop/senior-project/keyframe_information/keyframe/Video1/L01/keyframe_46_48.040000.jpg', '/Users/huyenphung/Desktop/senior-project/keyframe_information/keyframe/Video1/L01/keyframe_47_49.108333.jpg', '/Users/huyenphung/Desktop/senior-project/keyframe_information/keyframe/Video1/L01/keyframe_48_50.176667.jpg', '/Users/huyenphung/Desktop/senior-project/keyframe_information/keyframe/Video1/L01/keyframe_49_51.243333.jpg', '/Users/huyenphung/Desktop/senior-project/keyframe_information/keyframe/Video1/L01/keyframe_4_3.203333.jpg', '/Users/huyenphung/Desktop/senior-project/keyframe_information/keyframe/Video1/L01/keyframe_50_52.311667.jpg', '/Users/huyenphung/Desktop/senior-project/keyframe_information/keyframe/Video1/L01/keyframe_51_53.378333.jpg', '/Users/huyenphung/Desktop/senior-project/keyframe_information/keyframe/Video1/L01/keyframe_52_54.446667.jpg', '/Users/huyenphung/Desktop/senior-project/keyframe_information/keyframe/Video1/L01/keyframe_53_55.513333.jpg', '/Users/huyenphung/Desktop/senior-project/keyframe_information/keyframe/Video1/L01/keyframe_54_56.581667.jpg', '/Users/huyenphung/Desktop/senior-project/keyframe_information/keyframe/Video1/L01/keyframe_55_57.648333.jpg', '/Users/huyenphung/Desktop/senior-project/keyframe_information/keyframe/Video1/L01/keyframe_56_58.716667.jpg', '/Users/huyenphung/Desktop/senior-project/keyframe_information/keyframe/Video1/L01/keyframe_57_59.783333.jpg', '/Users/huyenphung/Desktop/senior-project/keyframe_information/keyframe/Video1/L01/keyframe_5_4.270000.jpg', '/Users/huyenphung/Desktop/senior-project/keyframe_information/keyframe/Video1/L01/keyframe_6_5.338333.jpg', '/Users/huyenphung/Desktop/senior-project/keyframe_information/keyframe/Video1/L01/keyframe_7_6.405000.jpg', '/Users/huyenphung/Desktop/senior-project/keyframe_information/keyframe/Video1/L01/keyframe_8_7.473333.jpg', '/Users/huyenphung/Desktop/senior-project/keyframe_information/keyframe/Video1/L01/keyframe_9_8.540000.jpg'], 'reduced': []}, 'Video2': {'L02': ['/Users/huyenphung/Desktop/senior-project/keyframe_information/keyframe/Video2/L02/keyframe_10_9.600000.jpg', '/Users/huyenphung/Desktop/senior-project/keyframe_information/keyframe/Video2/L02/keyframe_1_0.000000.jpg', '/Users/huyenphung/Desktop/senior-project/keyframe_information/keyframe/Video2/L02/keyframe_2_1.066667.jpg', '/Users/huyenphung/Desktop/senior-project/keyframe_information/keyframe/Video2/L02/keyframe_3_2.133333.jpg', '/Users/huyenphung/Desktop/senior-project/keyframe_information/keyframe/Video2/L02/keyframe_4_3.200000.jpg', '/Users/huyenphung/Desktop/senior-project/keyframe_information/keyframe/Video2/L02/keyframe_5_4.266667.jpg', '/Users/huyenphung/Desktop/senior-project/keyframe_information/keyframe/Video2/L02/keyframe_6_5.333333.jpg', '/Users/huyenphung/Desktop/senior-project/keyframe_information/keyframe/Video2/L02/keyframe_7_6.400000.jpg', '/Users/huyenphung/Desktop/senior-project/keyframe_information/keyframe/Video2/L02/keyframe_8_7.466667.jpg', '/Users/huyenphung/Desktop/senior-project/keyframe_information/keyframe/Video2/L02/keyframe_9_8.533333.jpg'], 'reduced': []}}\n"
     ]
    }
   ],
   "source": [
    "keyframes_dir = '/Users/huyenphung/Desktop/senior-project/keyframe_information/keyframe'\n",
    "all_keyframe_paths = dict()\n",
    "for part in sorted(os.listdir(keyframes_dir)):\n",
    "    data_part = part.split('_')[-1] # L01, L02 for ex\n",
    "    all_keyframe_paths[data_part] =  dict()\n",
    "\n",
    "for data_part in sorted(all_keyframe_paths.keys()):\n",
    "    data_part_path = f'{keyframes_dir}/{data_part}'\n",
    "    video_dirs = sorted(os.listdir(data_part_path))\n",
    "    video_ids = [video_dir.split('_')[-1] for video_dir in video_dirs]\n",
    "    for video_id, video_dir in zip(video_ids, video_dirs):\n",
    "        keyframe_paths = sorted(glob.glob(f'{data_part_path}/{video_dir}/*.jpg'))\n",
    "        all_keyframe_paths[data_part][video_id] = keyframe_paths\n",
    "\n",
    "print(all_keyframe_paths)"
   ]
  },
  {
   "cell_type": "markdown",
   "id": "db92eca0",
   "metadata": {
    "papermill": {
     "duration": 0.002402,
     "end_time": "2023-10-02T02:04:35.904476",
     "exception": false,
     "start_time": "2023-10-02T02:04:35.902074",
     "status": "completed"
    },
    "tags": []
   },
   "source": [
    "# Model"
   ]
  },
  {
   "cell_type": "code",
   "execution_count": 10,
   "id": "762a1a1a",
   "metadata": {
    "execution": {
     "iopub.execute_input": "2023-10-02T02:04:35.911036Z",
     "iopub.status.busy": "2023-10-02T02:04:35.910143Z",
     "iopub.status.idle": "2023-10-02T02:04:53.752859Z",
     "shell.execute_reply": "2023-10-02T02:04:53.751925Z"
    },
    "papermill": {
     "duration": 17.848168,
     "end_time": "2023-10-02T02:04:53.755022",
     "exception": false,
     "start_time": "2023-10-02T02:04:35.906854",
     "status": "completed"
    },
    "tags": []
   },
   "outputs": [
    {
     "name": "stdout",
     "output_type": "stream",
     "text": [
      "cpu\n"
     ]
    }
   ],
   "source": [
    "##### Load Model #####\n",
    "device = \"cuda\" if torch.cuda.is_available() else \"cpu\"\n",
    "print(device)\n",
    "model, _, preprocess = open_clip.create_model_and_transforms('ViT-L-14', device=device, pretrained='datacomp_xl_s13b_b90k')"
   ]
  },
  {
   "cell_type": "code",
   "execution_count": 11,
   "id": "fe275161",
   "metadata": {
    "execution": {
     "iopub.execute_input": "2023-10-02T02:04:53.769944Z",
     "iopub.status.busy": "2023-10-02T02:04:53.769409Z",
     "iopub.status.idle": "2023-10-02T03:06:06.664115Z",
     "shell.execute_reply": "2023-10-02T03:06:06.663227Z"
    },
    "papermill": {
     "duration": 3672.944639,
     "end_time": "2023-10-02T03:06:06.704722",
     "exception": false,
     "start_time": "2023-10-02T02:04:53.760083",
     "status": "completed"
    },
    "tags": []
   },
   "outputs": [
    {
     "name": "stderr",
     "output_type": "stream",
     "text": [
      "  0%|          | 0/3 [00:00<?, ?it/s]/var/folders/fw/f3018xmn4d91q9730vjl_p_r0000gn/T/ipykernel_44417/1485413450.py:24: FutureWarning: `torch.cuda.amp.autocast(args...)` is deprecated. Please use `torch.amp.autocast('cuda', args...)` instead.\n",
      "  with torch.no_grad(), torch.cuda.amp.autocast():\n",
      "100%|██████████| 2/2 [00:03<00:00,  2.00s/it]\n",
      "100%|██████████| 2/2 [00:12<00:00,  6.16s/it]\n",
      "100%|██████████| 2/2 [00:02<00:00,  1.09s/it]\n",
      "100%|██████████| 3/3 [00:18<00:00,  6.17s/it]\n"
     ]
    }
   ],
   "source": [
    "bs = 4\n",
    "save_dir = './CLIPv2_features'\n",
    "if not os.path.exists(save_dir):\n",
    "  os.mkdir(save_dir)\n",
    "\n",
    "for key, video_keyframe_paths in tqdm(all_keyframe_paths.items()):\n",
    "    video_ids = sorted(video_keyframe_paths.keys())\n",
    "    \n",
    "    if not os.path.exists(os.path.join(save_dir, key)):\n",
    "        os.mkdir(os.path.join(save_dir, key))\n",
    "    \n",
    "    for video_id in tqdm(video_ids):\n",
    "        video_feats = []\n",
    "        video_keyframe_path = video_keyframe_paths[video_id]\n",
    "        for i in range(0, len(video_keyframe_path), bs):\n",
    "            # Support batchsize inferencing\n",
    "            images = []\n",
    "            image_paths = video_keyframe_path[i:i+bs]\n",
    "            for image_path in image_paths:\n",
    "                image = preprocess(Image.open(image_path)).unsqueeze(0)\n",
    "                images.append(image)\n",
    "            images = torch.cat(images).to(device)\n",
    "\n",
    "            with torch.no_grad(), torch.cuda.amp.autocast():\n",
    "                image_feats = model.encode_image(images)\n",
    "            image_feats /= image_feats.norm(dim=-1, keepdim=True)\n",
    "\n",
    "            for b in range(image_feats.shape[0]):\n",
    "                video_feats.append(image_feats[b].detach().cpu().numpy().astype(np.float32).flatten())\n",
    "        \n",
    "        np.save(f'{save_dir}/{key}/{video_id}.npy', video_feats)"
   ]
  }
 ],
 "metadata": {
  "kernelspec": {
   "display_name": "base",
   "language": "python",
   "name": "python3"
  },
  "language_info": {
   "codemirror_mode": {
    "name": "ipython",
    "version": 3
   },
   "file_extension": ".py",
   "mimetype": "text/x-python",
   "name": "python",
   "nbconvert_exporter": "python",
   "pygments_lexer": "ipython3",
   "version": "3.12.4"
  },
  "papermill": {
   "default_parameters": {},
   "duration": 3728.148978,
   "end_time": "2023-10-02T03:06:09.468543",
   "environment_variables": {},
   "exception": null,
   "input_path": "__notebook__.ipynb",
   "output_path": "__notebook__.ipynb",
   "parameters": {},
   "start_time": "2023-10-02T02:04:01.319565",
   "version": "2.4.0"
  },
  "widgets": {
   "application/vnd.jupyter.widget-state+json": {
    "state": {
     "02748340baee4c35abf994bac6af4993": {
      "model_module": "@jupyter-widgets/controls",
      "model_module_version": "1.5.0",
      "model_name": "DescriptionStyleModel",
      "state": {
       "_model_module": "@jupyter-widgets/controls",
       "_model_module_version": "1.5.0",
       "_model_name": "DescriptionStyleModel",
       "_view_count": null,
       "_view_module": "@jupyter-widgets/base",
       "_view_module_version": "1.2.0",
       "_view_name": "StyleView",
       "description_width": ""
      }
     },
     "4453635363ee4d75bedd7d0a6ac487dc": {
      "model_module": "@jupyter-widgets/controls",
      "model_module_version": "1.5.0",
      "model_name": "HTMLModel",
      "state": {
       "_dom_classes": [],
       "_model_module": "@jupyter-widgets/controls",
       "_model_module_version": "1.5.0",
       "_model_name": "HTMLModel",
       "_view_count": null,
       "_view_module": "@jupyter-widgets/controls",
       "_view_module_version": "1.5.0",
       "_view_name": "HTMLView",
       "description": "",
       "description_tooltip": null,
       "layout": "IPY_MODEL_82e967eaeace484a8fb9701f873d7a59",
       "placeholder": "​",
       "style": "IPY_MODEL_8955cfd77ce34c9687f4266f941a0c61",
       "value": " 1.71G/1.71G [00:06&lt;00:00, 247MB/s]"
      }
     },
     "80dde6d9167e4dfaba7894cb61cfe458": {
      "model_module": "@jupyter-widgets/base",
      "model_module_version": "1.2.0",
      "model_name": "LayoutModel",
      "state": {
       "_model_module": "@jupyter-widgets/base",
       "_model_module_version": "1.2.0",
       "_model_name": "LayoutModel",
       "_view_count": null,
       "_view_module": "@jupyter-widgets/base",
       "_view_module_version": "1.2.0",
       "_view_name": "LayoutView",
       "align_content": null,
       "align_items": null,
       "align_self": null,
       "border": null,
       "bottom": null,
       "display": null,
       "flex": null,
       "flex_flow": null,
       "grid_area": null,
       "grid_auto_columns": null,
       "grid_auto_flow": null,
       "grid_auto_rows": null,
       "grid_column": null,
       "grid_gap": null,
       "grid_row": null,
       "grid_template_areas": null,
       "grid_template_columns": null,
       "grid_template_rows": null,
       "height": null,
       "justify_content": null,
       "justify_items": null,
       "left": null,
       "margin": null,
       "max_height": null,
       "max_width": null,
       "min_height": null,
       "min_width": null,
       "object_fit": null,
       "object_position": null,
       "order": null,
       "overflow": null,
       "overflow_x": null,
       "overflow_y": null,
       "padding": null,
       "right": null,
       "top": null,
       "visibility": null,
       "width": null
      }
     },
     "82e967eaeace484a8fb9701f873d7a59": {
      "model_module": "@jupyter-widgets/base",
      "model_module_version": "1.2.0",
      "model_name": "LayoutModel",
      "state": {
       "_model_module": "@jupyter-widgets/base",
       "_model_module_version": "1.2.0",
       "_model_name": "LayoutModel",
       "_view_count": null,
       "_view_module": "@jupyter-widgets/base",
       "_view_module_version": "1.2.0",
       "_view_name": "LayoutView",
       "align_content": null,
       "align_items": null,
       "align_self": null,
       "border": null,
       "bottom": null,
       "display": null,
       "flex": null,
       "flex_flow": null,
       "grid_area": null,
       "grid_auto_columns": null,
       "grid_auto_flow": null,
       "grid_auto_rows": null,
       "grid_column": null,
       "grid_gap": null,
       "grid_row": null,
       "grid_template_areas": null,
       "grid_template_columns": null,
       "grid_template_rows": null,
       "height": null,
       "justify_content": null,
       "justify_items": null,
       "left": null,
       "margin": null,
       "max_height": null,
       "max_width": null,
       "min_height": null,
       "min_width": null,
       "object_fit": null,
       "object_position": null,
       "order": null,
       "overflow": null,
       "overflow_x": null,
       "overflow_y": null,
       "padding": null,
       "right": null,
       "top": null,
       "visibility": null,
       "width": null
      }
     },
     "8955cfd77ce34c9687f4266f941a0c61": {
      "model_module": "@jupyter-widgets/controls",
      "model_module_version": "1.5.0",
      "model_name": "DescriptionStyleModel",
      "state": {
       "_model_module": "@jupyter-widgets/controls",
       "_model_module_version": "1.5.0",
       "_model_name": "DescriptionStyleModel",
       "_view_count": null,
       "_view_module": "@jupyter-widgets/base",
       "_view_module_version": "1.2.0",
       "_view_name": "StyleView",
       "description_width": ""
      }
     },
     "a50b15c779ac47b49efcec812f174e7f": {
      "model_module": "@jupyter-widgets/base",
      "model_module_version": "1.2.0",
      "model_name": "LayoutModel",
      "state": {
       "_model_module": "@jupyter-widgets/base",
       "_model_module_version": "1.2.0",
       "_model_name": "LayoutModel",
       "_view_count": null,
       "_view_module": "@jupyter-widgets/base",
       "_view_module_version": "1.2.0",
       "_view_name": "LayoutView",
       "align_content": null,
       "align_items": null,
       "align_self": null,
       "border": null,
       "bottom": null,
       "display": null,
       "flex": null,
       "flex_flow": null,
       "grid_area": null,
       "grid_auto_columns": null,
       "grid_auto_flow": null,
       "grid_auto_rows": null,
       "grid_column": null,
       "grid_gap": null,
       "grid_row": null,
       "grid_template_areas": null,
       "grid_template_columns": null,
       "grid_template_rows": null,
       "height": null,
       "justify_content": null,
       "justify_items": null,
       "left": null,
       "margin": null,
       "max_height": null,
       "max_width": null,
       "min_height": null,
       "min_width": null,
       "object_fit": null,
       "object_position": null,
       "order": null,
       "overflow": null,
       "overflow_x": null,
       "overflow_y": null,
       "padding": null,
       "right": null,
       "top": null,
       "visibility": null,
       "width": null
      }
     },
     "a5e58289101a46219aee7ef25ecb3ec9": {
      "model_module": "@jupyter-widgets/controls",
      "model_module_version": "1.5.0",
      "model_name": "HTMLModel",
      "state": {
       "_dom_classes": [],
       "_model_module": "@jupyter-widgets/controls",
       "_model_module_version": "1.5.0",
       "_model_name": "HTMLModel",
       "_view_count": null,
       "_view_module": "@jupyter-widgets/controls",
       "_view_module_version": "1.5.0",
       "_view_name": "HTMLView",
       "description": "",
       "description_tooltip": null,
       "layout": "IPY_MODEL_80dde6d9167e4dfaba7894cb61cfe458",
       "placeholder": "​",
       "style": "IPY_MODEL_02748340baee4c35abf994bac6af4993",
       "value": "Downloading (…)ip_pytorch_model.bin: 100%"
      }
     },
     "c894535a8bbc4aab8caca8a429ccf221": {
      "model_module": "@jupyter-widgets/controls",
      "model_module_version": "1.5.0",
      "model_name": "HBoxModel",
      "state": {
       "_dom_classes": [],
       "_model_module": "@jupyter-widgets/controls",
       "_model_module_version": "1.5.0",
       "_model_name": "HBoxModel",
       "_view_count": null,
       "_view_module": "@jupyter-widgets/controls",
       "_view_module_version": "1.5.0",
       "_view_name": "HBoxView",
       "box_style": "",
       "children": [
        "IPY_MODEL_a5e58289101a46219aee7ef25ecb3ec9",
        "IPY_MODEL_f8ad8531af8d491f8bc31fc6b706a95f",
        "IPY_MODEL_4453635363ee4d75bedd7d0a6ac487dc"
       ],
       "layout": "IPY_MODEL_d84d1e4c467749c5a74ca24183cc5382"
      }
     },
     "d5c4c5d2013c4653afa31b39e22ad076": {
      "model_module": "@jupyter-widgets/controls",
      "model_module_version": "1.5.0",
      "model_name": "ProgressStyleModel",
      "state": {
       "_model_module": "@jupyter-widgets/controls",
       "_model_module_version": "1.5.0",
       "_model_name": "ProgressStyleModel",
       "_view_count": null,
       "_view_module": "@jupyter-widgets/base",
       "_view_module_version": "1.2.0",
       "_view_name": "StyleView",
       "bar_color": null,
       "description_width": ""
      }
     },
     "d84d1e4c467749c5a74ca24183cc5382": {
      "model_module": "@jupyter-widgets/base",
      "model_module_version": "1.2.0",
      "model_name": "LayoutModel",
      "state": {
       "_model_module": "@jupyter-widgets/base",
       "_model_module_version": "1.2.0",
       "_model_name": "LayoutModel",
       "_view_count": null,
       "_view_module": "@jupyter-widgets/base",
       "_view_module_version": "1.2.0",
       "_view_name": "LayoutView",
       "align_content": null,
       "align_items": null,
       "align_self": null,
       "border": null,
       "bottom": null,
       "display": null,
       "flex": null,
       "flex_flow": null,
       "grid_area": null,
       "grid_auto_columns": null,
       "grid_auto_flow": null,
       "grid_auto_rows": null,
       "grid_column": null,
       "grid_gap": null,
       "grid_row": null,
       "grid_template_areas": null,
       "grid_template_columns": null,
       "grid_template_rows": null,
       "height": null,
       "justify_content": null,
       "justify_items": null,
       "left": null,
       "margin": null,
       "max_height": null,
       "max_width": null,
       "min_height": null,
       "min_width": null,
       "object_fit": null,
       "object_position": null,
       "order": null,
       "overflow": null,
       "overflow_x": null,
       "overflow_y": null,
       "padding": null,
       "right": null,
       "top": null,
       "visibility": null,
       "width": null
      }
     },
     "f8ad8531af8d491f8bc31fc6b706a95f": {
      "model_module": "@jupyter-widgets/controls",
      "model_module_version": "1.5.0",
      "model_name": "FloatProgressModel",
      "state": {
       "_dom_classes": [],
       "_model_module": "@jupyter-widgets/controls",
       "_model_module_version": "1.5.0",
       "_model_name": "FloatProgressModel",
       "_view_count": null,
       "_view_module": "@jupyter-widgets/controls",
       "_view_module_version": "1.5.0",
       "_view_name": "ProgressView",
       "bar_style": "success",
       "description": "",
       "description_tooltip": null,
       "layout": "IPY_MODEL_a50b15c779ac47b49efcec812f174e7f",
       "max": 1710639109,
       "min": 0,
       "orientation": "horizontal",
       "style": "IPY_MODEL_d5c4c5d2013c4653afa31b39e22ad076",
       "value": 1710639109
      }
     }
    },
    "version_major": 2,
    "version_minor": 0
   }
  }
 },
 "nbformat": 4,
 "nbformat_minor": 5
}
