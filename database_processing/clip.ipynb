{
 "cells": [
  {
   "cell_type": "code",
   "execution_count": 40,
   "id": "bd1c9b2b",
   "metadata": {
    "execution": {
     "iopub.execute_input": "2023-10-02T02:05:56.788678Z",
     "iopub.status.busy": "2023-10-02T02:05:56.787732Z",
     "iopub.status.idle": "2023-10-02T02:06:10.812756Z",
     "shell.execute_reply": "2023-10-02T02:06:10.811317Z"
    },
    "papermill": {
     "duration": 14.031224,
     "end_time": "2023-10-02T02:06:10.815255",
     "exception": false,
     "start_time": "2023-10-02T02:05:56.784031",
     "status": "completed"
    },
    "tags": []
   },
   "outputs": [],
   "source": [
    "# Instal dependency\n",
    "# !pip install git+https://github.com/openai/CLIP.git"
   ]
  },
  {
   "cell_type": "code",
   "execution_count": 41,
   "id": "fd8e768f",
   "metadata": {
    "execution": {
     "iopub.execute_input": "2023-10-02T02:06:10.822374Z",
     "iopub.status.busy": "2023-10-02T02:06:10.822078Z",
     "iopub.status.idle": "2023-10-02T02:06:14.353341Z",
     "shell.execute_reply": "2023-10-02T02:06:14.352374Z"
    },
    "papermill": {
     "duration": 3.537078,
     "end_time": "2023-10-02T02:06:14.355483",
     "exception": false,
     "start_time": "2023-10-02T02:06:10.818405",
     "status": "completed"
    },
    "tags": []
   },
   "outputs": [],
   "source": [
    "# Import module\n",
    "import os\n",
    "import clip\n",
    "import glob\n",
    "import torch\n",
    "import numpy as np\n",
    "from PIL import Image\n",
    "from tqdm import tqdm"
   ]
  },
  {
   "cell_type": "markdown",
   "id": "7905a8ef",
   "metadata": {
    "papermill": {
     "duration": 0.002507,
     "end_time": "2023-10-02T02:06:14.360741",
     "exception": false,
     "start_time": "2023-10-02T02:06:14.358234",
     "status": "completed"
    },
    "tags": []
   },
   "source": [
    "# Parse data path"
   ]
  },
  {
   "cell_type": "code",
   "execution_count": 42,
   "id": "e87790cc",
   "metadata": {
    "execution": {
     "iopub.execute_input": "2023-10-02T02:06:14.367342Z",
     "iopub.status.busy": "2023-10-02T02:06:14.366622Z",
     "iopub.status.idle": "2023-10-02T02:06:14.375348Z",
     "shell.execute_reply": "2023-10-02T02:06:14.374562Z"
    },
    "papermill": {
     "duration": 0.013787,
     "end_time": "2023-10-02T02:06:14.377050",
     "exception": false,
     "start_time": "2023-10-02T02:06:14.363263",
     "status": "completed"
    },
    "tags": []
   },
   "outputs": [
    {
     "name": "stdout",
     "output_type": "stream",
     "text": [
      "Video0\n",
      "Video0\n",
      "Video1\n",
      "Video1\n",
      "Video2\n",
      "Video2\n",
      "{'Video0': {'L00': ['/Users/huyenphung/Desktop/senior-project/keyframe_information/keyframe/Video0/L00/keyframe_10_44.611233.jpg', '/Users/huyenphung/Desktop/senior-project/keyframe_information/keyframe/Video0/L00/keyframe_11_52.952900.jpg', '/Users/huyenphung/Desktop/senior-project/keyframe_information/keyframe/Video0/L00/keyframe_12_58.825433.jpg', '/Users/huyenphung/Desktop/senior-project/keyframe_information/keyframe/Video0/L00/keyframe_13_67.167100.jpg', '/Users/huyenphung/Desktop/senior-project/keyframe_information/keyframe/Video0/L00/keyframe_14_73.573500.jpg', '/Users/huyenphung/Desktop/senior-project/keyframe_information/keyframe/Video0/L00/keyframe_15_77.811067.jpg', '/Users/huyenphung/Desktop/senior-project/keyframe_information/keyframe/Video0/L00/keyframe_16_86.152733.jpg', '/Users/huyenphung/Desktop/senior-project/keyframe_information/keyframe/Video0/L00/keyframe_17_88.988900.jpg', '/Users/huyenphung/Desktop/senior-project/keyframe_information/keyframe/Video0/L00/keyframe_18_90.457033.jpg', '/Users/huyenphung/Desktop/senior-project/keyframe_information/keyframe/Video0/L00/keyframe_1_0.000000.jpg', '/Users/huyenphung/Desktop/senior-project/keyframe_information/keyframe/Video0/L00/keyframe_2_2.502500.jpg', '/Users/huyenphung/Desktop/senior-project/keyframe_information/keyframe/Video0/L00/keyframe_3_3.603600.jpg', '/Users/huyenphung/Desktop/senior-project/keyframe_information/keyframe/Video0/L00/keyframe_4_4.804800.jpg', '/Users/huyenphung/Desktop/senior-project/keyframe_information/keyframe/Video0/L00/keyframe_5_5.739067.jpg', '/Users/huyenphung/Desktop/senior-project/keyframe_information/keyframe/Video0/L00/keyframe_6_11.244567.jpg', '/Users/huyenphung/Desktop/senior-project/keyframe_information/keyframe/Video0/L00/keyframe_7_19.586233.jpg', '/Users/huyenphung/Desktop/senior-project/keyframe_information/keyframe/Video0/L00/keyframe_8_27.927900.jpg', '/Users/huyenphung/Desktop/senior-project/keyframe_information/keyframe/Video0/L00/keyframe_9_36.269567.jpg'], 'reduced': []}, 'Video1': {'L01': ['/Users/huyenphung/Desktop/senior-project/keyframe_information/keyframe/Video1/L01/keyframe_10_9.608333.jpg', '/Users/huyenphung/Desktop/senior-project/keyframe_information/keyframe/Video1/L01/keyframe_11_10.676667.jpg', '/Users/huyenphung/Desktop/senior-project/keyframe_information/keyframe/Video1/L01/keyframe_12_11.743333.jpg', '/Users/huyenphung/Desktop/senior-project/keyframe_information/keyframe/Video1/L01/keyframe_13_12.811667.jpg', '/Users/huyenphung/Desktop/senior-project/keyframe_information/keyframe/Video1/L01/keyframe_14_13.878333.jpg', '/Users/huyenphung/Desktop/senior-project/keyframe_information/keyframe/Video1/L01/keyframe_15_14.946667.jpg', '/Users/huyenphung/Desktop/senior-project/keyframe_information/keyframe/Video1/L01/keyframe_16_16.013333.jpg', '/Users/huyenphung/Desktop/senior-project/keyframe_information/keyframe/Video1/L01/keyframe_17_17.081667.jpg', '/Users/huyenphung/Desktop/senior-project/keyframe_information/keyframe/Video1/L01/keyframe_18_18.148333.jpg', '/Users/huyenphung/Desktop/senior-project/keyframe_information/keyframe/Video1/L01/keyframe_19_19.216667.jpg', '/Users/huyenphung/Desktop/senior-project/keyframe_information/keyframe/Video1/L01/keyframe_1_0.000000.jpg', '/Users/huyenphung/Desktop/senior-project/keyframe_information/keyframe/Video1/L01/keyframe_20_20.285000.jpg', '/Users/huyenphung/Desktop/senior-project/keyframe_information/keyframe/Video1/L01/keyframe_21_21.351667.jpg', '/Users/huyenphung/Desktop/senior-project/keyframe_information/keyframe/Video1/L01/keyframe_22_22.420000.jpg', '/Users/huyenphung/Desktop/senior-project/keyframe_information/keyframe/Video1/L01/keyframe_23_23.486667.jpg', '/Users/huyenphung/Desktop/senior-project/keyframe_information/keyframe/Video1/L01/keyframe_24_24.555000.jpg', '/Users/huyenphung/Desktop/senior-project/keyframe_information/keyframe/Video1/L01/keyframe_25_25.623333.jpg', '/Users/huyenphung/Desktop/senior-project/keyframe_information/keyframe/Video1/L01/keyframe_26_26.690000.jpg', '/Users/huyenphung/Desktop/senior-project/keyframe_information/keyframe/Video1/L01/keyframe_27_27.758333.jpg', '/Users/huyenphung/Desktop/senior-project/keyframe_information/keyframe/Video1/L01/keyframe_28_28.825000.jpg', '/Users/huyenphung/Desktop/senior-project/keyframe_information/keyframe/Video1/L01/keyframe_29_29.893333.jpg', '/Users/huyenphung/Desktop/senior-project/keyframe_information/keyframe/Video1/L01/keyframe_2_1.068333.jpg', '/Users/huyenphung/Desktop/senior-project/keyframe_information/keyframe/Video1/L01/keyframe_30_30.960000.jpg', '/Users/huyenphung/Desktop/senior-project/keyframe_information/keyframe/Video1/L01/keyframe_31_32.028333.jpg', '/Users/huyenphung/Desktop/senior-project/keyframe_information/keyframe/Video1/L01/keyframe_32_33.095000.jpg', '/Users/huyenphung/Desktop/senior-project/keyframe_information/keyframe/Video1/L01/keyframe_33_34.161667.jpg', '/Users/huyenphung/Desktop/senior-project/keyframe_information/keyframe/Video1/L01/keyframe_34_35.230000.jpg', '/Users/huyenphung/Desktop/senior-project/keyframe_information/keyframe/Video1/L01/keyframe_35_36.296667.jpg', '/Users/huyenphung/Desktop/senior-project/keyframe_information/keyframe/Video1/L01/keyframe_36_37.365000.jpg', '/Users/huyenphung/Desktop/senior-project/keyframe_information/keyframe/Video1/L01/keyframe_37_38.431667.jpg', '/Users/huyenphung/Desktop/senior-project/keyframe_information/keyframe/Video1/L01/keyframe_38_39.500000.jpg', '/Users/huyenphung/Desktop/senior-project/keyframe_information/keyframe/Video1/L01/keyframe_39_40.568333.jpg', '/Users/huyenphung/Desktop/senior-project/keyframe_information/keyframe/Video1/L01/keyframe_3_2.135000.jpg', '/Users/huyenphung/Desktop/senior-project/keyframe_information/keyframe/Video1/L01/keyframe_40_41.635000.jpg', '/Users/huyenphung/Desktop/senior-project/keyframe_information/keyframe/Video1/L01/keyframe_41_42.703333.jpg', '/Users/huyenphung/Desktop/senior-project/keyframe_information/keyframe/Video1/L01/keyframe_42_43.770000.jpg', '/Users/huyenphung/Desktop/senior-project/keyframe_information/keyframe/Video1/L01/keyframe_43_44.838333.jpg', '/Users/huyenphung/Desktop/senior-project/keyframe_information/keyframe/Video1/L01/keyframe_44_45.905000.jpg', '/Users/huyenphung/Desktop/senior-project/keyframe_information/keyframe/Video1/L01/keyframe_45_46.973333.jpg', '/Users/huyenphung/Desktop/senior-project/keyframe_information/keyframe/Video1/L01/keyframe_46_48.040000.jpg', '/Users/huyenphung/Desktop/senior-project/keyframe_information/keyframe/Video1/L01/keyframe_47_49.108333.jpg', '/Users/huyenphung/Desktop/senior-project/keyframe_information/keyframe/Video1/L01/keyframe_48_50.176667.jpg', '/Users/huyenphung/Desktop/senior-project/keyframe_information/keyframe/Video1/L01/keyframe_49_51.243333.jpg', '/Users/huyenphung/Desktop/senior-project/keyframe_information/keyframe/Video1/L01/keyframe_4_3.203333.jpg', '/Users/huyenphung/Desktop/senior-project/keyframe_information/keyframe/Video1/L01/keyframe_50_52.311667.jpg', '/Users/huyenphung/Desktop/senior-project/keyframe_information/keyframe/Video1/L01/keyframe_51_53.378333.jpg', '/Users/huyenphung/Desktop/senior-project/keyframe_information/keyframe/Video1/L01/keyframe_52_54.446667.jpg', '/Users/huyenphung/Desktop/senior-project/keyframe_information/keyframe/Video1/L01/keyframe_53_55.513333.jpg', '/Users/huyenphung/Desktop/senior-project/keyframe_information/keyframe/Video1/L01/keyframe_54_56.581667.jpg', '/Users/huyenphung/Desktop/senior-project/keyframe_information/keyframe/Video1/L01/keyframe_55_57.648333.jpg', '/Users/huyenphung/Desktop/senior-project/keyframe_information/keyframe/Video1/L01/keyframe_56_58.716667.jpg', '/Users/huyenphung/Desktop/senior-project/keyframe_information/keyframe/Video1/L01/keyframe_57_59.783333.jpg', '/Users/huyenphung/Desktop/senior-project/keyframe_information/keyframe/Video1/L01/keyframe_5_4.270000.jpg', '/Users/huyenphung/Desktop/senior-project/keyframe_information/keyframe/Video1/L01/keyframe_6_5.338333.jpg', '/Users/huyenphung/Desktop/senior-project/keyframe_information/keyframe/Video1/L01/keyframe_7_6.405000.jpg', '/Users/huyenphung/Desktop/senior-project/keyframe_information/keyframe/Video1/L01/keyframe_8_7.473333.jpg', '/Users/huyenphung/Desktop/senior-project/keyframe_information/keyframe/Video1/L01/keyframe_9_8.540000.jpg'], 'reduced': []}, 'Video2': {'L02': ['/Users/huyenphung/Desktop/senior-project/keyframe_information/keyframe/Video2/L02/keyframe_10_9.600000.jpg', '/Users/huyenphung/Desktop/senior-project/keyframe_information/keyframe/Video2/L02/keyframe_1_0.000000.jpg', '/Users/huyenphung/Desktop/senior-project/keyframe_information/keyframe/Video2/L02/keyframe_2_1.066667.jpg', '/Users/huyenphung/Desktop/senior-project/keyframe_information/keyframe/Video2/L02/keyframe_3_2.133333.jpg', '/Users/huyenphung/Desktop/senior-project/keyframe_information/keyframe/Video2/L02/keyframe_4_3.200000.jpg', '/Users/huyenphung/Desktop/senior-project/keyframe_information/keyframe/Video2/L02/keyframe_5_4.266667.jpg', '/Users/huyenphung/Desktop/senior-project/keyframe_information/keyframe/Video2/L02/keyframe_6_5.333333.jpg', '/Users/huyenphung/Desktop/senior-project/keyframe_information/keyframe/Video2/L02/keyframe_7_6.400000.jpg', '/Users/huyenphung/Desktop/senior-project/keyframe_information/keyframe/Video2/L02/keyframe_8_7.466667.jpg', '/Users/huyenphung/Desktop/senior-project/keyframe_information/keyframe/Video2/L02/keyframe_9_8.533333.jpg'], 'reduced': []}}\n"
     ]
    }
   ],
   "source": [
    "keyframes_dir = '/Users/huyenphung/Desktop/senior-project/keyframe_information/keyframe'\n",
    "all_keyframe_paths = dict()\n",
    "for part in sorted(os.listdir(keyframes_dir)):\n",
    "    print(part)\n",
    "    data_part = part.split('_')[-1]\n",
    "    print(data_part)\n",
    "    all_keyframe_paths[data_part] =  dict()\n",
    "\n",
    "for data_part in sorted(all_keyframe_paths.keys()):\n",
    "    data_part_path = f'{keyframes_dir}/{data_part}'\n",
    "    video_dirs = sorted(os.listdir(data_part_path))\n",
    "    # if (data_part != \"reduced\"):\n",
    "    #     video_dirs = sorted(os.listdir(data_part_path))\n",
    "    video_ids = [video_dir.split('_')[-1] for video_dir in video_dirs]\n",
    "    for video_id, video_dir in zip(video_ids, video_dirs):\n",
    "        keyframe_paths = sorted(glob.glob(f'{data_part_path}/{video_dir}/*.jpg'))\n",
    "        all_keyframe_paths[data_part][video_id] = keyframe_paths\n",
    "\n",
    "print(all_keyframe_paths)"
   ]
  },
  {
   "cell_type": "markdown",
   "id": "ebe290e0",
   "metadata": {
    "papermill": {
     "duration": 0.002442,
     "end_time": "2023-10-02T02:06:23.433706",
     "exception": false,
     "start_time": "2023-10-02T02:06:23.431264",
     "status": "completed"
    },
    "tags": []
   },
   "source": [
    "# Model"
   ]
  },
  {
   "cell_type": "code",
   "execution_count": 43,
   "id": "424da2e0",
   "metadata": {
    "execution": {
     "iopub.execute_input": "2023-10-02T02:06:23.439960Z",
     "iopub.status.busy": "2023-10-02T02:06:23.439447Z",
     "iopub.status.idle": "2023-10-02T02:06:33.208089Z",
     "shell.execute_reply": "2023-10-02T02:06:33.207104Z"
    },
    "papermill": {
     "duration": 9.774202,
     "end_time": "2023-10-02T02:06:33.210354",
     "exception": false,
     "start_time": "2023-10-02T02:06:23.436152",
     "status": "completed"
    },
    "tags": []
   },
   "outputs": [
    {
     "name": "stdout",
     "output_type": "stream",
     "text": [
      "cpu\n"
     ]
    }
   ],
   "source": [
    "##### Load Model #####\n",
    "device = \"cuda\" if torch.cuda.is_available() else \"cpu\"\n",
    "print(device)\n",
    "model, preprocess = clip.load(\"ViT-B/16\", device=device)"
   ]
  },
  {
   "cell_type": "code",
   "execution_count": 44,
   "id": "80250af3",
   "metadata": {
    "execution": {
     "iopub.execute_input": "2023-10-02T02:06:33.220900Z",
     "iopub.status.busy": "2023-10-02T02:06:33.220619Z",
     "iopub.status.idle": "2023-10-02T02:40:44.711794Z",
     "shell.execute_reply": "2023-10-02T02:40:44.710894Z"
    },
    "papermill": {
     "duration": 2051.513776,
     "end_time": "2023-10-02T02:40:44.729565",
     "exception": false,
     "start_time": "2023-10-02T02:06:33.215789",
     "status": "completed"
    },
    "tags": []
   },
   "outputs": [
    {
     "name": "stderr",
     "output_type": "stream",
     "text": [
      "100%|██████████| 2/2 [00:01<00:00,  1.54it/s]\n",
      "100%|██████████| 2/2 [00:04<00:00,  2.08s/it]\n",
      "100%|██████████| 2/2 [00:00<00:00,  3.50it/s]\n"
     ]
    }
   ],
   "source": [
    "bs = 4\n",
    "save_dir = './CLIP_features'\n",
    "if not os.path.exists(save_dir):\n",
    "    os.mkdir(save_dir)\n",
    "\n",
    "for key, video_keyframe_paths in all_keyframe_paths.items():\n",
    "    video_ids = sorted(video_keyframe_paths.keys())\n",
    "    \n",
    "    if not os.path.exists(os.path.join(save_dir, key)):\n",
    "        os.mkdir(os.path.join(save_dir, key))\n",
    "    \n",
    "    for video_id in tqdm(video_ids):\n",
    "        video_feats = []\n",
    "        video_keyframe_path = video_keyframe_paths[video_id]\n",
    "        for i in range(0, len(video_keyframe_path), bs):\n",
    "            # Support batchsize inferencing\n",
    "            images = []\n",
    "            image_paths = video_keyframe_path[i:i+bs]\n",
    "            for image_path in image_paths:\n",
    "                image = preprocess(Image.open(image_path)).unsqueeze(0)\n",
    "                images.append(image)\n",
    "            images = torch.cat(images).to(device)\n",
    "\n",
    "            with torch.no_grad():\n",
    "                image_feats = model.encode_image(images)\n",
    "            image_feats /= image_feats.norm(dim=-1, keepdim=True)\n",
    "\n",
    "            for b in range(image_feats.shape[0]):\n",
    "                video_feats.append(image_feats[b].detach().cpu().numpy().astype(np.float32).flatten())\n",
    "        \n",
    "        np.save(f'{save_dir}/{key}/{video_id}.npy', video_feats)"
   ]
  }
 ],
 "metadata": {
  "kernelspec": {
   "display_name": "base",
   "language": "python",
   "name": "python3"
  },
  "language_info": {
   "codemirror_mode": {
    "name": "ipython",
    "version": 3
   },
   "file_extension": ".py",
   "mimetype": "text/x-python",
   "name": "python",
   "nbconvert_exporter": "python",
   "pygments_lexer": "ipython3",
   "version": "3.12.4"
  },
  "papermill": {
   "default_parameters": {},
   "duration": 2098.358862,
   "end_time": "2023-10-02T02:40:47.345310",
   "environment_variables": {},
   "exception": null,
   "input_path": "__notebook__.ipynb",
   "output_path": "__notebook__.ipynb",
   "parameters": {},
   "start_time": "2023-10-02T02:05:48.986448",
   "version": "2.4.0"
  }
 },
 "nbformat": 4,
 "nbformat_minor": 5
}
