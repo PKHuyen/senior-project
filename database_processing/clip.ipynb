{
 "cells": [
  {
   "cell_type": "code",
   "execution_count": null,
   "id": "bd1c9b2b",
   "metadata": {
    "execution": {
     "iopub.execute_input": "2023-10-02T02:05:56.788678Z",
     "iopub.status.busy": "2023-10-02T02:05:56.787732Z",
     "iopub.status.idle": "2023-10-02T02:06:10.812756Z",
     "shell.execute_reply": "2023-10-02T02:06:10.811317Z"
    },
    "papermill": {
     "duration": 14.031224,
     "end_time": "2023-10-02T02:06:10.815255",
     "exception": false,
     "start_time": "2023-10-02T02:05:56.784031",
     "status": "completed"
    },
    "tags": []
   },
   "outputs": [],
   "source": [
    "# Instal dependency\n",
    "%pip install git+https://github.com/openai/CLIP.git"
   ]
  },
  {
   "cell_type": "code",
   "execution_count": null,
   "id": "fd8e768f",
   "metadata": {
    "execution": {
     "iopub.execute_input": "2023-10-02T02:06:10.822374Z",
     "iopub.status.busy": "2023-10-02T02:06:10.822078Z",
     "iopub.status.idle": "2023-10-02T02:06:14.353341Z",
     "shell.execute_reply": "2023-10-02T02:06:14.352374Z"
    },
    "papermill": {
     "duration": 3.537078,
     "end_time": "2023-10-02T02:06:14.355483",
     "exception": false,
     "start_time": "2023-10-02T02:06:10.818405",
     "status": "completed"
    },
    "tags": []
   },
   "outputs": [],
   "source": [
    "# Import module\n",
    "import os\n",
    "import clip\n",
    "import glob\n",
    "import torch\n",
    "import numpy as np\n",
    "from PIL import Image\n",
    "from tqdm import tqdm"
   ]
  },
  {
   "cell_type": "markdown",
   "id": "7905a8ef",
   "metadata": {
    "papermill": {
     "duration": 0.002507,
     "end_time": "2023-10-02T02:06:14.360741",
     "exception": false,
     "start_time": "2023-10-02T02:06:14.358234",
     "status": "completed"
    },
    "tags": []
   },
   "source": [
    "# Parse data path"
   ]
  },
  {
   "cell_type": "code",
   "execution_count": null,
   "id": "33d5a696",
   "metadata": {},
   "outputs": [],
   "source": [
    "from google_auth_oauthlib.flow import InstalledAppFlow\n",
    "from googleapiclient.discovery import build\n",
    "from googleapiclient.errors import HttpError\n",
    "\n",
    "SCOPES = 'https://www.googleapis.com/auth/drive'\n",
    "CLIENT_SECRET = '../credentials.json'\n",
    "keyframes_dir_id = '1bqJG0CRIIuVIib3pBcA2k8iiRyWlwmq9'\n",
    "\n",
    "flow = InstalledAppFlow.from_client_secrets_file(CLIENT_SECRET, SCOPES)\n",
    "creds = flow.run_local_server(port=8502)\n",
    "service = build('drive', 'v3', credentials=creds)\n",
    "\n",
    "def list_folder_contents(folder_id):\n",
    "    \"\"\"List all files and folders within a specified Google Drive folder.\"\"\"\n",
    "    query = f\"'{folder_id}' in parents and trashed = false\"\n",
    "    files = []\n",
    "    try:\n",
    "        results = service.files().list(q=query, fields=\"files(id, name, mimeType)\").execute()\n",
    "        files = results.get('files', [])\n",
    "    except HttpError as error:\n",
    "        print(f\"An error occurred: {error}\")\n",
    "    return files\n",
    "\n",
    "all_keyframe_paths = {}\n",
    "\n",
    "video_folders = list_folder_contents(keyframes_dir_id)\n",
    "for video_folder in video_folders:\n",
    "    if video_folder['name'] == '.DS_Store' or not video_folder['name'].startswith('Video'):\n",
    "        continue\n",
    "    \n",
    "    video_name = video_folder['name']\n",
    "    all_keyframe_paths[video_name] = {}\n",
    "    \n",
    "    subfolders = list_folder_contents(video_folder['id'])\n",
    "    for subfolder in subfolders:\n",
    "        if subfolder['name'] == '.DS_Store' or '_reduced' in subfolder['name']:\n",
    "            continue\n",
    "        \n",
    "        subfolder_name = subfolder['name']\n",
    "        all_keyframe_paths[video_name][subfolder_name] = []\n",
    "        \n",
    "        keyframe_files = list_folder_contents(subfolder['id'])\n",
    "        for keyframe_file in keyframe_files:\n",
    "            if keyframe_file['mimeType'] in ['image/jpeg', 'image/jpg'] and keyframe_file['name'] != '.DS_Store':\n",
    "                file_url = f'https://drive.google.com/uc?id={keyframe_file[\"id\"]}'\n",
    "                all_keyframe_paths[video_name][subfolder_name].append(file_url)\n",
    "\n",
    "print(all_keyframe_paths)"
   ]
  },
  {
   "cell_type": "markdown",
   "id": "ebe290e0",
   "metadata": {
    "papermill": {
     "duration": 0.002442,
     "end_time": "2023-10-02T02:06:23.433706",
     "exception": false,
     "start_time": "2023-10-02T02:06:23.431264",
     "status": "completed"
    },
    "tags": []
   },
   "source": [
    "# Model"
   ]
  },
  {
   "cell_type": "code",
   "execution_count": null,
   "id": "424da2e0",
   "metadata": {
    "execution": {
     "iopub.execute_input": "2023-10-02T02:06:23.439960Z",
     "iopub.status.busy": "2023-10-02T02:06:23.439447Z",
     "iopub.status.idle": "2023-10-02T02:06:33.208089Z",
     "shell.execute_reply": "2023-10-02T02:06:33.207104Z"
    },
    "papermill": {
     "duration": 9.774202,
     "end_time": "2023-10-02T02:06:33.210354",
     "exception": false,
     "start_time": "2023-10-02T02:06:23.436152",
     "status": "completed"
    },
    "tags": []
   },
   "outputs": [],
   "source": [
    "##### Load Model #####\n",
    "device = \"cuda\" if torch.cuda.is_available() else \"cpu\"\n",
    "print(device)\n",
    "model, preprocess = clip.load(\"ViT-B/16\", device=device)"
   ]
  },
  {
   "cell_type": "code",
   "execution_count": null,
   "id": "80250af3",
   "metadata": {
    "execution": {
     "iopub.execute_input": "2023-10-02T02:06:33.220900Z",
     "iopub.status.busy": "2023-10-02T02:06:33.220619Z",
     "iopub.status.idle": "2023-10-02T02:40:44.711794Z",
     "shell.execute_reply": "2023-10-02T02:40:44.710894Z"
    },
    "papermill": {
     "duration": 2051.513776,
     "end_time": "2023-10-02T02:40:44.729565",
     "exception": false,
     "start_time": "2023-10-02T02:06:33.215789",
     "status": "completed"
    },
    "tags": []
   },
   "outputs": [],
   "source": [
    "bs = 4\n",
    "save_dir = './CLIP_features'\n",
    "if not os.path.exists(save_dir):\n",
    "    os.mkdir(save_dir)\n",
    "\n",
    "for key, video_keyframe_paths in all_keyframe_paths.items():\n",
    "    video_ids = sorted(video_keyframe_paths.keys())\n",
    "    \n",
    "    if not os.path.exists(os.path.join(save_dir, key)):\n",
    "        os.mkdir(os.path.join(save_dir, key))\n",
    "    \n",
    "    for video_id in tqdm(video_ids):\n",
    "        video_feats = []\n",
    "        video_keyframe_path = video_keyframe_paths[video_id]\n",
    "        for i in range(0, len(video_keyframe_path), bs):\n",
    "            # Support batchsize inferencing\n",
    "            images = []\n",
    "            image_urls = video_keyframe_path[i:i+bs]\n",
    "            for image_url in image_urls:\n",
    "                print(image_url)\n",
    "                headers = {\n",
    "                    'User-Agent': 'Mozilla/5.0 (Windows NT 10.0; Win64; x64) AppleWebKit/537.36 (KHTML, like Gecko) Chrome/91.0.4472.124 Safari/537.36'\n",
    "                }\n",
    "                response = requests.get(image_url, headers=headers, allow_redirects=True)\n",
    "                \n",
    "                content_type = response.headers.get('content-type', '')\n",
    "                if 'image' not in content_type.lower():\n",
    "                    print(f\"Skipping non-image URL: {image_url}\")\n",
    "                    continue\n",
    "                \n",
    "                try:\n",
    "                    image = Image.open(BytesIO(response.content))\n",
    "                    image = preprocess(image).unsqueeze(0)\n",
    "                    images.append(image)\n",
    "                except Exception as e:\n",
    "                    print(f\"Error processing image {image_url}: {e}\")\n",
    "                    continue\n",
    "            \n",
    "            if not images:\n",
    "                print(f\"No valid images for {video_id}\")\n",
    "                continue\n",
    "            \n",
    "            images = torch.cat(images).to(device)\n",
    "\n",
    "            with torch.no_grad():\n",
    "                image_feats = model.encode_image(images)\n",
    "            image_feats /= image_feats.norm(dim=-1, keepdim=True)\n",
    "\n",
    "            for b in range(image_feats.shape[0]):\n",
    "                video_feats.append(image_feats[b].detach().cpu().numpy().astype(np.float32).flatten())\n",
    "        \n",
    "        np.save(f'{save_dir}/{key}/{video_id}.npy', video_feats)"
   ]
  }
 ],
 "metadata": {
  "kernelspec": {
   "display_name": "base",
   "language": "python",
   "name": "python3"
  },
  "language_info": {
   "codemirror_mode": {
    "name": "ipython",
    "version": 3
   },
   "file_extension": ".py",
   "mimetype": "text/x-python",
   "name": "python",
   "nbconvert_exporter": "python",
   "pygments_lexer": "ipython3",
   "version": "3.12.4"
  },
  "papermill": {
   "default_parameters": {},
   "duration": 2098.358862,
   "end_time": "2023-10-02T02:40:47.345310",
   "environment_variables": {},
   "exception": null,
   "input_path": "__notebook__.ipynb",
   "output_path": "__notebook__.ipynb",
   "parameters": {},
   "start_time": "2023-10-02T02:05:48.986448",
   "version": "2.4.0"
  }
 },
 "nbformat": 4,
 "nbformat_minor": 5
}
