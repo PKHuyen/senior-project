{
 "cells": [
  {
   "cell_type": "code",
   "execution_count": 25,
   "metadata": {},
   "outputs": [],
   "source": [
    "import os\n",
    "import sqlite3\n",
    "\n",
    "# Connects to an existing database or creates a new one\n",
    "db_path = os.path.join('/Users/huyenphung/Desktop', 'grp6_senior_thesis')\n",
    "conn = sqlite3.connect(db_path)\n",
    "cursor = conn.cursor()\n",
    "\n",
    "# Create table\n",
    "cursor.execute('''\n",
    "CREATE TABLE IF NOT EXISTS images (\n",
    "    frame_path TEXT NOT NULL,\n",
    "    video_ID TEXT NOT NULL,\n",
    "    time_frame TEXT PRIMARY KEY NOT NULL,\n",
    "    image_data BLOB NOT NULL\n",
    ")\n",
    "''')\n",
    "conn.commit()"
   ]
  },
  {
   "cell_type": "code",
   "execution_count": 26,
   "metadata": {},
   "outputs": [],
   "source": [
    "import os\n",
    "\n",
    "# Directory containing images\n",
    "image_dir = '../keyframe_information/keyframe'\n",
    "\n",
    "# Function to read image data\n",
    "def convert_to_binary(file_path):\n",
    "    with open(file_path, 'rb') as file:\n",
    "        return file.read()\n",
    "\n",
    "# Loop through each video folder and each file within those folders\n",
    "for video_folder in os.listdir(image_dir):\n",
    "    video_path = os.path.join(image_dir, video_folder)\n",
    "    \n",
    "    # Ensure it's a directory (e.g., Video0, Video1)\n",
    "    if os.path.isdir(video_path):\n",
    "        for filename in os.listdir(video_path):\n",
    "            file_path = os.path.join(video_path, filename)\n",
    "            \n",
    "            # Only process files (skip directories or non-image files if any)\n",
    "            if os.path.isfile(file_path):\n",
    "                binary_data = convert_to_binary(file_path)\n",
    "                \n",
    "                # Insert into the database\n",
    "                cursor.execute(\"\"\"\n",
    "                    INSERT INTO images (frame_path, video_ID, time_frame, image_data)\n",
    "                    VALUES (?, ?, ?, ?)\n",
    "                \"\"\", (file_path, video_folder, filename, binary_data))\n",
    "\n",
    "# Commit changes and close the connection\n",
    "conn.commit()\n"
   ]
  },
  {
   "cell_type": "code",
   "execution_count": 30,
   "metadata": {},
   "outputs": [
    {
     "name": "stdout",
     "output_type": "stream",
     "text": [
      "Images in the database:\n"
     ]
    }
   ],
   "source": [
    "# from PIL import Image\n",
    "# import io\n",
    "# import os\n",
    "\n",
    "# # Directory to save retrieved images\n",
    "# output_dir = 'retrieved_images'\n",
    "# os.makedirs(output_dir, exist_ok=True)\n",
    "\n",
    "# # Query to retrieve image data\n",
    "# cursor.execute(\"SELECT frame_path, video_ID, time_frame, image_data FROM images\")\n",
    "# rows = cursor.fetchall()\n",
    "\n",
    "# for row in rows:\n",
    "#     frame_path, video_ID, time_frame, image_data = row\n",
    "    \n",
    "#     # Convert binary data back to an image\n",
    "#     image = Image.open(io.BytesIO(image_data))\n",
    "    \n",
    "#     # Create subdirectories based on video_ID if they don't exist\n",
    "#     video_dir = os.path.join(output_dir, video_ID)\n",
    "#     os.makedirs(video_dir, exist_ok=True)\n",
    "    \n",
    "#     # Save the image with the original time frame name in the appropriate subdirectory\n",
    "#     output_path = os.path.join(video_dir, f\"retrieved_{time_frame}\")\n",
    "#     image.save(output_path)\n",
    "#     print(f\"Saved image to {output_path}\")\n",
    "\n",
    "import sqlite3\n",
    "\n",
    "# Connect to your SQLite database\n",
    "conn = sqlite3.connect('/Users/huyenphung/Desktop/grp6_senior_thesis.db')\n",
    "cursor = conn.cursor()\n",
    "\n",
    "# Query to retrieve all entries in the images table\n",
    "cursor.execute(\"SELECT frame_path, video_ID, time_frame FROM images\")\n",
    "rows = cursor.fetchall()\n",
    "\n",
    "# Print the details of each image entry in the database\n",
    "print(\"Images in the database:\")\n",
    "for row in rows:\n",
    "    frame_path, video_ID, time_frame = row\n",
    "    print(f\"Video ID: {video_ID}, Frame Path: {frame_path}, Time Frame: {time_frame}\")\n"
   ]
  },
  {
   "cell_type": "code",
   "execution_count": 28,
   "metadata": {},
   "outputs": [],
   "source": [
    "conn.close()"
   ]
  }
 ],
 "metadata": {
  "kernelspec": {
   "display_name": "base",
   "language": "python",
   "name": "python3"
  },
  "language_info": {
   "codemirror_mode": {
    "name": "ipython",
    "version": 3
   },
   "file_extension": ".py",
   "mimetype": "text/x-python",
   "name": "python",
   "nbconvert_exporter": "python",
   "pygments_lexer": "ipython3",
   "version": "3.12.4"
  }
 },
 "nbformat": 4,
 "nbformat_minor": 2
}
